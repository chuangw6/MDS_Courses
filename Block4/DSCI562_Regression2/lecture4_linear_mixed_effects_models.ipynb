{
 "cells": [
  {
   "cell_type": "markdown",
   "metadata": {
    "slideshow": {
     "slide_type": "slide"
    }
   },
   "source": [
    "<img src=\"../images/UBC_MDS_logo.PNG\" width=\"130\" height=\"130\" align=\"right\"/>\n",
    "\n",
    "# Lecture 4 - Linear Mixed-Effects Models\n",
    "### DSCI 562 - Regression II\n",
    "\n",
    "Alexi Rodríguez-Arelis, **January 2021**"
   ]
  },
  {
   "cell_type": "markdown",
   "metadata": {
    "slideshow": {
     "slide_type": "slide"
    }
   },
   "source": [
    "<h1>Outline<br><span class=\"tocSkip\"></span></h1>\n",
    "<div class=\"toc\"><ul class=\"toc-item\"><li><span><a href=\"#1.-Learning-Goals\" data-toc-modified-id=\"1.-Learning-Goals-1\">1. Learning Goals </a></span></li><li><span><a href=\"#2.-Linear-Fixed-Effects-Model\" data-toc-modified-id=\"2.-Linear-Fixed-Effects-Model-2\">2. Linear Fixed-Effects Model </a></span></li><li><span><a href=\"#3.-Linear-Mixed-Effects-Model\" data-toc-modified-id=\"3.-Linear-Mixed-Effects-Model-3\">3. Linear Mixed-Effects Model </a></span></li></ul></div>"
   ]
  },
  {
   "cell_type": "code",
   "execution_count": 2,
   "metadata": {
    "scrolled": true,
    "slideshow": {
     "slide_type": "skip"
    }
   },
   "outputs": [],
   "source": [
    "suppressPackageStartupMessages(library(AER))\n",
    "suppressPackageStartupMessages(library(tidyverse))\n",
    "suppressPackageStartupMessages(library(broom))\n",
    "suppressPackageStartupMessages(library(nlme))\n",
    "suppressPackageStartupMessages(library(lme4))\n",
    "suppressPackageStartupMessages(library(lmerTest))"
   ]
  },
  {
   "cell_type": "markdown",
   "metadata": {
    "slideshow": {
     "slide_type": "slide"
    }
   },
   "source": [
    "## 1. Learning Goals\n",
    "\n",
    "By the end of this lecture, we will be able to:\n",
    "\n",
    "- Identify the model assumptions in a linear mixed-effects model.\n",
    "- Associate a term (or combination of terms) in a mixed-effects model with the following quantities:\n",
    "\n",
    "    - Fixed effect estimates.\n",
    "    - Variances of the random effects.\n",
    "    - Regression coefficients for each group and the population.\n",
    "    - Predictions on existing groups and a new group."
   ]
  },
  {
   "cell_type": "markdown",
   "metadata": {
    "slideshow": {
     "slide_type": "slide"
    }
   },
   "source": [
    "- Fit a linear mixed-effects model in `R`, and extract estimates of the above quantities.\n",
    "- Identify the consequences of fitting a fixed-effects linear regression model when there are groups, whether a slope parameter is pooled or fit separately per group.\n",
    "- Explain the difference between the distributional assumption on the random effects and the fixed effects estimates' sampling distribution."
   ]
  },
  {
   "cell_type": "markdown",
   "metadata": {
    "slideshow": {
     "slide_type": "slide"
    }
   },
   "source": [
    "## 2. Linear Fixed Effects Model"
   ]
  },
  {
   "cell_type": "markdown",
   "metadata": {
    "slideshow": {
     "slide_type": "fragment"
    }
   },
   "source": [
    "So far, we have been working with regression models fitted with a sample of $n$ *independent elements*. Given a set of $p$ regressors $X_{i,j}$ and a continuous response $Y_i$, we fit a model\n",
    "\n",
    "\\begin{equation*}\n",
    "Y_i = \\beta_0 + \\beta_1 X_{i,1} + \\beta_2 X_{i,2} + \\ldots + \\beta_p X_{i,p} + \\varepsilon_{i} \\; \\; \\; \\; \\text{for} \\; i = 1, \\ldots, n.\n",
    "\\end{equation*}"
   ]
  },
  {
   "cell_type": "markdown",
   "metadata": {
    "slideshow": {
     "slide_type": "slide"
    }
   },
   "source": [
    "The coefficients $\\beta_0, \\dots, \\beta_p$ are fixed and constant for **all the observed values** $\\left(x_{i,1}, \\dots, x_{i,p}, y_i\\right)$."
   ]
  },
  {
   "cell_type": "markdown",
   "metadata": {
    "slideshow": {
     "slide_type": "fragment"
    }
   },
   "source": [
    "These coefficients are called **fixed effects**. It is of our interest to evaluate whether they are statistically significant or not on the response."
   ]
  },
  {
   "cell_type": "markdown",
   "metadata": {
    "slideshow": {
     "slide_type": "slide"
    }
   },
   "source": [
    "### 2.1. Grunfeld's Investment Dataset"
   ]
  },
  {
   "cell_type": "markdown",
   "metadata": {
    "slideshow": {
     "slide_type": "fragment"
    }
   },
   "source": [
    "Consider the following example: to study how gross investment depends on the firm's value and capital stock, [Grunfeld (1958)](https://ezproxy.library.ubc.ca/login?url=https://search.proquest.com/docview/301899386?pq-origsite=summon) collected data from eleven different companies over the years 1935-1954."
   ]
  },
  {
   "cell_type": "markdown",
   "metadata": {
    "slideshow": {
     "slide_type": "fragment"
    }
   },
   "source": [
    "> The data frame `Grunfeld` contains 220 observations from a balanced panel of 11 firms from 1935 to 1954 (20 observations per `firm`). The dataset includes a continuous response `investment` subject to two explanatory variables, `market_value` and `capital`."
   ]
  },
  {
   "cell_type": "markdown",
   "metadata": {
    "slideshow": {
     "slide_type": "skip"
    }
   },
   "source": [
    "Firstly, we will load the data which has the following variables:\n",
    "\n",
    "- `investment`: the gross investment in millions of dollars (additions to plant and equipment along with maintenance), a continuous response.\n",
    "- `market_value`: the firm's market value in millions of dollars, a continuous explanatory variable.\n",
    "- `capital`: stock of plant and equipment in millions of dollars, a continuous explanatory variable.\n",
    "- `firm`: a nominal explanatory variable with eleven levels indicating the firm (`General Motors`, `US Steel`, `General Electric`, `Chrysler`, `Atlantic Refining`, `IBM`, `Union Oil`, `Westinghouse`, `Goodyear`, `Diamond Match`, and `American Steel`).\n",
    "- `year`: the year of the observation (it will not be used in our analysis)."
   ]
  },
  {
   "cell_type": "code",
   "execution_count": 3,
   "metadata": {
    "slideshow": {
     "slide_type": "slide"
    }
   },
   "outputs": [
    {
     "data": {
      "text/html": [
       "<table>\n",
       "<caption>A data.frame: 6 × 5</caption>\n",
       "<thead>\n",
       "\t<tr><th></th><th scope=col>investment</th><th scope=col>market_value</th><th scope=col>capital</th><th scope=col>firm</th><th scope=col>year</th></tr>\n",
       "\t<tr><th></th><th scope=col>&lt;dbl&gt;</th><th scope=col>&lt;dbl&gt;</th><th scope=col>&lt;dbl&gt;</th><th scope=col>&lt;fct&gt;</th><th scope=col>&lt;int&gt;</th></tr>\n",
       "</thead>\n",
       "<tbody>\n",
       "\t<tr><th scope=row>1</th><td>317.6</td><td>3078.5</td><td>  2.8</td><td>General Motors</td><td>1935</td></tr>\n",
       "\t<tr><th scope=row>2</th><td>391.8</td><td>4661.7</td><td> 52.6</td><td>General Motors</td><td>1936</td></tr>\n",
       "\t<tr><th scope=row>3</th><td>410.6</td><td>5387.1</td><td>156.9</td><td>General Motors</td><td>1937</td></tr>\n",
       "\t<tr><th scope=row>4</th><td>257.7</td><td>2792.2</td><td>209.2</td><td>General Motors</td><td>1938</td></tr>\n",
       "\t<tr><th scope=row>5</th><td>330.8</td><td>4313.2</td><td>203.4</td><td>General Motors</td><td>1939</td></tr>\n",
       "\t<tr><th scope=row>6</th><td>461.2</td><td>4643.9</td><td>207.2</td><td>General Motors</td><td>1940</td></tr>\n",
       "</tbody>\n",
       "</table>\n"
      ],
      "text/latex": [
       "A data.frame: 6 × 5\n",
       "\\begin{tabular}{r|lllll}\n",
       "  & investment & market\\_value & capital & firm & year\\\\\n",
       "  & <dbl> & <dbl> & <dbl> & <fct> & <int>\\\\\n",
       "\\hline\n",
       "\t1 & 317.6 & 3078.5 &   2.8 & General Motors & 1935\\\\\n",
       "\t2 & 391.8 & 4661.7 &  52.6 & General Motors & 1936\\\\\n",
       "\t3 & 410.6 & 5387.1 & 156.9 & General Motors & 1937\\\\\n",
       "\t4 & 257.7 & 2792.2 & 209.2 & General Motors & 1938\\\\\n",
       "\t5 & 330.8 & 4313.2 & 203.4 & General Motors & 1939\\\\\n",
       "\t6 & 461.2 & 4643.9 & 207.2 & General Motors & 1940\\\\\n",
       "\\end{tabular}\n"
      ],
      "text/markdown": [
       "\n",
       "A data.frame: 6 × 5\n",
       "\n",
       "| <!--/--> | investment &lt;dbl&gt; | market_value &lt;dbl&gt; | capital &lt;dbl&gt; | firm &lt;fct&gt; | year &lt;int&gt; |\n",
       "|---|---|---|---|---|---|\n",
       "| 1 | 317.6 | 3078.5 |   2.8 | General Motors | 1935 |\n",
       "| 2 | 391.8 | 4661.7 |  52.6 | General Motors | 1936 |\n",
       "| 3 | 410.6 | 5387.1 | 156.9 | General Motors | 1937 |\n",
       "| 4 | 257.7 | 2792.2 | 209.2 | General Motors | 1938 |\n",
       "| 5 | 330.8 | 4313.2 | 203.4 | General Motors | 1939 |\n",
       "| 6 | 461.2 | 4643.9 | 207.2 | General Motors | 1940 |\n",
       "\n"
      ],
      "text/plain": [
       "  investment market_value capital firm           year\n",
       "1 317.6      3078.5         2.8   General Motors 1935\n",
       "2 391.8      4661.7        52.6   General Motors 1936\n",
       "3 410.6      5387.1       156.9   General Motors 1937\n",
       "4 257.7      2792.2       209.2   General Motors 1938\n",
       "5 330.8      4313.2       203.4   General Motors 1939\n",
       "6 461.2      4643.9       207.2   General Motors 1940"
      ]
     },
     "metadata": {},
     "output_type": "display_data"
    },
    {
     "data": {
      "text/html": [
       "<table>\n",
       "<caption>A data.frame: 6 × 5</caption>\n",
       "<thead>\n",
       "\t<tr><th></th><th scope=col>investment</th><th scope=col>market_value</th><th scope=col>capital</th><th scope=col>firm</th><th scope=col>year</th></tr>\n",
       "\t<tr><th></th><th scope=col>&lt;dbl&gt;</th><th scope=col>&lt;dbl&gt;</th><th scope=col>&lt;dbl&gt;</th><th scope=col>&lt;fct&gt;</th><th scope=col>&lt;int&gt;</th></tr>\n",
       "</thead>\n",
       "<tbody>\n",
       "\t<tr><th scope=row>215</th><td>6.433</td><td>39.961</td><td>73.827</td><td>American Steel</td><td>1949</td></tr>\n",
       "\t<tr><th scope=row>216</th><td>4.770</td><td>36.494</td><td>75.847</td><td>American Steel</td><td>1950</td></tr>\n",
       "\t<tr><th scope=row>217</th><td>6.532</td><td>46.082</td><td>77.367</td><td>American Steel</td><td>1951</td></tr>\n",
       "\t<tr><th scope=row>218</th><td>7.329</td><td>57.616</td><td>78.631</td><td>American Steel</td><td>1952</td></tr>\n",
       "\t<tr><th scope=row>219</th><td>9.020</td><td>57.441</td><td>80.215</td><td>American Steel</td><td>1953</td></tr>\n",
       "\t<tr><th scope=row>220</th><td>6.281</td><td>47.165</td><td>83.788</td><td>American Steel</td><td>1954</td></tr>\n",
       "</tbody>\n",
       "</table>\n"
      ],
      "text/latex": [
       "A data.frame: 6 × 5\n",
       "\\begin{tabular}{r|lllll}\n",
       "  & investment & market\\_value & capital & firm & year\\\\\n",
       "  & <dbl> & <dbl> & <dbl> & <fct> & <int>\\\\\n",
       "\\hline\n",
       "\t215 & 6.433 & 39.961 & 73.827 & American Steel & 1949\\\\\n",
       "\t216 & 4.770 & 36.494 & 75.847 & American Steel & 1950\\\\\n",
       "\t217 & 6.532 & 46.082 & 77.367 & American Steel & 1951\\\\\n",
       "\t218 & 7.329 & 57.616 & 78.631 & American Steel & 1952\\\\\n",
       "\t219 & 9.020 & 57.441 & 80.215 & American Steel & 1953\\\\\n",
       "\t220 & 6.281 & 47.165 & 83.788 & American Steel & 1954\\\\\n",
       "\\end{tabular}\n"
      ],
      "text/markdown": [
       "\n",
       "A data.frame: 6 × 5\n",
       "\n",
       "| <!--/--> | investment &lt;dbl&gt; | market_value &lt;dbl&gt; | capital &lt;dbl&gt; | firm &lt;fct&gt; | year &lt;int&gt; |\n",
       "|---|---|---|---|---|---|\n",
       "| 215 | 6.433 | 39.961 | 73.827 | American Steel | 1949 |\n",
       "| 216 | 4.770 | 36.494 | 75.847 | American Steel | 1950 |\n",
       "| 217 | 6.532 | 46.082 | 77.367 | American Steel | 1951 |\n",
       "| 218 | 7.329 | 57.616 | 78.631 | American Steel | 1952 |\n",
       "| 219 | 9.020 | 57.441 | 80.215 | American Steel | 1953 |\n",
       "| 220 | 6.281 | 47.165 | 83.788 | American Steel | 1954 |\n",
       "\n"
      ],
      "text/plain": [
       "    investment market_value capital firm           year\n",
       "215 6.433      39.961       73.827  American Steel 1949\n",
       "216 4.770      36.494       75.847  American Steel 1950\n",
       "217 6.532      46.082       77.367  American Steel 1951\n",
       "218 7.329      57.616       78.631  American Steel 1952\n",
       "219 9.020      57.441       80.215  American Steel 1953\n",
       "220 6.281      47.165       83.788  American Steel 1954"
      ]
     },
     "metadata": {},
     "output_type": "display_data"
    }
   ],
   "source": [
    "data(Grunfeld)\n",
    "Grunfeld <- Grunfeld %>% rename(investment = invest, market_value = value)\n",
    "head(Grunfeld)\n",
    "tail(Grunfeld)"
   ]
  },
  {
   "cell_type": "markdown",
   "metadata": {
    "slideshow": {
     "slide_type": "slide"
    }
   },
   "source": [
    "### In-Class Activity\n",
    " \n",
    "What class of data hierarchy do you observe in this dataset?"
   ]
  },
  {
   "cell_type": "markdown",
   "metadata": {
    "slideshow": {
     "slide_type": "skip"
    }
   },
   "source": [
    "> 1. Two levels of detail in the data:\n",
    "\n",
    "        - Grunfeld first sampled the eleven firms (level 1). \n",
    "        - Then, for each firm, Grunfeld collected 20 data points (level 2).\n",
    "\n",
    "> 2. We would expect data within a company to be correlated."
   ]
  },
  {
   "cell_type": "markdown",
   "metadata": {
    "slideshow": {
     "slide_type": "slide"
    }
   },
   "source": [
    "### Main Modelling Objective\n",
    "\n",
    "We are interested in assessing the relationship of gross `investment` with `market_value` and `capital` **while taking `firm` into account**. How can we fit a linear model to this data?"
   ]
  },
  {
   "cell_type": "markdown",
   "metadata": {
    "slideshow": {
     "slide_type": "slide"
    }
   },
   "source": [
    "> Based on what we have seen, we can think of four approaches:\n",
    "\n",
    "- Take the average for each `firm`, and fit a linear model on the averages (not an ideal approach).\n",
    "- We could ignore `firm`, and fit an ordinary linear model with the dataset (not an ideal approach).\n",
    "- Allow different intercept for each `firm`.\n",
    "- Allow a different slope and intercept for each `firm` (interaction model)."
   ]
  },
  {
   "cell_type": "markdown",
   "metadata": {
    "slideshow": {
     "slide_type": "slide"
    }
   },
   "source": [
    "Let us plot the 220 data points of `investment` versus `market_value` but facetted by `firm` and use `geom_smooth()` to fit sub-models by `firm`."
   ]
  },
  {
   "cell_type": "code",
   "execution_count": 4,
   "metadata": {
    "slideshow": {
     "slide_type": "fragment"
    }
   },
   "outputs": [],
   "source": [
    "scatterplots_firm <- Grunfeld %>%\n",
    "  ggplot(aes(market_value, investment)) +\n",
    "  geom_point() +\n",
    "  geom_smooth(method = \"lm\", fullrange = TRUE, se = FALSE) +\n",
    "  facet_wrap(~firm) +\n",
    "  labs(x = \"Market Value (Millions of Dollars)\", y = \"Gross Investment (Millions of Dollars)\") +\n",
    "  ggtitle(\"Scatterplots by Firm\") +\n",
    "  theme(\n",
    "    plot.title = element_text(size = 24, face = \"bold\"),\n",
    "    axis.text = element_text(size = 14),\n",
    "    axis.title = element_text(size = 16),\n",
    "    strip.text.x = element_text(size = 16),\n",
    "  )"
   ]
  },
  {
   "cell_type": "code",
   "execution_count": 7,
   "metadata": {
    "slideshow": {
     "slide_type": "skip"
    }
   },
   "outputs": [
    {
     "name": "stderr",
     "output_type": "stream",
     "text": [
      "`geom_smooth()` using formula 'y ~ x'\n",
      "\n"
     ]
    },
    {
     "data": {
      "image/png": "[encoded data removed]",
      "text/plain": [
       "plot without title"
      ]
     },
     "metadata": {
      "image/png": {
       "height": 750,
       "width": 870
      }
     },
     "output_type": "display_data"
    }
   ],
   "source": [
    "options(repr.plot.height = 12.5, repr.plot.width = 14.5)\n",
    "scatterplots_firm"
   ]
  },
  {
   "cell_type": "markdown",
   "metadata": {
    "slideshow": {
     "slide_type": "slide"
    }
   },
   "source": [
    "### In-Class Activity\n",
    "\n",
    "What do you observe in the plots above?"
   ]
  },
  {
   "cell_type": "markdown",
   "metadata": {
    "slideshow": {
     "slide_type": "skip"
    }
   },
   "source": [
    "> The intercept seems to be 0 for all the firms, except the first one.\n",
    "\n",
    "> The effect of the `firm` is clear in the way the data is distributed. For example, `General Motors` certainly has a higher variance than `American Steel`.\n",
    "\n",
    "> There seems to be some variability in the slopes for different firms."
   ]
  },
  {
   "cell_type": "markdown",
   "metadata": {
    "slideshow": {
     "slide_type": "slide"
    }
   },
   "source": [
    "### Ordinary Linear Regression Model"
   ]
  },
  {
   "cell_type": "markdown",
   "metadata": {
    "slideshow": {
     "slide_type": "fragment"
    }
   },
   "source": [
    "Suppose we ignore the factor `firm`. Let us estimate a classical linear regression model with `investment` as a response to `market_value` and `capital` as regressors."
   ]
  },
  {
   "cell_type": "markdown",
   "metadata": {
    "slideshow": {
     "slide_type": "fragment"
    }
   },
   "source": [
    "The regression equation for the $i$th sampled observation will be:\n",
    "\n",
    "\\begin{equation*}\n",
    "\\texttt{investment}_{i} = \\beta_0 + \\beta_1 \\texttt{marketValue}_{i} + \\beta_2\\texttt{capital}_{i} + \\varepsilon_{i} \\; \\; \\; \\; \\text{for} \\; i = 1, \\ldots, 220.\n",
    "\\end{equation*}"
   ]
  },
  {
   "cell_type": "code",
   "execution_count": 8,
   "metadata": {
    "slideshow": {
     "slide_type": "slide"
    }
   },
   "outputs": [
    {
     "data": {
      "text/html": [
       "<table>\n",
       "<caption>A tibble: 3 × 5</caption>\n",
       "<thead>\n",
       "\t<tr><th scope=col>term</th><th scope=col>estimate</th><th scope=col>std.error</th><th scope=col>statistic</th><th scope=col>p.value</th></tr>\n",
       "\t<tr><th scope=col>&lt;chr&gt;</th><th scope=col>&lt;dbl&gt;</th><th scope=col>&lt;dbl&gt;</th><th scope=col>&lt;dbl&gt;</th><th scope=col>&lt;dbl&gt;</th></tr>\n",
       "</thead>\n",
       "<tbody>\n",
       "\t<tr><td>(Intercept) </td><td>-38.41</td><td>8.41</td><td>-4.57</td><td>0</td></tr>\n",
       "\t<tr><td>market_value</td><td>  0.11</td><td>0.01</td><td>20.75</td><td>0</td></tr>\n",
       "\t<tr><td>capital     </td><td>  0.23</td><td>0.02</td><td> 9.39</td><td>0</td></tr>\n",
       "</tbody>\n",
       "</table>\n"
      ],
      "text/latex": [
       "A tibble: 3 × 5\n",
       "\\begin{tabular}{lllll}\n",
       " term & estimate & std.error & statistic & p.value\\\\\n",
       " <chr> & <dbl> & <dbl> & <dbl> & <dbl>\\\\\n",
       "\\hline\n",
       "\t (Intercept)  & -38.41 & 8.41 & -4.57 & 0\\\\\n",
       "\t market\\_value &   0.11 & 0.01 & 20.75 & 0\\\\\n",
       "\t capital      &   0.23 & 0.02 &  9.39 & 0\\\\\n",
       "\\end{tabular}\n"
      ],
      "text/markdown": [
       "\n",
       "A tibble: 3 × 5\n",
       "\n",
       "| term &lt;chr&gt; | estimate &lt;dbl&gt; | std.error &lt;dbl&gt; | statistic &lt;dbl&gt; | p.value &lt;dbl&gt; |\n",
       "|---|---|---|---|---|\n",
       "| (Intercept)  | -38.41 | 8.41 | -4.57 | 0 |\n",
       "| market_value |   0.11 | 0.01 | 20.75 | 0 |\n",
       "| capital      |   0.23 | 0.02 |  9.39 | 0 |\n",
       "\n"
      ],
      "text/plain": [
       "  term         estimate std.error statistic p.value\n",
       "1 (Intercept)  -38.41   8.41      -4.57     0      \n",
       "2 market_value   0.11   0.01      20.75     0      \n",
       "3 capital        0.23   0.02       9.39     0      "
      ]
     },
     "metadata": {},
     "output_type": "display_data"
    },
    {
     "data": {
      "text/html": [
       "<table>\n",
       "<caption>A tibble: 1 × 12</caption>\n",
       "<thead>\n",
       "\t<tr><th scope=col>r.squared</th><th scope=col>adj.r.squared</th><th scope=col>sigma</th><th scope=col>statistic</th><th scope=col>p.value</th><th scope=col>df</th><th scope=col>logLik</th><th scope=col>AIC</th><th scope=col>BIC</th><th scope=col>deviance</th><th scope=col>df.residual</th><th scope=col>nobs</th></tr>\n",
       "\t<tr><th scope=col>&lt;dbl&gt;</th><th scope=col>&lt;dbl&gt;</th><th scope=col>&lt;dbl&gt;</th><th scope=col>&lt;dbl&gt;</th><th scope=col>&lt;dbl&gt;</th><th scope=col>&lt;dbl&gt;</th><th scope=col>&lt;dbl&gt;</th><th scope=col>&lt;dbl&gt;</th><th scope=col>&lt;dbl&gt;</th><th scope=col>&lt;dbl&gt;</th><th scope=col>&lt;dbl&gt;</th><th scope=col>&lt;dbl&gt;</th></tr>\n",
       "</thead>\n",
       "<tbody>\n",
       "\t<tr><td>0.82</td><td>0.82</td><td>90.28</td><td>487.28</td><td>0</td><td>2</td><td>-1301.3</td><td>2610.6</td><td>2624.17</td><td>1768678</td><td>217</td><td>220</td></tr>\n",
       "</tbody>\n",
       "</table>\n"
      ],
      "text/latex": [
       "A tibble: 1 × 12\n",
       "\\begin{tabular}{llllllllllll}\n",
       " r.squared & adj.r.squared & sigma & statistic & p.value & df & logLik & AIC & BIC & deviance & df.residual & nobs\\\\\n",
       " <dbl> & <dbl> & <dbl> & <dbl> & <dbl> & <dbl> & <dbl> & <dbl> & <dbl> & <dbl> & <dbl> & <dbl>\\\\\n",
       "\\hline\n",
       "\t 0.82 & 0.82 & 90.28 & 487.28 & 0 & 2 & -1301.3 & 2610.6 & 2624.17 & 1768678 & 217 & 220\\\\\n",
       "\\end{tabular}\n"
      ],
      "text/markdown": [
       "\n",
       "A tibble: 1 × 12\n",
       "\n",
       "| r.squared &lt;dbl&gt; | adj.r.squared &lt;dbl&gt; | sigma &lt;dbl&gt; | statistic &lt;dbl&gt; | p.value &lt;dbl&gt; | df &lt;dbl&gt; | logLik &lt;dbl&gt; | AIC &lt;dbl&gt; | BIC &lt;dbl&gt; | deviance &lt;dbl&gt; | df.residual &lt;dbl&gt; | nobs &lt;dbl&gt; |\n",
       "|---|---|---|---|---|---|---|---|---|---|---|---|\n",
       "| 0.82 | 0.82 | 90.28 | 487.28 | 0 | 2 | -1301.3 | 2610.6 | 2624.17 | 1768678 | 217 | 220 |\n",
       "\n"
      ],
      "text/plain": [
       "  r.squared adj.r.squared sigma statistic p.value df logLik  AIC    BIC    \n",
       "1 0.82      0.82          90.28 487.28    0       2  -1301.3 2610.6 2624.17\n",
       "  deviance df.residual nobs\n",
       "1 1768678  217         220 "
      ]
     },
     "metadata": {},
     "output_type": "display_data"
    }
   ],
   "source": [
    "ordinary_model <- lm(investment ~ market_value + capital, data = Grunfeld)\n",
    "tidy(ordinary_model) %>%\n",
    "  mutate_if(is.numeric, round, 2)\n",
    "glance(ordinary_model) %>%\n",
    "  mutate_if(is.numeric, round, 2)"
   ]
  },
  {
   "cell_type": "markdown",
   "metadata": {
    "slideshow": {
     "slide_type": "slide"
    }
   },
   "source": [
    "### Linear Regression Model with Varying Intercept"
   ]
  },
  {
   "cell_type": "markdown",
   "metadata": {
    "slideshow": {
     "slide_type": "fragment"
    }
   },
   "source": [
    "Now, let us estimate another linear regression model with `investment` as a response to `market_value` and `capital` as regressors **but with varying intercepts by each `firm`**."
   ]
  },
  {
   "cell_type": "markdown",
   "metadata": {
    "slideshow": {
     "slide_type": "slide"
    }
   },
   "source": [
    "We will do this with the `lm()` function by adding `- 1` on the right-hand side of the argument `formula`. This `- 1` will allow the baseline `firm` to have its intercept (i.e., renaming `(Intercept)` in column `estimate` with `firmCompanyName`)."
   ]
  },
  {
   "cell_type": "code",
   "execution_count": 9,
   "metadata": {
    "slideshow": {
     "slide_type": "fragment"
    }
   },
   "outputs": [
    {
     "data": {
      "text/html": [
       "<style>\n",
       ".list-inline {list-style: none; margin:0; padding: 0}\n",
       ".list-inline>li {display: inline-block}\n",
       ".list-inline>li:not(:last-child)::after {content: \"\\00b7\"; padding: 0 .5ex}\n",
       "</style>\n",
       "<ol class=list-inline><li>'General Motors'</li><li>'US Steel'</li><li>'General Electric'</li><li>'Chrysler'</li><li>'Atlantic Refining'</li><li>'IBM'</li><li>'Union Oil'</li><li>'Westinghouse'</li><li>'Goodyear'</li><li>'Diamond Match'</li><li>'American Steel'</li></ol>\n"
      ],
      "text/latex": [
       "\\begin{enumerate*}\n",
       "\\item 'General Motors'\n",
       "\\item 'US Steel'\n",
       "\\item 'General Electric'\n",
       "\\item 'Chrysler'\n",
       "\\item 'Atlantic Refining'\n",
       "\\item 'IBM'\n",
       "\\item 'Union Oil'\n",
       "\\item 'Westinghouse'\n",
       "\\item 'Goodyear'\n",
       "\\item 'Diamond Match'\n",
       "\\item 'American Steel'\n",
       "\\end{enumerate*}\n"
      ],
      "text/markdown": [
       "1. 'General Motors'\n",
       "2. 'US Steel'\n",
       "3. 'General Electric'\n",
       "4. 'Chrysler'\n",
       "5. 'Atlantic Refining'\n",
       "6. 'IBM'\n",
       "7. 'Union Oil'\n",
       "8. 'Westinghouse'\n",
       "9. 'Goodyear'\n",
       "10. 'Diamond Match'\n",
       "11. 'American Steel'\n",
       "\n",
       "\n"
      ],
      "text/plain": [
       " [1] \"General Motors\"    \"US Steel\"          \"General Electric\" \n",
       " [4] \"Chrysler\"          \"Atlantic Refining\" \"IBM\"              \n",
       " [7] \"Union Oil\"         \"Westinghouse\"      \"Goodyear\"         \n",
       "[10] \"Diamond Match\"     \"American Steel\"   "
      ]
     },
     "metadata": {},
     "output_type": "display_data"
    }
   ],
   "source": [
    "levels(Grunfeld$firm)"
   ]
  },
  {
   "cell_type": "code",
   "execution_count": 10,
   "metadata": {
    "slideshow": {
     "slide_type": "slide"
    }
   },
   "outputs": [
    {
     "data": {
      "text/html": [
       "<table>\n",
       "<caption>A tibble: 13 × 5</caption>\n",
       "<thead>\n",
       "\t<tr><th scope=col>term</th><th scope=col>estimate</th><th scope=col>std.error</th><th scope=col>statistic</th><th scope=col>p.value</th></tr>\n",
       "\t<tr><th scope=col>&lt;chr&gt;</th><th scope=col>&lt;dbl&gt;</th><th scope=col>&lt;dbl&gt;</th><th scope=col>&lt;dbl&gt;</th><th scope=col>&lt;dbl&gt;</th></tr>\n",
       "</thead>\n",
       "<tbody>\n",
       "\t<tr><td>market_value         </td><td>   0.11</td><td> 0.01</td><td>  9.75</td><td>0.00</td></tr>\n",
       "\t<tr><td>capital              </td><td>   0.31</td><td> 0.02</td><td> 18.74</td><td>0.00</td></tr>\n",
       "\t<tr><td>firmGeneral Motors   </td><td> -70.30</td><td>47.38</td><td> -1.48</td><td>0.14</td></tr>\n",
       "\t<tr><td>firmUS Steel         </td><td> 101.90</td><td>23.77</td><td>  4.29</td><td>0.00</td></tr>\n",
       "\t<tr><td>firmGeneral Electric </td><td>-235.57</td><td>23.29</td><td>-10.12</td><td>0.00</td></tr>\n",
       "\t<tr><td>firmChrysler         </td><td> -27.81</td><td>13.42</td><td> -2.07</td><td>0.04</td></tr>\n",
       "\t<tr><td>firmAtlantic Refining</td><td>-114.60</td><td>13.50</td><td> -8.49</td><td>0.00</td></tr>\n",
       "\t<tr><td>firmIBM              </td><td> -23.16</td><td>12.08</td><td> -1.92</td><td>0.06</td></tr>\n",
       "\t<tr><td>firmUnion Oil        </td><td> -66.54</td><td>12.24</td><td> -5.44</td><td>0.00</td></tr>\n",
       "\t<tr><td>firmWestinghouse     </td><td> -57.55</td><td>13.34</td><td> -4.31</td><td>0.00</td></tr>\n",
       "\t<tr><td>firmGoodyear         </td><td> -87.21</td><td>12.29</td><td> -7.10</td><td>0.00</td></tr>\n",
       "\t<tr><td>firmDiamond Match    </td><td>  -6.57</td><td>11.27</td><td> -0.58</td><td>0.56</td></tr>\n",
       "\t<tr><td>firmAmerican Steel   </td><td> -20.58</td><td>11.30</td><td> -1.82</td><td>0.07</td></tr>\n",
       "</tbody>\n",
       "</table>\n"
      ],
      "text/latex": [
       "A tibble: 13 × 5\n",
       "\\begin{tabular}{lllll}\n",
       " term & estimate & std.error & statistic & p.value\\\\\n",
       " <chr> & <dbl> & <dbl> & <dbl> & <dbl>\\\\\n",
       "\\hline\n",
       "\t market\\_value          &    0.11 &  0.01 &   9.75 & 0.00\\\\\n",
       "\t capital               &    0.31 &  0.02 &  18.74 & 0.00\\\\\n",
       "\t firmGeneral Motors    &  -70.30 & 47.38 &  -1.48 & 0.14\\\\\n",
       "\t firmUS Steel          &  101.90 & 23.77 &   4.29 & 0.00\\\\\n",
       "\t firmGeneral Electric  & -235.57 & 23.29 & -10.12 & 0.00\\\\\n",
       "\t firmChrysler          &  -27.81 & 13.42 &  -2.07 & 0.04\\\\\n",
       "\t firmAtlantic Refining & -114.60 & 13.50 &  -8.49 & 0.00\\\\\n",
       "\t firmIBM               &  -23.16 & 12.08 &  -1.92 & 0.06\\\\\n",
       "\t firmUnion Oil         &  -66.54 & 12.24 &  -5.44 & 0.00\\\\\n",
       "\t firmWestinghouse      &  -57.55 & 13.34 &  -4.31 & 0.00\\\\\n",
       "\t firmGoodyear          &  -87.21 & 12.29 &  -7.10 & 0.00\\\\\n",
       "\t firmDiamond Match     &   -6.57 & 11.27 &  -0.58 & 0.56\\\\\n",
       "\t firmAmerican Steel    &  -20.58 & 11.30 &  -1.82 & 0.07\\\\\n",
       "\\end{tabular}\n"
      ],
      "text/markdown": [
       "\n",
       "A tibble: 13 × 5\n",
       "\n",
       "| term &lt;chr&gt; | estimate &lt;dbl&gt; | std.error &lt;dbl&gt; | statistic &lt;dbl&gt; | p.value &lt;dbl&gt; |\n",
       "|---|---|---|---|---|\n",
       "| market_value          |    0.11 |  0.01 |   9.75 | 0.00 |\n",
       "| capital               |    0.31 |  0.02 |  18.74 | 0.00 |\n",
       "| firmGeneral Motors    |  -70.30 | 47.38 |  -1.48 | 0.14 |\n",
       "| firmUS Steel          |  101.90 | 23.77 |   4.29 | 0.00 |\n",
       "| firmGeneral Electric  | -235.57 | 23.29 | -10.12 | 0.00 |\n",
       "| firmChrysler          |  -27.81 | 13.42 |  -2.07 | 0.04 |\n",
       "| firmAtlantic Refining | -114.60 | 13.50 |  -8.49 | 0.00 |\n",
       "| firmIBM               |  -23.16 | 12.08 |  -1.92 | 0.06 |\n",
       "| firmUnion Oil         |  -66.54 | 12.24 |  -5.44 | 0.00 |\n",
       "| firmWestinghouse      |  -57.55 | 13.34 |  -4.31 | 0.00 |\n",
       "| firmGoodyear          |  -87.21 | 12.29 |  -7.10 | 0.00 |\n",
       "| firmDiamond Match     |   -6.57 | 11.27 |  -0.58 | 0.56 |\n",
       "| firmAmerican Steel    |  -20.58 | 11.30 |  -1.82 | 0.07 |\n",
       "\n"
      ],
      "text/plain": [
       "   term                  estimate std.error statistic p.value\n",
       "1  market_value             0.11   0.01       9.75    0.00   \n",
       "2  capital                  0.31   0.02      18.74    0.00   \n",
       "3  firmGeneral Motors     -70.30  47.38      -1.48    0.14   \n",
       "4  firmUS Steel           101.90  23.77       4.29    0.00   \n",
       "5  firmGeneral Electric  -235.57  23.29     -10.12    0.00   \n",
       "6  firmChrysler           -27.81  13.42      -2.07    0.04   \n",
       "7  firmAtlantic Refining -114.60  13.50      -8.49    0.00   \n",
       "8  firmIBM                -23.16  12.08      -1.92    0.06   \n",
       "9  firmUnion Oil          -66.54  12.24      -5.44    0.00   \n",
       "10 firmWestinghouse       -57.55  13.34      -4.31    0.00   \n",
       "11 firmGoodyear           -87.21  12.29      -7.10    0.00   \n",
       "12 firmDiamond Match       -6.57  11.27      -0.58    0.56   \n",
       "13 firmAmerican Steel     -20.58  11.30      -1.82    0.07   "
      ]
     },
     "metadata": {},
     "output_type": "display_data"
    },
    {
     "data": {
      "text/html": [
       "<table>\n",
       "<caption>A tibble: 1 × 12</caption>\n",
       "<thead>\n",
       "\t<tr><th scope=col>r.squared</th><th scope=col>adj.r.squared</th><th scope=col>sigma</th><th scope=col>statistic</th><th scope=col>p.value</th><th scope=col>df</th><th scope=col>logLik</th><th scope=col>AIC</th><th scope=col>BIC</th><th scope=col>deviance</th><th scope=col>df.residual</th><th scope=col>nobs</th></tr>\n",
       "\t<tr><th scope=col>&lt;dbl&gt;</th><th scope=col>&lt;dbl&gt;</th><th scope=col>&lt;dbl&gt;</th><th scope=col>&lt;dbl&gt;</th><th scope=col>&lt;dbl&gt;</th><th scope=col>&lt;dbl&gt;</th><th scope=col>&lt;dbl&gt;</th><th scope=col>&lt;dbl&gt;</th><th scope=col>&lt;dbl&gt;</th><th scope=col>&lt;dbl&gt;</th><th scope=col>&lt;dbl&gt;</th><th scope=col>&lt;dbl&gt;</th></tr>\n",
       "</thead>\n",
       "<tbody>\n",
       "\t<tr><td>0.96</td><td>0.96</td><td>50.3</td><td>398.23</td><td>0</td><td>13</td><td>-1167.43</td><td>2362.85</td><td>2410.36</td><td>523718.7</td><td>207</td><td>220</td></tr>\n",
       "</tbody>\n",
       "</table>\n"
      ],
      "text/latex": [
       "A tibble: 1 × 12\n",
       "\\begin{tabular}{llllllllllll}\n",
       " r.squared & adj.r.squared & sigma & statistic & p.value & df & logLik & AIC & BIC & deviance & df.residual & nobs\\\\\n",
       " <dbl> & <dbl> & <dbl> & <dbl> & <dbl> & <dbl> & <dbl> & <dbl> & <dbl> & <dbl> & <dbl> & <dbl>\\\\\n",
       "\\hline\n",
       "\t 0.96 & 0.96 & 50.3 & 398.23 & 0 & 13 & -1167.43 & 2362.85 & 2410.36 & 523718.7 & 207 & 220\\\\\n",
       "\\end{tabular}\n"
      ],
      "text/markdown": [
       "\n",
       "A tibble: 1 × 12\n",
       "\n",
       "| r.squared &lt;dbl&gt; | adj.r.squared &lt;dbl&gt; | sigma &lt;dbl&gt; | statistic &lt;dbl&gt; | p.value &lt;dbl&gt; | df &lt;dbl&gt; | logLik &lt;dbl&gt; | AIC &lt;dbl&gt; | BIC &lt;dbl&gt; | deviance &lt;dbl&gt; | df.residual &lt;dbl&gt; | nobs &lt;dbl&gt; |\n",
       "|---|---|---|---|---|---|---|---|---|---|---|---|\n",
       "| 0.96 | 0.96 | 50.3 | 398.23 | 0 | 13 | -1167.43 | 2362.85 | 2410.36 | 523718.7 | 207 | 220 |\n",
       "\n"
      ],
      "text/plain": [
       "  r.squared adj.r.squared sigma statistic p.value df logLik   AIC     BIC    \n",
       "1 0.96      0.96          50.3  398.23    0       13 -1167.43 2362.85 2410.36\n",
       "  deviance df.residual nobs\n",
       "1 523718.7 207         220 "
      ]
     },
     "metadata": {},
     "output_type": "display_data"
    }
   ],
   "source": [
    "model_varying_intercept <- lm(investment ~ market_value + capital + firm - 1, data = Grunfeld)\n",
    "tidy(model_varying_intercept) %>%\n",
    "  mutate_if(is.numeric, round, 2)\n",
    "glance(model_varying_intercept) %>%\n",
    "  mutate_if(is.numeric, round, 2) "
   ]
  },
  {
   "cell_type": "markdown",
   "metadata": {
    "slideshow": {
     "slide_type": "slide"
    }
   },
   "source": [
    "By checking the `adj.r.squared`, we see that `model_varying_intercept` has a larger value (0.96) than `ordinary_model` (0.82)."
   ]
  },
  {
   "cell_type": "markdown",
   "metadata": {
    "slideshow": {
     "slide_type": "fragment"
    }
   },
   "source": [
    "We can test if there is a gain in considering a varying intercept versus fixed intercept. Hence, we will make a formal $F$-test to check whether the `model_varying_intercept` fits the data better than the `ordinary_model`."
   ]
  },
  {
   "cell_type": "code",
   "execution_count": 11,
   "metadata": {
    "slideshow": {
     "slide_type": "slide"
    }
   },
   "outputs": [
    {
     "data": {
      "text/html": [
       "<table>\n",
       "<caption>A anova: 2 × 6</caption>\n",
       "<thead>\n",
       "\t<tr><th></th><th scope=col>Res.Df</th><th scope=col>RSS</th><th scope=col>Df</th><th scope=col>Sum of Sq</th><th scope=col>F</th><th scope=col>Pr(&gt;F)</th></tr>\n",
       "\t<tr><th></th><th scope=col>&lt;dbl&gt;</th><th scope=col>&lt;dbl&gt;</th><th scope=col>&lt;dbl&gt;</th><th scope=col>&lt;dbl&gt;</th><th scope=col>&lt;dbl&gt;</th><th scope=col>&lt;dbl&gt;</th></tr>\n",
       "</thead>\n",
       "<tbody>\n",
       "\t<tr><th scope=row>1</th><td>217</td><td>1768678.4</td><td>NA</td><td>     NA</td><td>   NA</td><td>NA</td></tr>\n",
       "\t<tr><th scope=row>2</th><td>207</td><td> 523718.7</td><td>10</td><td>1244960</td><td>49.21</td><td> 0</td></tr>\n",
       "</tbody>\n",
       "</table>\n"
      ],
      "text/latex": [
       "A anova: 2 × 6\n",
       "\\begin{tabular}{r|llllll}\n",
       "  & Res.Df & RSS & Df & Sum of Sq & F & Pr(>F)\\\\\n",
       "  & <dbl> & <dbl> & <dbl> & <dbl> & <dbl> & <dbl>\\\\\n",
       "\\hline\n",
       "\t1 & 217 & 1768678.4 & NA &      NA &    NA & NA\\\\\n",
       "\t2 & 207 &  523718.7 & 10 & 1244960 & 49.21 &  0\\\\\n",
       "\\end{tabular}\n"
      ],
      "text/markdown": [
       "\n",
       "A anova: 2 × 6\n",
       "\n",
       "| <!--/--> | Res.Df &lt;dbl&gt; | RSS &lt;dbl&gt; | Df &lt;dbl&gt; | Sum of Sq &lt;dbl&gt; | F &lt;dbl&gt; | Pr(&gt;F) &lt;dbl&gt; |\n",
       "|---|---|---|---|---|---|---|\n",
       "| 1 | 217 | 1768678.4 | NA |      NA |    NA | NA |\n",
       "| 2 | 207 |  523718.7 | 10 | 1244960 | 49.21 |  0 |\n",
       "\n"
      ],
      "text/plain": [
       "  Res.Df RSS       Df Sum of Sq F     Pr(>F)\n",
       "1 217    1768678.4 NA      NA      NA NA    \n",
       "2 207     523718.7 10 1244960   49.21  0    "
      ]
     },
     "metadata": {},
     "output_type": "display_data"
    }
   ],
   "source": [
    "anova(ordinary_model, model_varying_intercept) %>%\n",
    "  mutate_if(is.numeric, round, 2) "
   ]
  },
  {
   "cell_type": "markdown",
   "metadata": {
    "slideshow": {
     "slide_type": "fragment"
    }
   },
   "source": [
    "We obtain a $p\\text{-value} < .001$. Thus, with $\\alpha = 0.05$, we have evidence to conclude that `model_varying_intercept` fits the data better than the `ordinary_model`."
   ]
  },
  {
   "cell_type": "markdown",
   "metadata": {
    "slideshow": {
     "slide_type": "fragment"
    }
   },
   "source": [
    "However, this costs us one extra degree of freedom per `firm` *except for the baseline*. Therefore, we lose another 10 degrees of freedom."
   ]
  },
  {
   "cell_type": "markdown",
   "metadata": {
    "slideshow": {
     "slide_type": "skip"
    }
   },
   "source": [
    "> In this specific case, losing 10 degrees of freedom is not a big deal with 220 data points. Nonetheless, in other cases when data is scarce, this could be an issue."
   ]
  },
  {
   "cell_type": "markdown",
   "metadata": {
    "slideshow": {
     "slide_type": "slide"
    }
   },
   "source": [
    "### In-Class Activity\n",
    "\n",
    "What is the sample's regression equation for `model_varying_intercept`?"
   ]
  },
  {
   "cell_type": "markdown",
   "metadata": {
    "slideshow": {
     "slide_type": "skip"
    }
   },
   "source": [
    "The regression equation for the $i$th sampled observation in the $j$th `firm` will be:\n",
    "\n",
    "\\begin{equation*}\n",
    "\\texttt{investment}_{i,j} = \\beta_{0,j} + \\beta_1 \\texttt{marketValue}_{i,j} + \\beta_2\\texttt{capital}_{i,j} + \\varepsilon_{i,j} \\; \\; \\; \\; \\text{for} \\; i = 1, \\ldots, 20 \\; \\; \\text{and} \\; \\; j = 1, \\ldots, 11.\n",
    "\\end{equation*}\n",
    "\n",
    "> **Note that there is a varying term $\\beta_{0,j}$ which is indexed with the $j$th `firm`.**"
   ]
  },
  {
   "cell_type": "markdown",
   "metadata": {
    "slideshow": {
     "slide_type": "slide"
    }
   },
   "source": [
    "### A Linear Regression Model for Each Firm"
   ]
  },
  {
   "cell_type": "markdown",
   "metadata": {
    "slideshow": {
     "slide_type": "fragment"
    }
   },
   "source": [
    "We can make the model more complex with two interactions (`market_value * firm` and `capital * firm`). This will estimate a linear regression by `firm`."
   ]
  },
  {
   "cell_type": "code",
   "execution_count": 12,
   "metadata": {
    "slideshow": {
     "slide_type": "slide"
    }
   },
   "outputs": [
    {
     "data": {
      "text/html": [
       "<table>\n",
       "<caption>A tibble: 33 × 5</caption>\n",
       "<thead>\n",
       "\t<tr><th scope=col>term</th><th scope=col>estimate</th><th scope=col>std.error</th><th scope=col>statistic</th><th scope=col>p.value</th></tr>\n",
       "\t<tr><th scope=col>&lt;chr&gt;</th><th scope=col>&lt;dbl&gt;</th><th scope=col>&lt;dbl&gt;</th><th scope=col>&lt;dbl&gt;</th><th scope=col>&lt;dbl&gt;</th></tr>\n",
       "</thead>\n",
       "<tbody>\n",
       "\t<tr><td>(Intercept)                       </td><td>-149.78</td><td> 48.07</td><td>-3.12</td><td>0.00</td></tr>\n",
       "\t<tr><td>market_value                      </td><td>   0.12</td><td>  0.01</td><td>10.17</td><td>0.00</td></tr>\n",
       "\t<tr><td>firmUS Steel                      </td><td> 100.58</td><td> 80.04</td><td> 1.26</td><td>0.21</td></tr>\n",
       "\t<tr><td>firmGeneral Electric              </td><td> 139.83</td><td> 67.16</td><td> 2.08</td><td>0.04</td></tr>\n",
       "\t<tr><td>firmChrysler                      </td><td> 143.59</td><td> 64.09</td><td> 2.24</td><td>0.03</td></tr>\n",
       "\t<tr><td>firmAtlantic Refining             </td><td> 172.49</td><td> 57.52</td><td> 3.00</td><td>0.00</td></tr>\n",
       "\t<tr><td>firmIBM                           </td><td> 141.10</td><td> 53.48</td><td> 2.64</td><td>0.01</td></tr>\n",
       "\t<tr><td>firmUnion Oil                     </td><td> 145.28</td><td> 69.34</td><td> 2.10</td><td>0.04</td></tr>\n",
       "\t<tr><td>firmWestinghouse                  </td><td> 149.27</td><td> 58.14</td><td> 2.57</td><td>0.01</td></tr>\n",
       "\t<tr><td>firmGoodyear                      </td><td> 142.06</td><td> 64.41</td><td> 2.21</td><td>0.03</td></tr>\n",
       "\t<tr><td>firmDiamond Match                 </td><td> 149.94</td><td> 92.75</td><td> 1.62</td><td>0.11</td></tr>\n",
       "\t<tr><td>firmAmerican Steel                </td><td> 147.14</td><td>102.37</td><td> 1.44</td><td>0.15</td></tr>\n",
       "\t<tr><td>capital                           </td><td>   0.37</td><td>  0.02</td><td>22.06</td><td>0.00</td></tr>\n",
       "\t<tr><td>market_value:firmUS Steel         </td><td>   0.06</td><td>  0.03</td><td> 1.63</td><td>0.11</td></tr>\n",
       "\t<tr><td>market_value:firmGeneral Electric </td><td>  -0.09</td><td>  0.03</td><td>-3.56</td><td>0.00</td></tr>\n",
       "\t<tr><td>market_value:firmChrysler         </td><td>  -0.04</td><td>  0.06</td><td>-0.65</td><td>0.52</td></tr>\n",
       "\t<tr><td>market_value:firmAtlantic Refining</td><td>   0.04</td><td>  0.26</td><td> 0.16</td><td>0.87</td></tr>\n",
       "\t<tr><td>market_value:firmIBM              </td><td>   0.01</td><td>  0.16</td><td> 0.08</td><td>0.94</td></tr>\n",
       "\t<tr><td>market_value:firmUnion Oil        </td><td>  -0.03</td><td>  0.29</td><td>-0.11</td><td>0.91</td></tr>\n",
       "\t<tr><td>market_value:firmWestinghouse     </td><td>  -0.07</td><td>  0.07</td><td>-1.02</td><td>0.31</td></tr>\n",
       "\t<tr><td>market_value:firmGoodyear         </td><td>  -0.04</td><td>  0.16</td><td>-0.28</td><td>0.78</td></tr>\n",
       "\t<tr><td>market_value:firmDiamond Match    </td><td>  -0.11</td><td>  1.04</td><td>-0.11</td><td>0.91</td></tr>\n",
       "\t<tr><td>market_value:firmAmerican Steel   </td><td>  -0.05</td><td>  0.55</td><td>-0.10</td><td>0.92</td></tr>\n",
       "\t<tr><td>firmUS Steel:capital              </td><td>   0.02</td><td>  0.06</td><td> 0.29</td><td>0.78</td></tr>\n",
       "\t<tr><td>firmGeneral Electric:capital      </td><td>  -0.22</td><td>  0.04</td><td>-5.24</td><td>0.00</td></tr>\n",
       "\t<tr><td>firmChrysler:capital              </td><td>  -0.06</td><td>  0.09</td><td>-0.61</td><td>0.55</td></tr>\n",
       "\t<tr><td>firmAtlantic Refining:capital     </td><td>  -0.37</td><td>  0.10</td><td>-3.60</td><td>0.00</td></tr>\n",
       "\t<tr><td>firmIBM:capital                   </td><td>  -0.29</td><td>  0.52</td><td>-0.55</td><td>0.58</td></tr>\n",
       "\t<tr><td>firmUnion Oil:capital             </td><td>  -0.25</td><td>  0.08</td><td>-3.20</td><td>0.00</td></tr>\n",
       "\t<tr><td>firmWestinghouse:capital          </td><td>  -0.28</td><td>  0.23</td><td>-1.22</td><td>0.23</td></tr>\n",
       "\t<tr><td>firmGoodyear:capital              </td><td>  -0.29</td><td>  0.13</td><td>-2.24</td><td>0.03</td></tr>\n",
       "\t<tr><td>firmDiamond Match:capital         </td><td>   0.07</td><td>  3.06</td><td> 0.02</td><td>0.98</td></tr>\n",
       "\t<tr><td>firmAmerican Steel:capital        </td><td>  -0.29</td><td>  1.10</td><td>-0.26</td><td>0.79</td></tr>\n",
       "</tbody>\n",
       "</table>\n"
      ],
      "text/latex": [
       "A tibble: 33 × 5\n",
       "\\begin{tabular}{lllll}\n",
       " term & estimate & std.error & statistic & p.value\\\\\n",
       " <chr> & <dbl> & <dbl> & <dbl> & <dbl>\\\\\n",
       "\\hline\n",
       "\t (Intercept)                        & -149.78 &  48.07 & -3.12 & 0.00\\\\\n",
       "\t market\\_value                       &    0.12 &   0.01 & 10.17 & 0.00\\\\\n",
       "\t firmUS Steel                       &  100.58 &  80.04 &  1.26 & 0.21\\\\\n",
       "\t firmGeneral Electric               &  139.83 &  67.16 &  2.08 & 0.04\\\\\n",
       "\t firmChrysler                       &  143.59 &  64.09 &  2.24 & 0.03\\\\\n",
       "\t firmAtlantic Refining              &  172.49 &  57.52 &  3.00 & 0.00\\\\\n",
       "\t firmIBM                            &  141.10 &  53.48 &  2.64 & 0.01\\\\\n",
       "\t firmUnion Oil                      &  145.28 &  69.34 &  2.10 & 0.04\\\\\n",
       "\t firmWestinghouse                   &  149.27 &  58.14 &  2.57 & 0.01\\\\\n",
       "\t firmGoodyear                       &  142.06 &  64.41 &  2.21 & 0.03\\\\\n",
       "\t firmDiamond Match                  &  149.94 &  92.75 &  1.62 & 0.11\\\\\n",
       "\t firmAmerican Steel                 &  147.14 & 102.37 &  1.44 & 0.15\\\\\n",
       "\t capital                            &    0.37 &   0.02 & 22.06 & 0.00\\\\\n",
       "\t market\\_value:firmUS Steel          &    0.06 &   0.03 &  1.63 & 0.11\\\\\n",
       "\t market\\_value:firmGeneral Electric  &   -0.09 &   0.03 & -3.56 & 0.00\\\\\n",
       "\t market\\_value:firmChrysler          &   -0.04 &   0.06 & -0.65 & 0.52\\\\\n",
       "\t market\\_value:firmAtlantic Refining &    0.04 &   0.26 &  0.16 & 0.87\\\\\n",
       "\t market\\_value:firmIBM               &    0.01 &   0.16 &  0.08 & 0.94\\\\\n",
       "\t market\\_value:firmUnion Oil         &   -0.03 &   0.29 & -0.11 & 0.91\\\\\n",
       "\t market\\_value:firmWestinghouse      &   -0.07 &   0.07 & -1.02 & 0.31\\\\\n",
       "\t market\\_value:firmGoodyear          &   -0.04 &   0.16 & -0.28 & 0.78\\\\\n",
       "\t market\\_value:firmDiamond Match     &   -0.11 &   1.04 & -0.11 & 0.91\\\\\n",
       "\t market\\_value:firmAmerican Steel    &   -0.05 &   0.55 & -0.10 & 0.92\\\\\n",
       "\t firmUS Steel:capital               &    0.02 &   0.06 &  0.29 & 0.78\\\\\n",
       "\t firmGeneral Electric:capital       &   -0.22 &   0.04 & -5.24 & 0.00\\\\\n",
       "\t firmChrysler:capital               &   -0.06 &   0.09 & -0.61 & 0.55\\\\\n",
       "\t firmAtlantic Refining:capital      &   -0.37 &   0.10 & -3.60 & 0.00\\\\\n",
       "\t firmIBM:capital                    &   -0.29 &   0.52 & -0.55 & 0.58\\\\\n",
       "\t firmUnion Oil:capital              &   -0.25 &   0.08 & -3.20 & 0.00\\\\\n",
       "\t firmWestinghouse:capital           &   -0.28 &   0.23 & -1.22 & 0.23\\\\\n",
       "\t firmGoodyear:capital               &   -0.29 &   0.13 & -2.24 & 0.03\\\\\n",
       "\t firmDiamond Match:capital          &    0.07 &   3.06 &  0.02 & 0.98\\\\\n",
       "\t firmAmerican Steel:capital         &   -0.29 &   1.10 & -0.26 & 0.79\\\\\n",
       "\\end{tabular}\n"
      ],
      "text/markdown": [
       "\n",
       "A tibble: 33 × 5\n",
       "\n",
       "| term &lt;chr&gt; | estimate &lt;dbl&gt; | std.error &lt;dbl&gt; | statistic &lt;dbl&gt; | p.value &lt;dbl&gt; |\n",
       "|---|---|---|---|---|\n",
       "| (Intercept)                        | -149.78 |  48.07 | -3.12 | 0.00 |\n",
       "| market_value                       |    0.12 |   0.01 | 10.17 | 0.00 |\n",
       "| firmUS Steel                       |  100.58 |  80.04 |  1.26 | 0.21 |\n",
       "| firmGeneral Electric               |  139.83 |  67.16 |  2.08 | 0.04 |\n",
       "| firmChrysler                       |  143.59 |  64.09 |  2.24 | 0.03 |\n",
       "| firmAtlantic Refining              |  172.49 |  57.52 |  3.00 | 0.00 |\n",
       "| firmIBM                            |  141.10 |  53.48 |  2.64 | 0.01 |\n",
       "| firmUnion Oil                      |  145.28 |  69.34 |  2.10 | 0.04 |\n",
       "| firmWestinghouse                   |  149.27 |  58.14 |  2.57 | 0.01 |\n",
       "| firmGoodyear                       |  142.06 |  64.41 |  2.21 | 0.03 |\n",
       "| firmDiamond Match                  |  149.94 |  92.75 |  1.62 | 0.11 |\n",
       "| firmAmerican Steel                 |  147.14 | 102.37 |  1.44 | 0.15 |\n",
       "| capital                            |    0.37 |   0.02 | 22.06 | 0.00 |\n",
       "| market_value:firmUS Steel          |    0.06 |   0.03 |  1.63 | 0.11 |\n",
       "| market_value:firmGeneral Electric  |   -0.09 |   0.03 | -3.56 | 0.00 |\n",
       "| market_value:firmChrysler          |   -0.04 |   0.06 | -0.65 | 0.52 |\n",
       "| market_value:firmAtlantic Refining |    0.04 |   0.26 |  0.16 | 0.87 |\n",
       "| market_value:firmIBM               |    0.01 |   0.16 |  0.08 | 0.94 |\n",
       "| market_value:firmUnion Oil         |   -0.03 |   0.29 | -0.11 | 0.91 |\n",
       "| market_value:firmWestinghouse      |   -0.07 |   0.07 | -1.02 | 0.31 |\n",
       "| market_value:firmGoodyear          |   -0.04 |   0.16 | -0.28 | 0.78 |\n",
       "| market_value:firmDiamond Match     |   -0.11 |   1.04 | -0.11 | 0.91 |\n",
       "| market_value:firmAmerican Steel    |   -0.05 |   0.55 | -0.10 | 0.92 |\n",
       "| firmUS Steel:capital               |    0.02 |   0.06 |  0.29 | 0.78 |\n",
       "| firmGeneral Electric:capital       |   -0.22 |   0.04 | -5.24 | 0.00 |\n",
       "| firmChrysler:capital               |   -0.06 |   0.09 | -0.61 | 0.55 |\n",
       "| firmAtlantic Refining:capital      |   -0.37 |   0.10 | -3.60 | 0.00 |\n",
       "| firmIBM:capital                    |   -0.29 |   0.52 | -0.55 | 0.58 |\n",
       "| firmUnion Oil:capital              |   -0.25 |   0.08 | -3.20 | 0.00 |\n",
       "| firmWestinghouse:capital           |   -0.28 |   0.23 | -1.22 | 0.23 |\n",
       "| firmGoodyear:capital               |   -0.29 |   0.13 | -2.24 | 0.03 |\n",
       "| firmDiamond Match:capital          |    0.07 |   3.06 |  0.02 | 0.98 |\n",
       "| firmAmerican Steel:capital         |   -0.29 |   1.10 | -0.26 | 0.79 |\n",
       "\n"
      ],
      "text/plain": [
       "   term                               estimate std.error statistic p.value\n",
       "1  (Intercept)                        -149.78   48.07    -3.12     0.00   \n",
       "2  market_value                          0.12    0.01    10.17     0.00   \n",
       "3  firmUS Steel                        100.58   80.04     1.26     0.21   \n",
       "4  firmGeneral Electric                139.83   67.16     2.08     0.04   \n",
       "5  firmChrysler                        143.59   64.09     2.24     0.03   \n",
       "6  firmAtlantic Refining               172.49   57.52     3.00     0.00   \n",
       "7  firmIBM                             141.10   53.48     2.64     0.01   \n",
       "8  firmUnion Oil                       145.28   69.34     2.10     0.04   \n",
       "9  firmWestinghouse                    149.27   58.14     2.57     0.01   \n",
       "10 firmGoodyear                        142.06   64.41     2.21     0.03   \n",
       "11 firmDiamond Match                   149.94   92.75     1.62     0.11   \n",
       "12 firmAmerican Steel                  147.14  102.37     1.44     0.15   \n",
       "13 capital                               0.37    0.02    22.06     0.00   \n",
       "14 market_value:firmUS Steel             0.06    0.03     1.63     0.11   \n",
       "15 market_value:firmGeneral Electric    -0.09    0.03    -3.56     0.00   \n",
       "16 market_value:firmChrysler            -0.04    0.06    -0.65     0.52   \n",
       "17 market_value:firmAtlantic Refining    0.04    0.26     0.16     0.87   \n",
       "18 market_value:firmIBM                  0.01    0.16     0.08     0.94   \n",
       "19 market_value:firmUnion Oil           -0.03    0.29    -0.11     0.91   \n",
       "20 market_value:firmWestinghouse        -0.07    0.07    -1.02     0.31   \n",
       "21 market_value:firmGoodyear            -0.04    0.16    -0.28     0.78   \n",
       "22 market_value:firmDiamond Match       -0.11    1.04    -0.11     0.91   \n",
       "23 market_value:firmAmerican Steel      -0.05    0.55    -0.10     0.92   \n",
       "24 firmUS Steel:capital                  0.02    0.06     0.29     0.78   \n",
       "25 firmGeneral Electric:capital         -0.22    0.04    -5.24     0.00   \n",
       "26 firmChrysler:capital                 -0.06    0.09    -0.61     0.55   \n",
       "27 firmAtlantic Refining:capital        -0.37    0.10    -3.60     0.00   \n",
       "28 firmIBM:capital                      -0.29    0.52    -0.55     0.58   \n",
       "29 firmUnion Oil:capital                -0.25    0.08    -3.20     0.00   \n",
       "30 firmWestinghouse:capital             -0.28    0.23    -1.22     0.23   \n",
       "31 firmGoodyear:capital                 -0.29    0.13    -2.24     0.03   \n",
       "32 firmDiamond Match:capital             0.07    3.06     0.02     0.98   \n",
       "33 firmAmerican Steel:capital           -0.29    1.10    -0.26     0.79   "
      ]
     },
     "metadata": {},
     "output_type": "display_data"
    },
    {
     "data": {
      "text/html": [
       "<table>\n",
       "<caption>A tibble: 1 × 12</caption>\n",
       "<thead>\n",
       "\t<tr><th scope=col>r.squared</th><th scope=col>adj.r.squared</th><th scope=col>sigma</th><th scope=col>statistic</th><th scope=col>p.value</th><th scope=col>df</th><th scope=col>logLik</th><th scope=col>AIC</th><th scope=col>BIC</th><th scope=col>deviance</th><th scope=col>df.residual</th><th scope=col>nobs</th></tr>\n",
       "\t<tr><th scope=col>&lt;dbl&gt;</th><th scope=col>&lt;dbl&gt;</th><th scope=col>&lt;dbl&gt;</th><th scope=col>&lt;dbl&gt;</th><th scope=col>&lt;dbl&gt;</th><th scope=col>&lt;dbl&gt;</th><th scope=col>&lt;dbl&gt;</th><th scope=col>&lt;dbl&gt;</th><th scope=col>&lt;dbl&gt;</th><th scope=col>&lt;dbl&gt;</th><th scope=col>&lt;dbl&gt;</th><th scope=col>&lt;dbl&gt;</th></tr>\n",
       "</thead>\n",
       "<tbody>\n",
       "\t<tr><td>0.97</td><td>0.96</td><td>41.68</td><td>168.84</td><td>0</td><td>32</td><td>-1114.91</td><td>2297.81</td><td>2413.2</td><td>324895.6</td><td>187</td><td>220</td></tr>\n",
       "</tbody>\n",
       "</table>\n"
      ],
      "text/latex": [
       "A tibble: 1 × 12\n",
       "\\begin{tabular}{llllllllllll}\n",
       " r.squared & adj.r.squared & sigma & statistic & p.value & df & logLik & AIC & BIC & deviance & df.residual & nobs\\\\\n",
       " <dbl> & <dbl> & <dbl> & <dbl> & <dbl> & <dbl> & <dbl> & <dbl> & <dbl> & <dbl> & <dbl> & <dbl>\\\\\n",
       "\\hline\n",
       "\t 0.97 & 0.96 & 41.68 & 168.84 & 0 & 32 & -1114.91 & 2297.81 & 2413.2 & 324895.6 & 187 & 220\\\\\n",
       "\\end{tabular}\n"
      ],
      "text/markdown": [
       "\n",
       "A tibble: 1 × 12\n",
       "\n",
       "| r.squared &lt;dbl&gt; | adj.r.squared &lt;dbl&gt; | sigma &lt;dbl&gt; | statistic &lt;dbl&gt; | p.value &lt;dbl&gt; | df &lt;dbl&gt; | logLik &lt;dbl&gt; | AIC &lt;dbl&gt; | BIC &lt;dbl&gt; | deviance &lt;dbl&gt; | df.residual &lt;dbl&gt; | nobs &lt;dbl&gt; |\n",
       "|---|---|---|---|---|---|---|---|---|---|---|---|\n",
       "| 0.97 | 0.96 | 41.68 | 168.84 | 0 | 32 | -1114.91 | 2297.81 | 2413.2 | 324895.6 | 187 | 220 |\n",
       "\n"
      ],
      "text/plain": [
       "  r.squared adj.r.squared sigma statistic p.value df logLik   AIC     BIC   \n",
       "1 0.97      0.96          41.68 168.84    0       32 -1114.91 2297.81 2413.2\n",
       "  deviance df.residual nobs\n",
       "1 324895.6 187         220 "
      ]
     },
     "metadata": {},
     "output_type": "display_data"
    }
   ],
   "source": [
    "model_by_firm <- lm(investment ~ market_value * firm + capital * firm, data = Grunfeld)\n",
    "tidy(model_by_firm) %>%\n",
    "  mutate_if(is.numeric, round, 2)\n",
    "glance(model_by_firm) %>%\n",
    "  mutate_if(is.numeric, round, 2)"
   ]
  },
  {
   "cell_type": "markdown",
   "metadata": {
    "slideshow": {
     "slide_type": "slide"
    }
   },
   "source": [
    "We are now estimating a linear regression for each `firm`. In this case, we are fitting eleven linear regressions, each with 20 points."
   ]
  },
  {
   "cell_type": "markdown",
   "metadata": {
    "slideshow": {
     "slide_type": "fragment"
    }
   },
   "source": [
    "> We have plenty of data points in this case for all the degrees of freedom required to estimate each parameter. Nonetheless, this might not be the case with other datasets."
   ]
  },
  {
   "cell_type": "markdown",
   "metadata": {
    "slideshow": {
     "slide_type": "slide"
    }
   },
   "source": [
    "### In-Class Activity\n",
    "\n",
    "What is the sample's regression equation for `model_by_firm`?"
   ]
  },
  {
   "cell_type": "markdown",
   "metadata": {
    "slideshow": {
     "slide_type": "skip"
    }
   },
   "source": [
    "The regression equation for the $i$th sampled observation in the $j$th `firm` will be:\n",
    "\n",
    "\\begin{equation*}\n",
    "\\texttt{investment}_{i,j} = \\beta_{0,j} + \\beta_{1,j} \\texttt{marketValue}_{i,j} + \\beta_{2,j} \\texttt{capital}_{i,j} + \\varepsilon_{i,j} \\; \\; \\; \\; \\text{for} \\; i = 1, \\ldots, 20 \\; \\; \\text{and} \\; \\; j = 1, \\ldots, 11.\n",
    "\\end{equation*}\n",
    "\n",
    "> **Note that the terms $\\beta_{0,j}$, $\\beta_{1,j}$, and $\\beta_{2,j}$ (indexed with the $j$th) vary by `firm`.**"
   ]
  },
  {
   "cell_type": "markdown",
   "metadata": {
    "slideshow": {
     "slide_type": "slide"
    }
   },
   "source": [
    "We went as far as fitting a separate linear regression for each `firm`. How to interpret the coefficients in this model?"
   ]
  },
  {
   "cell_type": "markdown",
   "metadata": {
    "slideshow": {
     "slide_type": "fragment"
    }
   },
   "source": [
    "> Each regression coefficient is associated with a `firm`. For example, $\\texttt{firmUS Steel:capital} = 0.02$ means that the variable `capital` has a slope of $0.02 + 0.37 = 0.39$. for `US Steel`. We can double-check this by estimating an individual linear regression for `US Steel`:"
   ]
  },
  {
   "cell_type": "code",
   "execution_count": 13,
   "metadata": {
    "slideshow": {
     "slide_type": "slide"
    }
   },
   "outputs": [
    {
     "data": {
      "text/html": [
       "<table>\n",
       "<caption>A tibble: 3 × 5</caption>\n",
       "<thead>\n",
       "\t<tr><th scope=col>term</th><th scope=col>estimate</th><th scope=col>std.error</th><th scope=col>statistic</th><th scope=col>p.value</th></tr>\n",
       "\t<tr><th scope=col>&lt;chr&gt;</th><th scope=col>&lt;dbl&gt;</th><th scope=col>&lt;dbl&gt;</th><th scope=col>&lt;dbl&gt;</th><th scope=col>&lt;dbl&gt;</th></tr>\n",
       "</thead>\n",
       "<tbody>\n",
       "\t<tr><td>(Intercept) </td><td>-49.20</td><td>148.08</td><td>-0.33</td><td>0.74</td></tr>\n",
       "\t<tr><td>market_value</td><td>  0.17</td><td>  0.07</td><td> 2.36</td><td>0.03</td></tr>\n",
       "\t<tr><td>capital     </td><td>  0.39</td><td>  0.14</td><td> 2.74</td><td>0.01</td></tr>\n",
       "</tbody>\n",
       "</table>\n"
      ],
      "text/latex": [
       "A tibble: 3 × 5\n",
       "\\begin{tabular}{lllll}\n",
       " term & estimate & std.error & statistic & p.value\\\\\n",
       " <chr> & <dbl> & <dbl> & <dbl> & <dbl>\\\\\n",
       "\\hline\n",
       "\t (Intercept)  & -49.20 & 148.08 & -0.33 & 0.74\\\\\n",
       "\t market\\_value &   0.17 &   0.07 &  2.36 & 0.03\\\\\n",
       "\t capital      &   0.39 &   0.14 &  2.74 & 0.01\\\\\n",
       "\\end{tabular}\n"
      ],
      "text/markdown": [
       "\n",
       "A tibble: 3 × 5\n",
       "\n",
       "| term &lt;chr&gt; | estimate &lt;dbl&gt; | std.error &lt;dbl&gt; | statistic &lt;dbl&gt; | p.value &lt;dbl&gt; |\n",
       "|---|---|---|---|---|\n",
       "| (Intercept)  | -49.20 | 148.08 | -0.33 | 0.74 |\n",
       "| market_value |   0.17 |   0.07 |  2.36 | 0.03 |\n",
       "| capital      |   0.39 |   0.14 |  2.74 | 0.01 |\n",
       "\n"
      ],
      "text/plain": [
       "  term         estimate std.error statistic p.value\n",
       "1 (Intercept)  -49.20   148.08    -0.33     0.74   \n",
       "2 market_value   0.17     0.07     2.36     0.03   \n",
       "3 capital        0.39     0.14     2.74     0.01   "
      ]
     },
     "metadata": {},
     "output_type": "display_data"
    }
   ],
   "source": [
    "tidy(lm(investment ~ market_value + capital, data = Grunfeld %>% filter(firm == \"US Steel\"))) %>%\n",
    "  mutate_if(is.numeric, round, 2)"
   ]
  },
  {
   "cell_type": "markdown",
   "metadata": {
    "slideshow": {
     "slide_type": "slide"
    }
   },
   "source": [
    "Are we in line with the main modelling objective with all these linear regression models?"
   ]
  },
  {
   "cell_type": "markdown",
   "metadata": {
    "slideshow": {
     "slide_type": "fragment"
    }
   },
   "source": [
    "> Actually, not. Grunfeld wanted to see how capital and market value affect gross investment among the companies. Not for *one specific `firm`*! The conclusions must be valid for \"all\" the companies."
   ]
  },
  {
   "cell_type": "markdown",
   "metadata": {
    "slideshow": {
     "slide_type": "slide"
    }
   },
   "source": [
    "## 3. Linear Mixed Effects Model"
   ]
  },
  {
   "cell_type": "markdown",
   "metadata": {
    "slideshow": {
     "slide_type": "fragment"
    }
   },
   "source": [
    "Let us take a step back and think about a population of companies. For instance, all American companies."
   ]
  },
  {
   "cell_type": "markdown",
   "metadata": {
    "slideshow": {
     "slide_type": "fragment"
    }
   },
   "source": [
    "Grunfeld did not collect data on all the American companies but sampled 11 companies from this population. He was interested in assessing whether `market_value` and `capital` were related to `investment` and by how much."
   ]
  },
  {
   "cell_type": "markdown",
   "metadata": {
    "slideshow": {
     "slide_type": "slide"
    }
   },
   "source": [
    "Let us assume that the $j$th sampled `firm` has its own intercept $b_{0,j}$ and the **overall fixed intercept** is $\\beta_0$. Therefore, for the $j$th firm we define the following **mixed** intercept:\n",
    "\n",
    "\\begin{equation*}\n",
    "\\beta_{0,j} = \\beta_0 + b_{0,j}.\n",
    "\\end{equation*}"
   ]
  },
  {
   "cell_type": "markdown",
   "metadata": {
    "slideshow": {
     "slide_type": "fragment"
    }
   },
   "source": [
    "The intercept $b_{0,j}$ is specifically for the $j$th `firm` that was sampled."
   ]
  },
  {
   "cell_type": "markdown",
   "metadata": {
    "slideshow": {
     "slide_type": "fragment"
    }
   },
   "source": [
    "Therefore, $b_{0,j}$ will change due to chance since it is linked the $j$th sampled `firm` which would make it a **random effect**. This is the deviation of the $j$th `firm` from the overall fixed intercept $\\beta_0$"
   ]
  },
  {
   "cell_type": "markdown",
   "metadata": {
    "slideshow": {
     "slide_type": "slide"
    }
   },
   "source": [
    "The regression paradigm of estimating a fixed unknown intercept $\\beta_0$ will change now. Moreover, the intercept $\\beta_{0,j}$ is what we call a **mixed effect**."
   ]
  },
  {
   "cell_type": "markdown",
   "metadata": {
    "slideshow": {
     "slide_type": "fragment"
    }
   },
   "source": [
    "\\begin{align*}\n",
    "\\texttt{investment}_{i,j} &= \\overbrace{\\beta_{0,j}}^{\\text{Mixed Effect}} + \\beta_1 \\texttt{marketValue}_{i,j} + \\beta_2\\texttt{capital}_{i,j} + \\varepsilon_{i,j} \\\\\n",
    "&=  (\\beta_0 + b_{0,j}) + \\beta_1 \\texttt{marketValue}_{i,j} + \\beta_2\\texttt{capital}_{i,j} + \\varepsilon_{i,j} \\\\ & \\qquad \\qquad \\qquad \\; \\; \\; \\; \\text{for} \\; i = 1, \\ldots, n_j \\; \\; \\text{and} \\; \\; j = 1, \\ldots, 11.\n",
    "\\end{align*}"
   ]
  },
  {
   "cell_type": "markdown",
   "metadata": {
    "slideshow": {
     "slide_type": "fragment"
    }
   },
   "source": [
    "Note that $n_j$ is making the model even more flexible by allowing different numbers of observations $n_j$ in each $j$th firm."
   ]
  },
  {
   "cell_type": "markdown",
   "metadata": {
    "slideshow": {
     "slide_type": "slide"
    }
   },
   "source": [
    "Now, $b_{0,j}\\sim \\mathcal{N}(0, \\sigma_b^2)$ is called a **random effect** and we assume it is independent of the error component $\\varepsilon_{i,j}\\sim \\mathcal{N}(0, \\sigma^2)$. The observations for the same `firm` (group) share the same random effect *making a correlation structure*."
   ]
  },
  {
   "cell_type": "markdown",
   "metadata": {
    "slideshow": {
     "slide_type": "fragment"
    }
   },
   "source": [
    "The variance of the $i$th response for the $j$th `firm` will be\n",
    "\n",
    "\\begin{equation*}\n",
    "\\text{Var}(\\texttt{investment}_{i,j}) = Var(b_{0,j}) + Var(\\varepsilon_{i,j}) = \\sigma_b^2 + \\sigma^2.\n",
    "\\end{equation*}\n",
    "\n",
    "For the $k$th and $l$th responses, within the $j$th firm, the correlation is given by:\n",
    "\n",
    "\\begin{equation*}\n",
    "\\text{Corr}(\\texttt{investment}_{k,j}, \\texttt{investment}_{l,j}) = \\frac{\\sigma^2_b}{\\sigma_b^2 + \\sigma^2}.\n",
    "\\end{equation*}"
   ]
  },
  {
   "cell_type": "markdown",
   "metadata": {
    "slideshow": {
     "slide_type": "slide"
    }
   },
   "source": [
    "We could even go further and model random slopes, along with the existing fixed ones, as follows:"
   ]
  },
  {
   "cell_type": "markdown",
   "metadata": {
    "slideshow": {
     "slide_type": "fragment"
    }
   },
   "source": [
    "\\begin{align*}\n",
    "\\texttt{investment}_{i,j}\n",
    "&= \\overbrace{\\beta_{0,j}}^{\\text{Mixed Effect}} + \\overbrace{\\beta_{1,j}}^{\\text{Mixed Effect}} \\times \\texttt{marketValue}_{i,j} + \\overbrace{\\beta_{2,j}}^{\\text{Mixed Effect}} \\times \\texttt{capital}_{i,j} + \\varepsilon_{i,j} \\\\\n",
    "&=  (\\beta_0 + b_{0,j}) + (\\beta_1 + b_{1,j}) \\times \\texttt{marketValue}_{i,j} + (\\beta_2 + b_{2,j}) \\times \\texttt{capital}_{i,j} + \\varepsilon_{i,j} \\\\\n",
    "& \\qquad \\qquad  \\qquad \\qquad \\qquad \\qquad \\text{for} \\; i = 1, \\ldots, n_j \\; \\; \\text{and} \\; \\; j = 1, \\ldots, 11;\n",
    "\\end{align*}\n",
    "\n",
    "where $(b_{0,j}, b_{1,j}, b_{2,j})^{T} \\sim \\mathcal{N}_3(\\mathbf{0}, \\mathbf{D})$, where $\\mathbf{D}$ is a generic covariance matrix."
   ]
  },
  {
   "cell_type": "markdown",
   "metadata": {
    "slideshow": {
     "slide_type": "slide"
    }
   },
   "source": [
    "### Important Notes\n",
    "\n",
    "- While the random effects are assumed to follow a joint normal distribution, this is different from the sampling distribution of the estimates of the fixed effects. \n",
    "- The joint normal distribution explains the spread of regression coefficients and does not change when we collect more data (we get a better estimate of this distribution).\n",
    "- The sampling distribution explains the uncertainty in the regression estimates and gets narrower as we collect more data.  "
   ]
  },
  {
   "cell_type": "markdown",
   "metadata": {
    "slideshow": {
     "slide_type": "slide"
    }
   },
   "source": [
    "### 3.1. Model Fitting and Inference"
   ]
  },
  {
   "cell_type": "markdown",
   "metadata": {
    "slideshow": {
     "slide_type": "skip"
    }
   },
   "source": [
    "Let us estimate the regression model with a mixed intercept only (`mixed_intercept_model`) via the function `lmer()` from package `lme4`. Note that `(1 | firm)` allows the model to have a random intercept by `firm`."
   ]
  },
  {
   "cell_type": "code",
   "execution_count": 14,
   "metadata": {
    "slideshow": {
     "slide_type": "skip"
    }
   },
   "outputs": [
    {
     "name": "stdout",
     "output_type": "stream",
     "text": [
      "Linear mixed model fit by REML ['lmerModLmerTest']\n",
      "Formula: investment ~ market_value + capital + (1 | firm)\n",
      "   Data: Grunfeld\n",
      "REML criterion at convergence: 2394.616\n",
      "Random effects:\n",
      " Groups   Name        Std.Dev.\n",
      " firm     (Intercept) 82.10   \n",
      " Residual             50.27   \n",
      "Number of obs: 220, groups:  firm, 11\n",
      "Fixed Effects:\n",
      " (Intercept)  market_value       capital  \n",
      "    -54.0318        0.1094        0.3082  \n",
      "fit warnings:\n",
      "Some predictor variables are on very different scales: consider rescaling\n"
     ]
    }
   ],
   "source": [
    "suppressWarnings(suppressMessages(print(mixed_intercept_model <- lmer(investment ~ market_value +\n",
    "  capital + (1 | firm),\n",
    "data = Grunfeld\n",
    "))))"
   ]
  },
  {
   "cell_type": "markdown",
   "metadata": {
    "slideshow": {
     "slide_type": "skip"
    }
   },
   "source": [
    "Now, let us estimate the mixed-effects regression model with mixed intercept and slopes (`full_mixed_model`)."
   ]
  },
  {
   "cell_type": "code",
   "execution_count": 15,
   "metadata": {
    "slideshow": {
     "slide_type": "skip"
    }
   },
   "outputs": [
    {
     "name": "stdout",
     "output_type": "stream",
     "text": [
      "Linear mixed model fit by REML ['lmerModLmerTest']\n",
      "Formula: investment ~ market_value + capital + (market_value + capital |  \n",
      "    firm)\n",
      "   Data: Grunfeld\n",
      "REML criterion at convergence: 2299.116\n",
      "Random effects:\n",
      " Groups   Name         Std.Dev. Corr       \n",
      " firm     (Intercept)  15.15612            \n",
      "          market_value  0.05235 -1.00      \n",
      "          capital       0.12291 -0.85  0.85\n",
      " Residual              40.77647            \n",
      "Number of obs: 220, groups:  firm, 11\n",
      "Fixed Effects:\n",
      " (Intercept)  market_value       capital  \n",
      "    -7.79756       0.06118       0.22694  \n",
      "fit warnings:\n",
      "Some predictor variables are on very different scales: consider rescaling\n",
      "convergence code 0; 0 optimizer warnings; 1 lme4 warnings \n"
     ]
    }
   ],
   "source": [
    "suppressWarnings(suppressMessages(print(full_mixed_model <- lmer(investment ~ market_value +\n",
    "  capital + (market_value + capital | firm),\n",
    "data = Grunfeld\n",
    "))))"
   ]
  },
  {
   "cell_type": "markdown",
   "metadata": {
    "slideshow": {
     "slide_type": "skip"
    }
   },
   "source": [
    "We can now assess whether the fixed effects are statistically associated with `investment` in each model via `summary()`. We will use the package `lmerTest()`."
   ]
  },
  {
   "cell_type": "code",
   "execution_count": 16,
   "metadata": {
    "slideshow": {
     "slide_type": "skip"
    }
   },
   "outputs": [
    {
     "data": {
      "text/plain": [
       "Linear mixed model fit by REML. t-tests use Satterthwaite's method [\n",
       "lmerModLmerTest]\n",
       "Formula: investment ~ market_value + capital + (1 | firm)\n",
       "   Data: Grunfeld\n",
       "\n",
       "REML criterion at convergence: 2394.6\n",
       "\n",
       "Scaled residuals: \n",
       "    Min      1Q  Median      3Q     Max \n",
       "-3.6018 -0.3138  0.0139  0.3148  5.0604 \n",
       "\n",
       "Random effects:\n",
       " Groups   Name        Variance Std.Dev.\n",
       " firm     (Intercept) 6741     82.10   \n",
       " Residual             2528     50.27   \n",
       "Number of obs: 220, groups:  firm, 11\n",
       "\n",
       "Fixed effects:\n",
       "               Estimate Std. Error         df t value Pr(>|t|)    \n",
       "(Intercept)  -54.031821  26.623551  12.069048  -2.029   0.0651 .  \n",
       "market_value   0.109352   0.009987 129.346325  10.950   <2e-16 ***\n",
       "capital        0.308200   0.016368 213.247095  18.830   <2e-16 ***\n",
       "---\n",
       "Signif. codes:  0 ‘***’ 0.001 ‘**’ 0.01 ‘*’ 0.05 ‘.’ 0.1 ‘ ’ 1\n",
       "\n",
       "Correlation of Fixed Effects:\n",
       "            (Intr) mrkt_v\n",
       "market_valu -0.312       \n",
       "capital     -0.021 -0.369\n",
       "fit warnings:\n",
       "Some predictor variables are on very different scales: consider rescaling"
      ]
     },
     "metadata": {},
     "output_type": "display_data"
    }
   ],
   "source": [
    "summary(mixed_intercept_model)"
   ]
  },
  {
   "cell_type": "code",
   "execution_count": 17,
   "metadata": {
    "slideshow": {
     "slide_type": "skip"
    }
   },
   "outputs": [
    {
     "data": {
      "text/plain": [
       "Linear mixed model fit by REML. t-tests use Satterthwaite's method [\n",
       "lmerModLmerTest]\n",
       "Formula: investment ~ market_value + capital + (market_value + capital |  \n",
       "    firm)\n",
       "   Data: Grunfeld\n",
       "\n",
       "REML criterion at convergence: 2299.1\n",
       "\n",
       "Scaled residuals: \n",
       "    Min      1Q  Median      3Q     Max \n",
       "-4.5030 -0.1660  0.0100  0.1819  4.1389 \n",
       "\n",
       "Random effects:\n",
       " Groups   Name         Variance  Std.Dev. Corr       \n",
       " firm     (Intercept)  2.297e+02 15.15612            \n",
       "          market_value 2.741e-03  0.05235 -1.00      \n",
       "          capital      1.511e-02  0.12291 -0.85  0.85\n",
       " Residual              1.663e+03 40.77647            \n",
       "Number of obs: 220, groups:  firm, 11\n",
       "\n",
       "Fixed effects:\n",
       "             Estimate Std. Error       df t value Pr(>|t|)    \n",
       "(Intercept)  -7.79756    7.79890  7.01489  -1.000 0.350626    \n",
       "market_value  0.06118    0.01927  7.74466   3.175 0.013660 *  \n",
       "capital       0.22694    0.04422  9.52493   5.132 0.000517 ***\n",
       "---\n",
       "Signif. codes:  0 ‘***’ 0.001 ‘**’ 0.01 ‘*’ 0.05 ‘.’ 0.1 ‘ ’ 1\n",
       "\n",
       "Correlation of Fixed Effects:\n",
       "            (Intr) mrkt_v\n",
       "market_valu -0.691       \n",
       "capital     -0.547  0.564\n",
       "fit warnings:\n",
       "Some predictor variables are on very different scales: consider rescaling\n",
       "convergence code: 0\n",
       "boundary (singular) fit: see ?isSingular\n"
      ]
     },
     "metadata": {},
     "output_type": "display_data"
    }
   ],
   "source": [
    "summary(full_mixed_model)"
   ]
  },
  {
   "cell_type": "markdown",
   "metadata": {
    "slideshow": {
     "slide_type": "skip"
    }
   },
   "source": [
    "We can see that `market_value` and `capital` are significant with $\\alpha = 0.05$ in both models. Moreover, the regression coefficients' interpretation for the fixed effects will be on the effect these regressors have on the population `investment` mean of the American companies. "
   ]
  },
  {
   "cell_type": "markdown",
   "metadata": {
    "slideshow": {
     "slide_type": "skip"
    }
   },
   "source": [
    "We can obtain the estimated coefficients by `firm` along with the intercepts for both models via `coef()`."
   ]
  },
  {
   "cell_type": "code",
   "execution_count": 18,
   "metadata": {
    "slideshow": {
     "slide_type": "skip"
    }
   },
   "outputs": [
    {
     "data": {
      "text/html": [
       "<table>\n",
       "<caption>A data.frame: 11 × 3</caption>\n",
       "<thead>\n",
       "\t<tr><th></th><th scope=col>(Intercept)</th><th scope=col>market_value</th><th scope=col>capital</th></tr>\n",
       "\t<tr><th></th><th scope=col>&lt;dbl&gt;</th><th scope=col>&lt;dbl&gt;</th><th scope=col>&lt;dbl&gt;</th></tr>\n",
       "</thead>\n",
       "<tbody>\n",
       "\t<tr><th scope=row>General Motors</th><td> -65.526515</td><td>0.109352</td><td>0.3081997</td></tr>\n",
       "\t<tr><th scope=row>US Steel</th><td> 101.069974</td><td>0.109352</td><td>0.3081997</td></tr>\n",
       "\t<tr><th scope=row>General Electric</th><td>-230.027388</td><td>0.109352</td><td>0.3081997</td></tr>\n",
       "\t<tr><th scope=row>Chrysler</th><td> -27.544640</td><td>0.109352</td><td>0.3081997</td></tr>\n",
       "\t<tr><th scope=row>Atlantic Refining</th><td>-112.435102</td><td>0.109352</td><td>0.3081997</td></tr>\n",
       "\t<tr><th scope=row>IBM</th><td> -23.220327</td><td>0.109352</td><td>0.3081997</td></tr>\n",
       "\t<tr><th scope=row>Union Oil</th><td> -65.632801</td><td>0.109352</td><td>0.3081997</td></tr>\n",
       "\t<tr><th scope=row>Westinghouse</th><td> -56.815866</td><td>0.109352</td><td>0.3081997</td></tr>\n",
       "\t<tr><th scope=row>Goodyear</th><td> -85.813152</td><td>0.109352</td><td>0.3081997</td></tr>\n",
       "\t<tr><th scope=row>Diamond Match</th><td>  -7.376705</td><td>0.109352</td><td>0.3081997</td></tr>\n",
       "\t<tr><th scope=row>American Steel</th><td> -21.027505</td><td>0.109352</td><td>0.3081997</td></tr>\n",
       "</tbody>\n",
       "</table>\n"
      ],
      "text/latex": [
       "A data.frame: 11 × 3\n",
       "\\begin{tabular}{r|lll}\n",
       "  & (Intercept) & market\\_value & capital\\\\\n",
       "  & <dbl> & <dbl> & <dbl>\\\\\n",
       "\\hline\n",
       "\tGeneral Motors &  -65.526515 & 0.109352 & 0.3081997\\\\\n",
       "\tUS Steel &  101.069974 & 0.109352 & 0.3081997\\\\\n",
       "\tGeneral Electric & -230.027388 & 0.109352 & 0.3081997\\\\\n",
       "\tChrysler &  -27.544640 & 0.109352 & 0.3081997\\\\\n",
       "\tAtlantic Refining & -112.435102 & 0.109352 & 0.3081997\\\\\n",
       "\tIBM &  -23.220327 & 0.109352 & 0.3081997\\\\\n",
       "\tUnion Oil &  -65.632801 & 0.109352 & 0.3081997\\\\\n",
       "\tWestinghouse &  -56.815866 & 0.109352 & 0.3081997\\\\\n",
       "\tGoodyear &  -85.813152 & 0.109352 & 0.3081997\\\\\n",
       "\tDiamond Match &   -7.376705 & 0.109352 & 0.3081997\\\\\n",
       "\tAmerican Steel &  -21.027505 & 0.109352 & 0.3081997\\\\\n",
       "\\end{tabular}\n"
      ],
      "text/markdown": [
       "\n",
       "A data.frame: 11 × 3\n",
       "\n",
       "| <!--/--> | (Intercept) &lt;dbl&gt; | market_value &lt;dbl&gt; | capital &lt;dbl&gt; |\n",
       "|---|---|---|---|\n",
       "| General Motors |  -65.526515 | 0.109352 | 0.3081997 |\n",
       "| US Steel |  101.069974 | 0.109352 | 0.3081997 |\n",
       "| General Electric | -230.027388 | 0.109352 | 0.3081997 |\n",
       "| Chrysler |  -27.544640 | 0.109352 | 0.3081997 |\n",
       "| Atlantic Refining | -112.435102 | 0.109352 | 0.3081997 |\n",
       "| IBM |  -23.220327 | 0.109352 | 0.3081997 |\n",
       "| Union Oil |  -65.632801 | 0.109352 | 0.3081997 |\n",
       "| Westinghouse |  -56.815866 | 0.109352 | 0.3081997 |\n",
       "| Goodyear |  -85.813152 | 0.109352 | 0.3081997 |\n",
       "| Diamond Match |   -7.376705 | 0.109352 | 0.3081997 |\n",
       "| American Steel |  -21.027505 | 0.109352 | 0.3081997 |\n",
       "\n"
      ],
      "text/plain": [
       "                  (Intercept) market_value capital  \n",
       "General Motors     -65.526515 0.109352     0.3081997\n",
       "US Steel           101.069974 0.109352     0.3081997\n",
       "General Electric  -230.027388 0.109352     0.3081997\n",
       "Chrysler           -27.544640 0.109352     0.3081997\n",
       "Atlantic Refining -112.435102 0.109352     0.3081997\n",
       "IBM                -23.220327 0.109352     0.3081997\n",
       "Union Oil          -65.632801 0.109352     0.3081997\n",
       "Westinghouse       -56.815866 0.109352     0.3081997\n",
       "Goodyear           -85.813152 0.109352     0.3081997\n",
       "Diamond Match       -7.376705 0.109352     0.3081997\n",
       "American Steel     -21.027505 0.109352     0.3081997"
      ]
     },
     "metadata": {},
     "output_type": "display_data"
    }
   ],
   "source": [
    "coef(mixed_intercept_model)$firm"
   ]
  },
  {
   "cell_type": "markdown",
   "metadata": {
    "slideshow": {
     "slide_type": "skip"
    }
   },
   "source": [
    "Note that in the `mixed_intercept_model` the column `(Intercept)` includes both the overall fixed and random effects, while the fixed slopes for `market_value` and `capital` are the same in the eleven companies. Recall that `mixed_intercept_model` does not have random effects for `market_value` and `capital`. "
   ]
  },
  {
   "cell_type": "markdown",
   "metadata": {
    "slideshow": {
     "slide_type": "skip"
    }
   },
   "source": [
    "The coefficient summary changes in `full_mixed_model` given that we also include random effects for `market_value` and `capital`, as shown below."
   ]
  },
  {
   "cell_type": "code",
   "execution_count": 19,
   "metadata": {
    "slideshow": {
     "slide_type": "skip"
    }
   },
   "outputs": [
    {
     "data": {
      "text/html": [
       "<table>\n",
       "<caption>A data.frame: 11 × 3</caption>\n",
       "<thead>\n",
       "\t<tr><th></th><th scope=col>(Intercept)</th><th scope=col>market_value</th><th scope=col>capital</th></tr>\n",
       "\t<tr><th></th><th scope=col>&lt;dbl&gt;</th><th scope=col>&lt;dbl&gt;</th><th scope=col>&lt;dbl&gt;</th></tr>\n",
       "</thead>\n",
       "<tbody>\n",
       "\t<tr><th scope=row>General Motors</th><td>-15.9552583</td><td>0.08936163</td><td>0.3746270</td></tr>\n",
       "\t<tr><th scope=row>US Steel</th><td>-37.3981285</td><td>0.16343240</td><td>0.4206200</td></tr>\n",
       "\t<tr><th scope=row>General Electric</th><td>  3.7069150</td><td>0.02144198</td><td>0.1453769</td></tr>\n",
       "\t<tr><th scope=row>Chrysler</th><td>-16.9962883</td><td>0.09295769</td><td>0.3041952</td></tr>\n",
       "\t<tr><th scope=row>Atlantic Refining</th><td>  6.5953958</td><td>0.01146421</td><td>0.1027958</td></tr>\n",
       "\t<tr><th scope=row>IBM</th><td>-14.2108882</td><td>0.08333600</td><td>0.2855949</td></tr>\n",
       "\t<tr><th scope=row>Union Oil</th><td>  0.9675705</td><td>0.03090458</td><td>0.1371497</td></tr>\n",
       "\t<tr><th scope=row>Westinghouse</th><td> -2.7054789</td><td>0.04359251</td><td>0.1826596</td></tr>\n",
       "\t<tr><th scope=row>Goodyear</th><td>  3.9889246</td><td>0.02046783</td><td>0.1116272</td></tr>\n",
       "\t<tr><th scope=row>Diamond Match</th><td> -3.5486176</td><td>0.04650499</td><td>0.1985645</td></tr>\n",
       "\t<tr><th scope=row>American Steel</th><td>-10.2172843</td><td>0.06954077</td><td>0.2331584</td></tr>\n",
       "</tbody>\n",
       "</table>\n"
      ],
      "text/latex": [
       "A data.frame: 11 × 3\n",
       "\\begin{tabular}{r|lll}\n",
       "  & (Intercept) & market\\_value & capital\\\\\n",
       "  & <dbl> & <dbl> & <dbl>\\\\\n",
       "\\hline\n",
       "\tGeneral Motors & -15.9552583 & 0.08936163 & 0.3746270\\\\\n",
       "\tUS Steel & -37.3981285 & 0.16343240 & 0.4206200\\\\\n",
       "\tGeneral Electric &   3.7069150 & 0.02144198 & 0.1453769\\\\\n",
       "\tChrysler & -16.9962883 & 0.09295769 & 0.3041952\\\\\n",
       "\tAtlantic Refining &   6.5953958 & 0.01146421 & 0.1027958\\\\\n",
       "\tIBM & -14.2108882 & 0.08333600 & 0.2855949\\\\\n",
       "\tUnion Oil &   0.9675705 & 0.03090458 & 0.1371497\\\\\n",
       "\tWestinghouse &  -2.7054789 & 0.04359251 & 0.1826596\\\\\n",
       "\tGoodyear &   3.9889246 & 0.02046783 & 0.1116272\\\\\n",
       "\tDiamond Match &  -3.5486176 & 0.04650499 & 0.1985645\\\\\n",
       "\tAmerican Steel & -10.2172843 & 0.06954077 & 0.2331584\\\\\n",
       "\\end{tabular}\n"
      ],
      "text/markdown": [
       "\n",
       "A data.frame: 11 × 3\n",
       "\n",
       "| <!--/--> | (Intercept) &lt;dbl&gt; | market_value &lt;dbl&gt; | capital &lt;dbl&gt; |\n",
       "|---|---|---|---|\n",
       "| General Motors | -15.9552583 | 0.08936163 | 0.3746270 |\n",
       "| US Steel | -37.3981285 | 0.16343240 | 0.4206200 |\n",
       "| General Electric |   3.7069150 | 0.02144198 | 0.1453769 |\n",
       "| Chrysler | -16.9962883 | 0.09295769 | 0.3041952 |\n",
       "| Atlantic Refining |   6.5953958 | 0.01146421 | 0.1027958 |\n",
       "| IBM | -14.2108882 | 0.08333600 | 0.2855949 |\n",
       "| Union Oil |   0.9675705 | 0.03090458 | 0.1371497 |\n",
       "| Westinghouse |  -2.7054789 | 0.04359251 | 0.1826596 |\n",
       "| Goodyear |   3.9889246 | 0.02046783 | 0.1116272 |\n",
       "| Diamond Match |  -3.5486176 | 0.04650499 | 0.1985645 |\n",
       "| American Steel | -10.2172843 | 0.06954077 | 0.2331584 |\n",
       "\n"
      ],
      "text/plain": [
       "                  (Intercept) market_value capital  \n",
       "General Motors    -15.9552583 0.08936163   0.3746270\n",
       "US Steel          -37.3981285 0.16343240   0.4206200\n",
       "General Electric    3.7069150 0.02144198   0.1453769\n",
       "Chrysler          -16.9962883 0.09295769   0.3041952\n",
       "Atlantic Refining   6.5953958 0.01146421   0.1027958\n",
       "IBM               -14.2108882 0.08333600   0.2855949\n",
       "Union Oil           0.9675705 0.03090458   0.1371497\n",
       "Westinghouse       -2.7054789 0.04359251   0.1826596\n",
       "Goodyear            3.9889246 0.02046783   0.1116272\n",
       "Diamond Match      -3.5486176 0.04650499   0.1985645\n",
       "American Steel    -10.2172843 0.06954077   0.2331584"
      ]
     },
     "metadata": {},
     "output_type": "display_data"
    }
   ],
   "source": [
    "coef(full_mixed_model)$firm"
   ]
  },
  {
   "cell_type": "markdown",
   "metadata": {
    "slideshow": {
     "slide_type": "slide"
    }
   },
   "source": [
    "Let us compare the obtained intercepts of `model_varying_intercept` with fixed-effects only to `mixed_intercept_model`.\n",
    "\n",
    "### In-Class Activity\n",
    "\n",
    "We can see that these estimated intercepts in `model_varying_intercept` and `mixed_intercept_model` are very similar. Therefore, what are the advantages of a mixed-effects model over a model with fixed-effects only?"
   ]
  },
  {
   "cell_type": "markdown",
   "metadata": {
    "slideshow": {
     "slide_type": "skip"
    }
   },
   "source": [
    "> This is related to estimation efficiency for the model parameters, and it is entirely in function of our inference/prediction objectives. A mixed-effects model allows saving degrees of freedom by not estimating unnecessary fixed effects in high-dimensional scenarios."
   ]
  },
  {
   "cell_type": "code",
   "execution_count": 20,
   "metadata": {
    "slideshow": {
     "slide_type": "skip"
    }
   },
   "outputs": [
    {
     "data": {
      "text/html": [
       "<style>\n",
       ".dl-inline {width: auto; margin:0; padding: 0}\n",
       ".dl-inline>dt, .dl-inline>dd {float: none; width: auto; display: inline-block}\n",
       ".dl-inline>dt::after {content: \":\\0020\"; padding-right: .5ex}\n",
       ".dl-inline>dt:not(:first-of-type) {padding-left: .5ex}\n",
       "</style><dl class=dl-inline><dt>market_value</dt><dd>0.11</dd><dt>capital</dt><dd>0.31</dd><dt>firmGeneral Motors</dt><dd>-70.3</dd><dt>firmUS Steel</dt><dd>101.9</dd><dt>firmGeneral Electric</dt><dd>-235.57</dd><dt>firmChrysler</dt><dd>-27.81</dd><dt>firmAtlantic Refining</dt><dd>-114.6</dd><dt>firmIBM</dt><dd>-23.16</dd><dt>firmUnion Oil</dt><dd>-66.54</dd><dt>firmWestinghouse</dt><dd>-57.55</dd><dt>firmGoodyear</dt><dd>-87.21</dd><dt>firmDiamond Match</dt><dd>-6.57</dd><dt>firmAmerican Steel</dt><dd>-20.58</dd></dl>\n"
      ],
      "text/latex": [
       "\\begin{description*}\n",
       "\\item[market\\textbackslash{}\\_value] 0.11\n",
       "\\item[capital] 0.31\n",
       "\\item[firmGeneral Motors] -70.3\n",
       "\\item[firmUS Steel] 101.9\n",
       "\\item[firmGeneral Electric] -235.57\n",
       "\\item[firmChrysler] -27.81\n",
       "\\item[firmAtlantic Refining] -114.6\n",
       "\\item[firmIBM] -23.16\n",
       "\\item[firmUnion Oil] -66.54\n",
       "\\item[firmWestinghouse] -57.55\n",
       "\\item[firmGoodyear] -87.21\n",
       "\\item[firmDiamond Match] -6.57\n",
       "\\item[firmAmerican Steel] -20.58\n",
       "\\end{description*}\n"
      ],
      "text/markdown": [
       "market_value\n",
       ":   0.11capital\n",
       ":   0.31firmGeneral Motors\n",
       ":   -70.3firmUS Steel\n",
       ":   101.9firmGeneral Electric\n",
       ":   -235.57firmChrysler\n",
       ":   -27.81firmAtlantic Refining\n",
       ":   -114.6firmIBM\n",
       ":   -23.16firmUnion Oil\n",
       ":   -66.54firmWestinghouse\n",
       ":   -57.55firmGoodyear\n",
       ":   -87.21firmDiamond Match\n",
       ":   -6.57firmAmerican Steel\n",
       ":   -20.58\n",
       "\n"
      ],
      "text/plain": [
       "         market_value               capital    firmGeneral Motors \n",
       "                 0.11                  0.31                -70.30 \n",
       "         firmUS Steel  firmGeneral Electric          firmChrysler \n",
       "               101.90               -235.57                -27.81 \n",
       "firmAtlantic Refining               firmIBM         firmUnion Oil \n",
       "              -114.60                -23.16                -66.54 \n",
       "     firmWestinghouse          firmGoodyear     firmDiamond Match \n",
       "               -57.55                -87.21                 -6.57 \n",
       "   firmAmerican Steel \n",
       "               -20.58 "
      ]
     },
     "metadata": {},
     "output_type": "display_data"
    }
   ],
   "source": [
    "round(coef(model_varying_intercept), 2)"
   ]
  },
  {
   "cell_type": "code",
   "execution_count": 21,
   "metadata": {
    "slideshow": {
     "slide_type": "skip"
    }
   },
   "outputs": [
    {
     "data": {
      "text/plain": [
       "$firm\n",
       "                  (Intercept) market_value   capital\n",
       "General Motors     -65.526515     0.109352 0.3081997\n",
       "US Steel           101.069974     0.109352 0.3081997\n",
       "General Electric  -230.027388     0.109352 0.3081997\n",
       "Chrysler           -27.544640     0.109352 0.3081997\n",
       "Atlantic Refining -112.435102     0.109352 0.3081997\n",
       "IBM                -23.220327     0.109352 0.3081997\n",
       "Union Oil          -65.632801     0.109352 0.3081997\n",
       "Westinghouse       -56.815866     0.109352 0.3081997\n",
       "Goodyear           -85.813152     0.109352 0.3081997\n",
       "Diamond Match       -7.376705     0.109352 0.3081997\n",
       "American Steel     -21.027505     0.109352 0.3081997\n",
       "\n",
       "attr(,\"class\")\n",
       "[1] \"coef.mer\""
      ]
     },
     "metadata": {},
     "output_type": "display_data"
    }
   ],
   "source": [
    "coef(mixed_intercept_model)"
   ]
  },
  {
   "cell_type": "markdown",
   "metadata": {
    "slideshow": {
     "slide_type": "slide"
    }
   },
   "source": [
    "### 3.2. Prediction"
   ]
  },
  {
   "cell_type": "markdown",
   "metadata": {
    "slideshow": {
     "slide_type": "slide"
    }
   },
   "source": [
    "We can make two classes of predictions with mixed-effects models:\n",
    "\n",
    "1. To predict on an existing group, we find that group's regression coefficients (and therefore model function) by summing the fixed effects and (if present) the random effects, then use that model function to make predictions.\n",
    "2. To predict on a new group (using a mean prediction), we use the fixed effects as the regression coefficients (because the random effects have mean zero) and use that model function to make predictions. "
   ]
  },
  {
   "cell_type": "markdown",
   "metadata": {
    "slideshow": {
     "slide_type": "slide"
    }
   },
   "source": [
    "For predictions on an existing group we have:"
   ]
  },
  {
   "cell_type": "code",
   "execution_count": 22,
   "metadata": {
    "slideshow": {
     "slide_type": "fragment"
    }
   },
   "outputs": [
    {
     "data": {
      "text/html": [
       "<strong>1:</strong> 537.4"
      ],
      "text/latex": [
       "\\textbf{1:} 537.4"
      ],
      "text/markdown": [
       "**1:** 537.4"
      ],
      "text/plain": [
       "    1 \n",
       "537.4 "
      ]
     },
     "metadata": {},
     "output_type": "display_data"
    }
   ],
   "source": [
    "round(predict(full_mixed_model, newdata = tibble(\n",
    "  firm = \"General Motors\",\n",
    "  market_value = 2000, capital = 1000\n",
    ")), 2)"
   ]
  },
  {
   "cell_type": "markdown",
   "metadata": {
    "slideshow": {
     "slide_type": "slide"
    }
   },
   "source": [
    "Whereas that for predictions on an new group we have:"
   ]
  },
  {
   "cell_type": "code",
   "execution_count": 23,
   "metadata": {
    "slideshow": {
     "slide_type": "fragment"
    }
   },
   "outputs": [
    {
     "data": {
      "text/html": [
       "<strong>1:</strong> 341.51"
      ],
      "text/latex": [
       "\\textbf{1:} 341.51"
      ],
      "text/markdown": [
       "**1:** 341.51"
      ],
      "text/plain": [
       "     1 \n",
       "341.51 "
      ]
     },
     "metadata": {},
     "output_type": "display_data"
    }
   ],
   "source": [
    "round(predict(full_mixed_model,\n",
    "  newdata = tibble(\n",
    "    firm = \"New Company\",\n",
    "    market_value = 2000, capital = 1000\n",
    "  ),\n",
    "  allow.new.levels = TRUE\n",
    "), 2)"
   ]
  }
 ],
 "metadata": {
  "celltoolbar": "Slideshow",
  "kernelspec": {
   "display_name": "R",
   "language": "R",
   "name": "ir"
  },
  "language_info": {
   "codemirror_mode": "r",
   "file_extension": ".r",
   "mimetype": "text/x-r-source",
   "name": "R",
   "pygments_lexer": "r",
   "version": "4.0.3"
  },
  "latex_envs": {
   "LaTeX_envs_menu_present": true,
   "autoclose": false,
   "autocomplete": true,
   "bibliofile": "biblio.bib",
   "cite_by": "apalike",
   "current_citInitial": 1,
   "eqLabelWithNumbers": true,
   "eqNumInitial": 1,
   "hotkeys": {
    "equation": "Ctrl-E",
    "itemize": "Ctrl-I"
   },
   "labels_anchors": false,
   "latex_user_defs": false,
   "report_style_numbering": false,
   "user_envs_cfg": false
  }
 },
 "nbformat": 4,
 "nbformat_minor": 4
}
