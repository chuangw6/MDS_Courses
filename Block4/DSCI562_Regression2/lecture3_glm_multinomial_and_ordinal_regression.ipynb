{
 "cells": [
  {
   "cell_type": "markdown",
   "metadata": {},
   "source": [
    "<img src=\"../images/UBC_MDS_logo.PNG\" width=\"130\" height=\"130\" align=\"right\"/>\n",
    "\n",
    "# Lecture 3 - GLMs: Multinomial and Ordinal Logistic Regressions\n",
    "### DSCI 562 - Regression II\n",
    "\n",
    "Alexi Rodríguez-Arelis, **January 2021**"
   ]
  },
  {
   "cell_type": "markdown",
   "metadata": {
    "slideshow": {
     "slide_type": "slide"
    }
   },
   "source": [
    "<h1>Outline<br><span class=\"tocSkip\"></span></h1>\n",
    "<div class=\"toc\"><ul class=\"toc-item\"><li><span><a href=\"#1.-Learning-Goals\" data-toc-modified-id=\"1.-Learning-Goals-1\">1. Learning Goals </a></span></li><li><span><a href=\"#2.-Categorical-Type-Responses\" data-toc-modified-id=\"2.-Categorical-Type-Responses-2\">2. Categorical Type Responses </a></span></li><li><span><a href=\"#3.-Multinomial-Logistic-Regression\" data-toc-modified-id=\"3.-Multinomial-Logistic-Regression-3\">3. Multinomial Logistic Regression </a></span></li><li><span><a href=\"#4.-Ordinal-Logistic-Regression\" data-toc-modified-id=\"4.-Ordinal-Logistic-Regression-4\">4. Ordinal Logistic Regression </a></span></li></ul></div>"
   ]
  },
  {
   "cell_type": "code",
   "execution_count": 2,
   "metadata": {
    "slideshow": {
     "slide_type": "skip"
    }
   },
   "outputs": [],
   "source": [
    "source(\"../scripts/support_functions.R\")\n",
    "suppressPackageStartupMessages(library(VGAM))\n",
    "suppressPackageStartupMessages(library(cowplot))\n",
    "suppressPackageStartupMessages(library(tidyverse))\n",
    "suppressPackageStartupMessages(library(broom))\n",
    "suppressPackageStartupMessages(library(MASS))\n",
    "suppressPackageStartupMessages(library(scales))\n",
    "library(foreign)"
   ]
  },
  {
   "cell_type": "markdown",
   "metadata": {
    "slideshow": {
     "slide_type": "slide"
    }
   },
   "source": [
    "## 1. Learning Goals\n",
    "\n",
    "By the end of this lecture, we will be able to:\n",
    "\n",
    "- Extend the link function concept of the generalized linear models (GLMs) to other discrete categorical responses.\n",
    "- Outline the modelling framework of the multinomial logistic regression.\n",
    "- Fit and interpret the multinomial logistic regression.\n",
    "- Use the multinomial logistic regression for prediction."
   ]
  },
  {
   "cell_type": "markdown",
   "metadata": {
    "slideshow": {
     "slide_type": "slide"
    }
   },
   "source": [
    "- Outline the modelling framework of the ordinal logistic regression.\n",
    "- Explain the concept of *proportional odds*.\n",
    "- Fit and interpret ordinal logistic regression.\n",
    "- Use the ordinal logistic regression for prediction."
   ]
  },
  {
   "cell_type": "markdown",
   "metadata": {
    "slideshow": {
     "slide_type": "slide"
    }
   },
   "source": [
    "## 2. Categorical Type Responses"
   ]
  },
  {
   "cell_type": "markdown",
   "metadata": {
    "slideshow": {
     "slide_type": "fragment"
    }
   },
   "source": [
    "So far, we have dealt with continuous, binary, and count responses using classical, binomial logistic, and Poisson (or quasi-Poisson or negative binomial) regressions respectively."
   ]
  },
  {
   "cell_type": "markdown",
   "metadata": {
    "slideshow": {
     "slide_type": "fragment"
    }
   },
   "source": [
    "Nonetheless, we have not covered those discrete responses with more than two categories. Recall that the nature of these responses could be:"
   ]
  },
  {
   "cell_type": "markdown",
   "metadata": {
    "slideshow": {
     "slide_type": "slide"
    }
   },
   "source": [
    "- **Nominal.** We have categories that do not follow any specific order—for example, the type of dwelling according to the Canadian census: *single-detached house*, *semi-detached house*, *row house*, *apartment*, and *mobile home*.\n",
    "- **Ordinal.** The categories, in this case, follow a specific order—for example, the Likert scale of survey items: *strongly disagree*, *disagree*, *neutral*, *agree*, and *strongly agree*."
   ]
  },
  {
   "cell_type": "markdown",
   "metadata": {
    "slideshow": {
     "slide_type": "slide"
    }
   },
   "source": [
    "Moreover, we have seen that using least-squares to fit a model with a categorical response variable has some problems:\n",
    "\n",
    "- Frequently the restricted range is not respected."
   ]
  },
  {
   "cell_type": "markdown",
   "metadata": {
    "slideshow": {
     "slide_type": "fragment"
    }
   },
   "source": [
    "- Then, we used generalized linear models (GLMs) to fit a binomial logistic regression in [**Lecture 2**](lecture2_glm_binomial_logistic_and_count_regression.ipynb)."
   ]
  },
  {
   "cell_type": "markdown",
   "metadata": {
    "slideshow": {
     "slide_type": "fragment"
    }
   },
   "source": [
    "- However, binomial logistic regression only works with two classes: *success* or *failure*.\n",
    "- What if we have more than two classes in the categorical response?"
   ]
  },
  {
   "cell_type": "markdown",
   "metadata": {
    "slideshow": {
     "slide_type": "slide"
    }
   },
   "source": [
    "## 3. Multinomial Logistic Regression"
   ]
  },
  {
   "cell_type": "markdown",
   "metadata": {
    "slideshow": {
     "slide_type": "fragment"
    }
   },
   "source": [
    "Assuming we have a random sample of $n$ elements, recall that the $i$th response (for $i = 1, \\dots, n$) in a binomial logistic regression is \n",
    "\n",
    "\\begin{equation*}\n",
    "Y_i =\n",
    "\\begin{cases}\n",
    "1 \\; \\; \\; \\; \\mbox{if it is a success},\\\\\n",
    "0 \\; \\; \\; \\; \t\\mbox{otherwise.}\n",
    "\\end{cases}\n",
    "\\end{equation*}\n",
    "\n",
    "Therefore\n",
    "\n",
    "\\begin{equation*}\n",
    "Y_i \\sim \\text{Bernoulli}(\\pi_i),\n",
    "\\end{equation*}\n",
    "\n",
    "whose probability of success is $\\pi_i$."
   ]
  },
  {
   "cell_type": "markdown",
   "metadata": {
    "slideshow": {
     "slide_type": "skip"
    }
   },
   "source": [
    "Moreover, the term \"binomial\" arises from the fact that a sequence of $n$ *independent* Bernoulli trials is a Binomial distribution."
   ]
  },
  {
   "cell_type": "markdown",
   "metadata": {
    "slideshow": {
     "slide_type": "slide"
    }
   },
   "source": [
    "### 3.1. General Modelling Framework of the Multinomial Logistic Regression\n",
    "\n",
    "Recall that in [**Lecture 2**](lecture2_glm_binomial_logistic_and_count_regression.ipynb) we used \n",
    "\n",
    "\\begin{align*}\n",
    "\\eta_i = \\mbox{logit}(\\pi_i)= \\log\\left(\\frac{\\pi_i}{1 - \\pi_i}\\right) &= \\log\\left[\\frac{\\Pr(Y_i = 1\\mid X_{i,1}, \\ldots, X_{i,p})}{\\Pr(Y_i = 0 \\mid X_{i,1}, \\ldots, X_{i,p})}\\right] \\nonumber \\\\\n",
    "&= \\beta_0 + \\beta_1 X_{i, 1} + \\beta_1 X_{i, 2} + \\ldots + \\beta_p X_{i, p}.\n",
    "\\end{align*}"
   ]
  },
  {
   "cell_type": "markdown",
   "metadata": {
    "slideshow": {
     "slide_type": "skip"
    }
   },
   "source": [
    "In plain words, the **natural logarithm** of the odds between success and failure is equal to a linear predictor of $p$ regressors $X_{i, 1}, X_{i, 2}, \\dots , X_{i, p}$ on the right-hand side."
   ]
  },
  {
   "cell_type": "markdown",
   "metadata": {
    "slideshow": {
     "slide_type": "slide"
    }
   },
   "source": [
    "Nonetheless, what if the response is **nominal** and has more than two categories?"
   ]
  },
  {
   "cell_type": "markdown",
   "metadata": {
    "slideshow": {
     "slide_type": "fragment"
    }
   },
   "source": [
    "In that case, let us suppose that a given *discrete* nominal response $Y_i$ has categories $1, 2, \\dots, k$.\n",
    "\n",
    "> **Note:** The categories $1, 2, \\dots, k$ **are merely labels here**. Thus, they do not implicate an ordinal scale."
   ]
  },
  {
   "cell_type": "markdown",
   "metadata": {
    "slideshow": {
     "slide_type": "slide"
    }
   },
   "source": [
    "Now, we will have a *multinomial distribution* where $\\pi_{i,1}, \\pi_{i,2}, \\dots, \\pi_{i,k}$ are the probabilities that $Y_i$ will belong to categories $1, 2, \\dots, k$ respectively; i.e.,\n",
    "\n",
    "\\begin{equation*}\n",
    "\\Pr(Y_i = 1) = \\pi_{i,1} \\;\\;\\;\\; \\Pr(Y_i = 2) = \\pi_{i,2} \\;\\; \\dots \\;\\; \\Pr(Y_i = k) = \\pi_{i,k},\n",
    "\\end{equation*}"
   ]
  },
  {
   "cell_type": "markdown",
   "metadata": {
    "slideshow": {
     "slide_type": "fragment"
    }
   },
   "source": [
    "where\n",
    "\n",
    "\\begin{equation*}\n",
    "\\sum_{j = 1}^k \\pi_{i,j} = \\pi_{i,1} + \\pi_{i,2} + \\dots + \\pi_{i,k} = 1.\n",
    "\\end{equation*}"
   ]
  },
  {
   "cell_type": "markdown",
   "metadata": {
    "slideshow": {
     "slide_type": "skip"
    }
   },
   "source": [
    "A particular highlight is that the binomial distribution is the special multinomial case when $k = 2$."
   ]
  },
  {
   "cell_type": "markdown",
   "metadata": {
    "slideshow": {
     "slide_type": "slide"
    }
   },
   "source": [
    "The multinomial regression model is similar to the binomial logistic regression model in the sense that we are also modelling the logarithm of the odds."
   ]
  },
  {
   "cell_type": "markdown",
   "metadata": {
    "slideshow": {
     "slide_type": "fragment"
    }
   },
   "source": [
    "However, only one logarithm of the odds (or *logit*) will not be enough anymore. We can capture the odds between two categories with a single *logit* function. What about adding some other ones?  "
   ]
  },
  {
   "cell_type": "markdown",
   "metadata": {
    "slideshow": {
     "slide_type": "slide"
    }
   },
   "source": [
    "Here is what we can do:\n",
    "\n",
    "1. Pick one of the categories to be the *baseline*. For example, the category \"$1$\".\n",
    "2. For each of the **other** categories, we model the logarithm of the odds to the baseline category."
   ]
  },
  {
   "cell_type": "markdown",
   "metadata": {
    "slideshow": {
     "slide_type": "skip"
    }
   },
   "source": [
    "### Optional Material\n",
    "\n",
    "We end up with a system of $k - 1$ link functions in the multinomial regression model as follows:\n",
    "\n",
    "\\begin{gather*}\n",
    "\\eta_i^{(2,1)} = \\log\\left[\\frac{\\Pr(Y_i = 2\\mid X_{i,1}, \\ldots, X_{i,p})}{\\Pr(Y_i = 1 \\mid X_{i,1}, \\ldots, X_{i,p})}\\right] = \\beta_0^{(2,1)} + \\beta_1^{(2,1)} X_{i, 1} + \\beta_2^{(2,1)} X_{i, 2} + \\ldots + \\beta_p^{(2,1)} X_{i, p} \\\\\n",
    "\\eta_i^{(3,1)} = \\log\\left[\\frac{\\Pr(Y_i = 3\\mid X_{i,1}, \\ldots, X_{i,p})}{\\Pr(Y_i = 1 \\mid X_{i,1}, \\ldots, X_{i,p})}\\right] = \\beta_0^{(3,1)} + \\beta_1^{(3,1)} X_{i, 1} + \\beta_2^{(3,1)} X_{i, 2} + \\ldots + \\beta_p^{(3,1)} X_{i, p} \\\\\n",
    "\\vdots \\\\\n",
    "\\eta_i^{(k,1)} = \\log\\left[\\frac{\\Pr(Y_i = k\\mid X_{i,1}, \\ldots, X_{i,p})}{\\Pr(Y_i = 1 \\mid X_{i,1}, \\ldots, X_{i,p})}\\right] = \\beta_0^{(k,1)} + \\beta_1^{(k,1)} X_{i, 1} + \\beta_2^{(k,1)} X_{i, 2} + \\ldots + \\beta_p^{(k,1)} X_{i, p}.\n",
    "\\end{gather*}\n",
    "\n",
    "Note that the superscript $(m, 1)$ indicates that the equation is on level $m$ (for $m = 2, \\dots, k$) with respect to level $1$. Furthermore, **the regression coefficients are different for each link function**.\n",
    "\n",
    "With some algebraic manipulation, we can show that the probabilities $\\pi_{i,1}, \\pi_{i,2}, \\dots, \\pi_{i,k}$ of $Y_i$ belonging to categories $1, 2, \\dots, k$ are:\n",
    "\n",
    "\\begin{gather*}\n",
    "\\pi_{i,1} = \\Pr(Y_i = 1 \\mid X_{i,1}, \\ldots, X_{i,p}) = \\frac{1}{1 + \\sum_{j = 2}^k \\exp \\big( \\eta_i^{(j,1)} \\big)} \\\\\n",
    "\\pi_{i,2} = \\Pr(Y_i = 2 \\mid X_{i,1}, \\ldots, X_{i,p}) = \\frac{\\exp \\big( \\eta_i^{(2,1)} \\big)}{1 + \\sum_{j = 2}^k \\exp \\big( \\eta_i^{(j,1)} \\big)} \\\\\n",
    "\\vdots \\\\\n",
    "\\pi_{i,k} = \\Pr(Y_i = k \\mid X_{i,1}, \\ldots, X_{i,p}) = \\frac{\\exp \\big( \\eta_i^{(k,1)} \\big)}{1 + \\sum_{j = 2}^k \\exp \\big( \\eta_i^{(j,1)} \\big)}.\n",
    "\\end{gather*}\n",
    "\n",
    "If we sum all $k$ probabilities above, the sum will be equal to $1$. **This is particularly important when we want to use this model for making predictions in classification matters**."
   ]
  },
  {
   "cell_type": "markdown",
   "metadata": {
    "slideshow": {
     "slide_type": "slide"
    }
   },
   "source": [
    "### 3.2. New Zealand Marital Dataset\n",
    "\n",
    "The data frame `marital.nz` is included in the `VGAM` package. We are going to fit a multinomial logistic regression using this dataset."
   ]
  },
  {
   "cell_type": "markdown",
   "metadata": {
    "slideshow": {
     "slide_type": "fragment"
    }
   },
   "source": [
    "> The data was collected in the early 1990s. It contains 6053 observations and is part of a self-administered questionnaire to a large New Zealand workforce, conducted between 1992 and 1993."
   ]
  },
  {
   "cell_type": "markdown",
   "metadata": {
    "slideshow": {
     "slide_type": "slide"
    }
   },
   "source": [
    "Firstly, we will load the data and select the following variables:\n",
    "\n",
    "- `mstatus`: the marital status of the respondent, a discrete and nominal response of four categories (`Divorced/Separated`, `Married/Partnered`, `Single`, and `Widowed`).\n",
    "- `age`: the age of respondent in years, a continuous explanatory variable."
   ]
  },
  {
   "cell_type": "markdown",
   "metadata": {
    "slideshow": {
     "slide_type": "slide"
    }
   },
   "source": [
    "Then, we will fit a multinomial logistic regression model to answer the following questions:\n",
    "\n",
    "- Is `mstatus` statistically related to `age`?\n",
    "- How can we intepret this statistical relationship (*if there is any*)?"
   ]
  },
  {
   "cell_type": "markdown",
   "metadata": {
    "slideshow": {
     "slide_type": "slide"
    }
   },
   "source": [
    "We select columns `age` and `mstatus` from data frame `marital.nz`."
   ]
  },
  {
   "cell_type": "code",
   "execution_count": 3,
   "metadata": {
    "slideshow": {
     "slide_type": "fragment"
    }
   },
   "outputs": [
    {
     "data": {
      "text/html": [
       "<table>\n",
       "<caption>A data.frame: 6 × 2</caption>\n",
       "<thead>\n",
       "\t<tr><th></th><th scope=col>age</th><th scope=col>mstatus</th></tr>\n",
       "\t<tr><th></th><th scope=col>&lt;dbl&gt;</th><th scope=col>&lt;fct&gt;</th></tr>\n",
       "</thead>\n",
       "<tbody>\n",
       "\t<tr><th scope=row>1</th><td>29</td><td>Single            </td></tr>\n",
       "\t<tr><th scope=row>2</th><td>55</td><td>Married/Partnered </td></tr>\n",
       "\t<tr><th scope=row>3</th><td>44</td><td>Married/Partnered </td></tr>\n",
       "\t<tr><th scope=row>4</th><td>53</td><td>Divorced/Separated</td></tr>\n",
       "\t<tr><th scope=row>5</th><td>45</td><td>Married/Partnered </td></tr>\n",
       "\t<tr><th scope=row>7</th><td>30</td><td>Single            </td></tr>\n",
       "</tbody>\n",
       "</table>\n"
      ],
      "text/latex": [
       "A data.frame: 6 × 2\n",
       "\\begin{tabular}{r|ll}\n",
       "  & age & mstatus\\\\\n",
       "  & <dbl> & <fct>\\\\\n",
       "\\hline\n",
       "\t1 & 29 & Single            \\\\\n",
       "\t2 & 55 & Married/Partnered \\\\\n",
       "\t3 & 44 & Married/Partnered \\\\\n",
       "\t4 & 53 & Divorced/Separated\\\\\n",
       "\t5 & 45 & Married/Partnered \\\\\n",
       "\t7 & 30 & Single            \\\\\n",
       "\\end{tabular}\n"
      ],
      "text/markdown": [
       "\n",
       "A data.frame: 6 × 2\n",
       "\n",
       "| <!--/--> | age &lt;dbl&gt; | mstatus &lt;fct&gt; |\n",
       "|---|---|---|\n",
       "| 1 | 29 | Single             |\n",
       "| 2 | 55 | Married/Partnered  |\n",
       "| 3 | 44 | Married/Partnered  |\n",
       "| 4 | 53 | Divorced/Separated |\n",
       "| 5 | 45 | Married/Partnered  |\n",
       "| 7 | 30 | Single             |\n",
       "\n"
      ],
      "text/plain": [
       "  age mstatus           \n",
       "1 29  Single            \n",
       "2 55  Married/Partnered \n",
       "3 44  Married/Partnered \n",
       "4 53  Divorced/Separated\n",
       "5 45  Married/Partnered \n",
       "7 30  Single            "
      ]
     },
     "metadata": {},
     "output_type": "display_data"
    }
   ],
   "source": [
    "data(marital.nz)\n",
    "\n",
    "marital.nz <- marital.nz %>%\n",
    "  dplyr::select(age, mstatus)\n",
    "head(marital.nz)"
   ]
  },
  {
   "cell_type": "markdown",
   "metadata": {
    "slideshow": {
     "slide_type": "slide"
    }
   },
   "source": [
    "As done in our previous cases, let us take a look at the data first."
   ]
  },
  {
   "cell_type": "markdown",
   "metadata": {
    "slideshow": {
     "slide_type": "fragment"
    }
   },
   "source": [
    "Note that `marital.nz` is a discrete nominal response, so we have to be careful about the class of plots we are using regarding exploratory data analysis."
   ]
  },
  {
   "cell_type": "markdown",
   "metadata": {
    "slideshow": {
     "slide_type": "fragment"
    }
   },
   "source": [
    "Hence, we could use the following side-by-side plots:\n",
    "\n",
    "- Boxplots.\n",
    "- Violin plots."
   ]
  },
  {
   "cell_type": "code",
   "execution_count": 4,
   "metadata": {
    "slideshow": {
     "slide_type": "skip"
    }
   },
   "outputs": [],
   "source": [
    "marital.side.boxplots <- marital.nz %>%\n",
    "  ggplot(aes(mstatus, age)) +\n",
    "  geom_boxplot(aes(fill = mstatus)) +\n",
    "  labs(y = \"Age (Years)\", x = \"Marital Status\") +\n",
    "  ggtitle(\"Side-by-Side Boxplots\") +\n",
    "  theme(\n",
    "    plot.title = element_text(size = 24, face = \"bold\"),\n",
    "    axis.text = element_text(size = 14),\n",
    "    axis.title = element_text(size = 16),\n",
    "    legend.position = \"none\"\n",
    "  )\n",
    "\n",
    "marital.side.violin <- marital.nz %>%\n",
    "  ggplot(aes(mstatus, age)) +\n",
    "  geom_violin(aes(fill = mstatus)) +\n",
    "  labs(y = \"Age (Years)\", x = \"Marital Status\") +\n",
    "  ggtitle(\"Side-by-Side Violin Plots\") +\n",
    "  stat_summary(\n",
    "    fun = mean, colour = \"yellow\", geom = \"point\",\n",
    "    shape = 18, size = 5\n",
    "  ) +\n",
    "  theme(\n",
    "    plot.title = element_text(size = 24, face = \"bold\"),\n",
    "    axis.text = element_text(size = 14),\n",
    "    axis.title = element_text(size = 16),\n",
    "    legend.position = \"none\"\n",
    "  )"
   ]
  },
  {
   "cell_type": "markdown",
   "metadata": {
    "slideshow": {
     "slide_type": "skip"
    }
   },
   "source": [
    "The code above creates side-by-side boxplots and violin plots, where `age` is on the $y$-axis, and all categories of `mstatus` are on the $x$-axis. The side-by-side violin plots show the mean of `age` by `mstatus` category in yellow points."
   ]
  },
  {
   "cell_type": "code",
   "execution_count": 5,
   "metadata": {
    "slideshow": {
     "slide_type": "slide"
    }
   },
   "outputs": [
    {
     "data": {
      "image/png": "[encoded data removed]",
      "text/plain": [
       "plot without title"
      ]
     },
     "metadata": {
      "image/png": {
       "height": 420,
       "width": 1080
      }
     },
     "output_type": "display_data"
    }
   ],
   "source": [
    "options(repr.plot.height = 7, repr.plot.width = 18)\n",
    "\n",
    "plot_grid(marital.side.boxplots, marital.side.violin, nrow = 1)"
   ]
  },
  {
   "cell_type": "markdown",
   "metadata": {
    "slideshow": {
     "slide_type": "slide"
    }
   },
   "source": [
    "### In-Class Activity\n",
    " \n",
    "What can we *descriptively* see from the plots?"
   ]
  },
  {
   "cell_type": "markdown",
   "metadata": {
    "slideshow": {
     "slide_type": "skip"
    }
   },
   "source": [
    "> The `Widowed` people are older, as expected. \n",
    "\n",
    "> A large number of `Divorced/Separated` people are around 45 years. \n",
    "\n",
    "> Many people are `Married/Partnered` in the late 20s and early 30s. But just a few people are `Married/Partnered` in their mid-60s.\n",
    "\n",
    "> Very few people are `Single` after the 40s."
   ]
  },
  {
   "cell_type": "markdown",
   "metadata": {
    "slideshow": {
     "slide_type": "slide"
    }
   },
   "source": [
    "Let us set the multinomial logistic regression model with `mstatus` as a response subject to `age` as a continuous regressor, but first we have to check what the baseline category is in `mstatus`."
   ]
  },
  {
   "cell_type": "code",
   "execution_count": 6,
   "metadata": {
    "slideshow": {
     "slide_type": "fragment"
    }
   },
   "outputs": [
    {
     "data": {
      "text/html": [
       "<style>\n",
       ".list-inline {list-style: none; margin:0; padding: 0}\n",
       ".list-inline>li {display: inline-block}\n",
       ".list-inline>li:not(:last-child)::after {content: \"\\00b7\"; padding: 0 .5ex}\n",
       "</style>\n",
       "<ol class=list-inline><li>'Divorced/Separated'</li><li>'Married/Partnered'</li><li>'Single'</li><li>'Widowed'</li></ol>\n"
      ],
      "text/latex": [
       "\\begin{enumerate*}\n",
       "\\item 'Divorced/Separated'\n",
       "\\item 'Married/Partnered'\n",
       "\\item 'Single'\n",
       "\\item 'Widowed'\n",
       "\\end{enumerate*}\n"
      ],
      "text/markdown": [
       "1. 'Divorced/Separated'\n",
       "2. 'Married/Partnered'\n",
       "3. 'Single'\n",
       "4. 'Widowed'\n",
       "\n",
       "\n"
      ],
      "text/plain": [
       "[1] \"Divorced/Separated\" \"Married/Partnered\"  \"Single\"            \n",
       "[4] \"Widowed\"           "
      ]
     },
     "metadata": {},
     "output_type": "display_data"
    }
   ],
   "source": [
    "levels(marital.nz$mstatus)"
   ]
  },
  {
   "cell_type": "markdown",
   "metadata": {
    "slideshow": {
     "slide_type": "slide"
    }
   },
   "source": [
    "> The `vglm()` function uses the first level **from right to left** as the baseline category. We would like to use `Single` as the baseline:"
   ]
  },
  {
   "cell_type": "code",
   "execution_count": 7,
   "metadata": {
    "slideshow": {
     "slide_type": "fragment"
    }
   },
   "outputs": [
    {
     "data": {
      "text/html": [
       "<style>\n",
       ".list-inline {list-style: none; margin:0; padding: 0}\n",
       ".list-inline>li {display: inline-block}\n",
       ".list-inline>li:not(:last-child)::after {content: \"\\00b7\"; padding: 0 .5ex}\n",
       "</style>\n",
       "<ol class=list-inline><li>'Widowed'</li><li>'Divorced/Separated'</li><li>'Married/Partnered'</li><li>'Single'</li></ol>\n"
      ],
      "text/latex": [
       "\\begin{enumerate*}\n",
       "\\item 'Widowed'\n",
       "\\item 'Divorced/Separated'\n",
       "\\item 'Married/Partnered'\n",
       "\\item 'Single'\n",
       "\\end{enumerate*}\n"
      ],
      "text/markdown": [
       "1. 'Widowed'\n",
       "2. 'Divorced/Separated'\n",
       "3. 'Married/Partnered'\n",
       "4. 'Single'\n",
       "\n",
       "\n"
      ],
      "text/plain": [
       "[1] \"Widowed\"            \"Divorced/Separated\" \"Married/Partnered\" \n",
       "[4] \"Single\"            "
      ]
     },
     "metadata": {},
     "output_type": "display_data"
    }
   ],
   "source": [
    "marital.nz$mstatus <- fct_relevel(\n",
    "  marital.nz$mstatus,\n",
    "  c(\"Widowed\", \"Divorced/Separated\", \"Married/Partnered\", \"Single\")\n",
    ")\n",
    "levels(marital.nz$mstatus)"
   ]
  },
  {
   "cell_type": "markdown",
   "metadata": {
    "slideshow": {
     "slide_type": "slide"
    }
   },
   "source": [
    "Let us set up the multinomial logistic regression model in this case. For the $i$th observation with the regressor $X_{i, \\texttt{age}}$, we have a system of $3$ link functions as follows:"
   ]
  },
  {
   "cell_type": "markdown",
   "metadata": {
    "slideshow": {
     "slide_type": "fragment"
    }
   },
   "source": [
    "\\begin{gather*}\n",
    "\\eta_i^{(\\texttt{Widowed},\\texttt{Single})} = \\log\\left[\\frac{\\Pr(Y_i = \\texttt{Widowed} \\mid X_{i, \\texttt{age}})}{\\Pr(Y_i = \\texttt{Single} \\mid X_{i, \\texttt{age}})}\\right] = \\beta_0^{(\\texttt{Widowed},\\texttt{Single})} + \\beta_1^{(\\texttt{Widowed},\\texttt{Single})} X_{i, \\texttt{age}} \\\\\n",
    "\\eta_i^{(\\texttt{Divorced},\\texttt{Single})} = \\log\\left[\\frac{\\Pr(Y_i = \\texttt{Divorced} \\mid X_{i, \\texttt{age}})}{\\Pr(Y_i = \\texttt{Single} \\mid X_{i, \\texttt{age}})}\\right] = \\beta_0^{(\\texttt{Divorced},\\texttt{Single})} + \\beta_1^{(\\texttt{Divorced},\\texttt{Single})} X_{i, \\texttt{age}} \\\\\n",
    "\\eta_i^{(\\texttt{Married},\\texttt{Single})} = \\log\\left[\\frac{\\Pr(Y_i = \\texttt{Married} \\mid X_{i, \\texttt{age}})}{\\Pr(Y_i = \\texttt{Single} \\mid X_{i, \\texttt{age}})}\\right] = \\beta_0^{(\\texttt{Married},\\texttt{Single})} + \\beta_1^{(\\texttt{Married},\\texttt{Single})} X_{i, \\texttt{age}}.\n",
    "\\end{gather*}"
   ]
  },
  {
   "cell_type": "markdown",
   "metadata": {
    "slideshow": {
     "slide_type": "fragment"
    }
   },
   "source": [
    "Each link function has its intercept and slope."
   ]
  },
  {
   "cell_type": "markdown",
   "metadata": {
    "slideshow": {
     "slide_type": "slide"
    }
   },
   "source": [
    "The probabilities of $Y_i$ belonging to categories `Single`, `Widowed`, `Divorced/Separated`, and `Married/Partnered` are:\n",
    "\n",
    "\\begin{gather*}\n",
    "\\pi_{i,\\texttt{Single}} = \\Pr(Y_i = \\texttt{Single} \\mid X_{i,\\texttt{age}}) = \\frac{1}{1 + \\eta_i^{(\\texttt{Widowed},\\texttt{Single})} + \\eta_i^{(\\texttt{Divorced},\\texttt{Single})} + \\eta_i^{(\\texttt{Married},\\texttt{Single})}} \\\\\n",
    "\\pi_{i,\\texttt{Widowed}} = \\Pr(Y_i = \\texttt{Widowed} \\mid X_{i,\\texttt{age}}) = \\frac{\\exp \\big( \\eta_i^{(\\texttt{Widowed},\\texttt{Single})} \\big)}{1 + \\eta_i^{(\\texttt{Widowed},\\texttt{Single})} + \\eta_i^{(\\texttt{Divorced},\\texttt{Single})} + \\eta_i^{(\\texttt{Married},\\texttt{Single})}} \\\\\n",
    "\\pi_{i,\\texttt{Divorced}} = \\Pr(Y_i = \\texttt{Divorced} \\mid X_{i,\\texttt{age}}) = \\frac{\\exp \\big( \\eta_i^{(\\texttt{Divorced},\\texttt{Single})} \\big)}{1 + \\eta_i^{(\\texttt{Widowed},\\texttt{Single})} + \\eta_i^{(\\texttt{Divorced},\\texttt{Single})} + \\eta_i^{(\\texttt{Married},\\texttt{Single})}} \\\\\n",
    "\\pi_{i,\\texttt{Married}} = \\Pr(Y_i = \\texttt{Married} \\mid X_{i,\\texttt{age}}) = \\frac{\\exp \\big( \\eta_i^{(\\texttt{Married},\\texttt{Single})} \\big)}{1 + \\eta_i^{(\\texttt{Widowed},\\texttt{Single})} + \\eta_i^{(\\texttt{Divorced},\\texttt{Single})} + \\eta_i^{(\\texttt{Married},\\texttt{Single})}}.\n",
    "\\end{gather*}"
   ]
  },
  {
   "cell_type": "markdown",
   "metadata": {
    "slideshow": {
     "slide_type": "slide"
    }
   },
   "source": [
    "### In-Class Activity\n",
    "\n",
    "**TRUE or FALSE?**: Now that we removed the restriction of only one link function, we also removed the distributional assumption for $Y_i$. Hence, our model has no distribution assumption."
   ]
  },
  {
   "cell_type": "markdown",
   "metadata": {
    "slideshow": {
     "slide_type": "skip"
    }
   },
   "source": [
    "> *FALSE*. We have not removed any distributional assumption. We just replaced the distributional assumption from binomial to multinomial."
   ]
  },
  {
   "cell_type": "markdown",
   "metadata": {
    "slideshow": {
     "slide_type": "fragment"
    }
   },
   "source": [
    "**TRUE or FALSE?**: The model is now non-parametric."
   ]
  },
  {
   "cell_type": "markdown",
   "metadata": {
    "slideshow": {
     "slide_type": "skip"
    }
   },
   "source": [
    "> *FALSE*. We are specifying the model function for each one of the logit functions."
   ]
  },
  {
   "cell_type": "markdown",
   "metadata": {
    "slideshow": {
     "slide_type": "slide"
    }
   },
   "source": [
    "### 3.3. Estimation\n",
    "\n",
    "All parameters in the multinomial logistic regression model are also unknown. To fit the model with the package `VGAM`, we use the function `vglm()` and its argument `family = multinomial` (required to specify the response's multinomial nature), which obtains the corresponding estimates. The estimates are obtained through maximum likelihood, where we assume a multinomial joint probability mass function of the $n$ responses $Y_i$."
   ]
  },
  {
   "cell_type": "code",
   "execution_count": 8,
   "metadata": {
    "slideshow": {
     "slide_type": "fragment"
    }
   },
   "outputs": [],
   "source": [
    "multinomial_model <- vglm(mstatus ~ age, family = multinomial, data = marital.nz)"
   ]
  },
  {
   "cell_type": "markdown",
   "metadata": {
    "slideshow": {
     "slide_type": "slide"
    }
   },
   "source": [
    "### 3.4. Inference"
   ]
  },
  {
   "cell_type": "markdown",
   "metadata": {
    "slideshow": {
     "slide_type": "slide"
    }
   },
   "source": [
    "We can determine whether a regressor is statistically associated with the logarithm of the odds through hypothesis testing for the parameters $\\beta_j^{(i, k)}$ *by link function*. We also use the Wald statistic $z_j^{(i, k)}$:\n",
    "\n",
    "\\begin{equation*}\n",
    "z_j^{(i, k)} = \\frac{\\hat{\\beta}_j^{(i, k)}}{\\mbox{se}\\big(\\hat{\\beta}_j^{(i, k)}\\big)}\n",
    "\\end{equation*}\n",
    "\n",
    "to test the hypotheses\n",
    "\n",
    "\\begin{gather*}\n",
    "H_0: \\beta_j^{(i, k)} = 0\\\\\n",
    "H_a: \\beta_j^{(i, k)} \\neq 0.\n",
    "\\end{gather*}"
   ]
  },
  {
   "cell_type": "markdown",
   "metadata": {
    "slideshow": {
     "slide_type": "skip"
    }
   },
   "source": [
    "The null hypothesis $H_0$ indicates that the $j$th regressor associated to $\\beta_j^{(i, k)}$ does not affect the response variable in the model, and the alternative hypothesis $H_a$ otherwise.\n",
    "\n",
    "The software provides the corresponding $p$-values for each $\\beta_j^{(i, k)}$. The smaller the $p$-value, the stronger the evidence against the null hypothesis $H_0$. As in the previous regression models, we would set a predetermined significance level $\\alpha$ (usually taken to be 0.05 or 0.1) to infer if the $p$-value is small enough. If the $p$-value is smaller than the predetermined level $\\alpha$, then you could claim that there is evidence to reject the null hypothesis. Hence, $p$-values that are small enough indicate that the data provides evidence in favour of association between the response variable and the $j$th regressor.\n",
    "\n",
    "Furthermore, given a specified level of confidence where $\\alpha$ is the significance level, we can construct approximate $(1 - \\alpha) \\times 100\\%$ confidence intervals for the corresponding true value of $\\beta_j^{(i, k)}$:\n",
    "\n",
    "\\begin{equation*}\n",
    "\\hat{\\beta}_j^{(i, k)} \\pm z_{\\alpha/2}\\mbox{se}\\big( \\hat{\\beta}_j^{(i, k)} \\big),\n",
    "\\end{equation*}\n",
    "\n",
    "where $z_{\\alpha/2}$ is the upper $\\alpha/2$ quantile of the standard normal distribution."
   ]
  },
  {
   "cell_type": "markdown",
   "metadata": {
    "slideshow": {
     "slide_type": "slide"
    }
   },
   "source": [
    "There is no `tidy()` function for a `vglm` model object. The function `tidy.vglm()` (check source [here](https://github.com/tidymodels/broom/issues/135)) can be used."
   ]
  },
  {
   "cell_type": "code",
   "execution_count": 9,
   "metadata": {
    "slideshow": {
     "slide_type": "fragment"
    }
   },
   "outputs": [
    {
     "data": {
      "text/html": [
       "<table>\n",
       "<caption>A data.frame: 6 × 7</caption>\n",
       "<thead>\n",
       "\t<tr><th scope=col>term</th><th scope=col>estimate</th><th scope=col>std.error</th><th scope=col>statistic</th><th scope=col>p.value</th><th scope=col>conf.low</th><th scope=col>conf.high</th></tr>\n",
       "\t<tr><th scope=col>&lt;chr&gt;</th><th scope=col>&lt;dbl&gt;</th><th scope=col>&lt;dbl&gt;</th><th scope=col>&lt;dbl&gt;</th><th scope=col>&lt;dbl&gt;</th><th scope=col>&lt;dbl&gt;</th><th scope=col>&lt;dbl&gt;</th></tr>\n",
       "</thead>\n",
       "<tbody>\n",
       "\t<tr><td>(Intercept):1</td><td>-13.121</td><td>0.514</td><td>-25.539</td><td>0</td><td>-14.128</td><td>-12.114</td></tr>\n",
       "\t<tr><td>(Intercept):2</td><td> -6.368</td><td>0.255</td><td>-24.954</td><td>0</td><td> -6.868</td><td> -5.868</td></tr>\n",
       "\t<tr><td>(Intercept):3</td><td> -3.589</td><td>0.177</td><td>-20.315</td><td>0</td><td> -3.936</td><td> -3.243</td></tr>\n",
       "\t<tr><td>age:1        </td><td>  0.252</td><td>0.009</td><td> 28.150</td><td>0</td><td>  0.235</td><td>  0.270</td></tr>\n",
       "\t<tr><td>age:2        </td><td>  0.153</td><td>0.007</td><td> 22.981</td><td>0</td><td>  0.140</td><td>  0.166</td></tr>\n",
       "\t<tr><td>age:3        </td><td>  0.149</td><td>0.005</td><td> 27.489</td><td>0</td><td>  0.139</td><td>  0.160</td></tr>\n",
       "</tbody>\n",
       "</table>\n"
      ],
      "text/latex": [
       "A data.frame: 6 × 7\n",
       "\\begin{tabular}{lllllll}\n",
       " term & estimate & std.error & statistic & p.value & conf.low & conf.high\\\\\n",
       " <chr> & <dbl> & <dbl> & <dbl> & <dbl> & <dbl> & <dbl>\\\\\n",
       "\\hline\n",
       "\t (Intercept):1 & -13.121 & 0.514 & -25.539 & 0 & -14.128 & -12.114\\\\\n",
       "\t (Intercept):2 &  -6.368 & 0.255 & -24.954 & 0 &  -6.868 &  -5.868\\\\\n",
       "\t (Intercept):3 &  -3.589 & 0.177 & -20.315 & 0 &  -3.936 &  -3.243\\\\\n",
       "\t age:1         &   0.252 & 0.009 &  28.150 & 0 &   0.235 &   0.270\\\\\n",
       "\t age:2         &   0.153 & 0.007 &  22.981 & 0 &   0.140 &   0.166\\\\\n",
       "\t age:3         &   0.149 & 0.005 &  27.489 & 0 &   0.139 &   0.160\\\\\n",
       "\\end{tabular}\n"
      ],
      "text/markdown": [
       "\n",
       "A data.frame: 6 × 7\n",
       "\n",
       "| term &lt;chr&gt; | estimate &lt;dbl&gt; | std.error &lt;dbl&gt; | statistic &lt;dbl&gt; | p.value &lt;dbl&gt; | conf.low &lt;dbl&gt; | conf.high &lt;dbl&gt; |\n",
       "|---|---|---|---|---|---|---|\n",
       "| (Intercept):1 | -13.121 | 0.514 | -25.539 | 0 | -14.128 | -12.114 |\n",
       "| (Intercept):2 |  -6.368 | 0.255 | -24.954 | 0 |  -6.868 |  -5.868 |\n",
       "| (Intercept):3 |  -3.589 | 0.177 | -20.315 | 0 |  -3.936 |  -3.243 |\n",
       "| age:1         |   0.252 | 0.009 |  28.150 | 0 |   0.235 |   0.270 |\n",
       "| age:2         |   0.153 | 0.007 |  22.981 | 0 |   0.140 |   0.166 |\n",
       "| age:3         |   0.149 | 0.005 |  27.489 | 0 |   0.139 |   0.160 |\n",
       "\n"
      ],
      "text/plain": [
       "  term          estimate std.error statistic p.value conf.low conf.high\n",
       "1 (Intercept):1 -13.121  0.514     -25.539   0       -14.128  -12.114  \n",
       "2 (Intercept):2  -6.368  0.255     -24.954   0        -6.868   -5.868  \n",
       "3 (Intercept):3  -3.589  0.177     -20.315   0        -3.936   -3.243  \n",
       "4 age:1           0.252  0.009      28.150   0         0.235    0.270  \n",
       "5 age:2           0.153  0.007      22.981   0         0.140    0.166  \n",
       "6 age:3           0.149  0.005      27.489   0         0.139    0.160  "
      ]
     },
     "metadata": {},
     "output_type": "display_data"
    }
   ],
   "source": [
    "summary_multinomial_model <- tidy.vglm(multinomial_model,\n",
    "  conf.int = TRUE, conf.level = 0.95\n",
    ") %>%\n",
    "  mutate_if(is.numeric, round, 3)\n",
    "summary_multinomial_model"
   ]
  },
  {
   "cell_type": "markdown",
   "metadata": {
    "slideshow": {
     "slide_type": "slide"
    }
   },
   "source": [
    "Recall that level `4` (i.e., `Single`) is the baseline here:"
   ]
  },
  {
   "cell_type": "code",
   "execution_count": 10,
   "metadata": {
    "slideshow": {
     "slide_type": "fragment"
    }
   },
   "outputs": [
    {
     "data": {
      "text/html": [
       "<style>\n",
       ".list-inline {list-style: none; margin:0; padding: 0}\n",
       ".list-inline>li {display: inline-block}\n",
       ".list-inline>li:not(:last-child)::after {content: \"\\00b7\"; padding: 0 .5ex}\n",
       "</style>\n",
       "<ol class=list-inline><li>'Widowed'</li><li>'Divorced/Separated'</li><li>'Married/Partnered'</li><li>'Single'</li></ol>\n"
      ],
      "text/latex": [
       "\\begin{enumerate*}\n",
       "\\item 'Widowed'\n",
       "\\item 'Divorced/Separated'\n",
       "\\item 'Married/Partnered'\n",
       "\\item 'Single'\n",
       "\\end{enumerate*}\n"
      ],
      "text/markdown": [
       "1. 'Widowed'\n",
       "2. 'Divorced/Separated'\n",
       "3. 'Married/Partnered'\n",
       "4. 'Single'\n",
       "\n",
       "\n"
      ],
      "text/plain": [
       "[1] \"Widowed\"            \"Divorced/Separated\" \"Married/Partnered\" \n",
       "[4] \"Single\"            "
      ]
     },
     "metadata": {},
     "output_type": "display_data"
    }
   ],
   "source": [
    "levels(marital.nz$mstatus)"
   ]
  },
  {
   "cell_type": "markdown",
   "metadata": {
    "slideshow": {
     "slide_type": "fragment"
    }
   },
   "source": [
    "Hence: \n",
    "\n",
    "- `Widowed` is level `1`. \n",
    "- `Divorced/Separated` is level `2`. \n",
    "- `Married/Partnered` is level `3`."
   ]
  },
  {
   "cell_type": "markdown",
   "metadata": {
    "slideshow": {
     "slide_type": "skip"
    }
   },
   "source": [
    "Finally, from the three link functions in this model, we see that all regression coefficients associated to `age` are statistically significant with $\\alpha = 0.05$ (`age:1` for `Widowed` to `Single`, `age:2` for `Divorced/Separated` to `Single`, and `age:3` for `Married/Partnered` to `Single`)."
   ]
  },
  {
   "cell_type": "markdown",
   "metadata": {
    "slideshow": {
     "slide_type": "slide"
    }
   },
   "source": [
    "### 3.5. Coefficient Interpretation and Prediction"
   ]
  },
  {
   "cell_type": "markdown",
   "metadata": {
    "slideshow": {
     "slide_type": "fragment"
    }
   },
   "source": [
    "The interpretation of the multinomial logistic regression coefficients is quite similar to the binomial logistic regression. Let us interpret the association between `age` and `mstatus`."
   ]
  },
  {
   "cell_type": "markdown",
   "metadata": {
    "slideshow": {
     "slide_type": "slide"
    }
   },
   "source": [
    "First, note that in this example, we have four groups: \n",
    "\n",
    "- `Widowed`\n",
    "- `Divorced/Separated`\n",
    "- `Married/Partnered`\n",
    "- `Single`.\n",
    "\n",
    "Therefore, we have three interpretations of `age` with respect to `mstatus` where the baseline is `Single`."
   ]
  },
  {
   "cell_type": "code",
   "execution_count": 11,
   "metadata": {
    "slideshow": {
     "slide_type": "slide"
    }
   },
   "outputs": [
    {
     "data": {
      "text/html": [
       "<table>\n",
       "<caption>A tibble: 3 × 3</caption>\n",
       "<thead>\n",
       "\t<tr><th scope=col>term</th><th scope=col>estimate</th><th scope=col>exp.estimate</th></tr>\n",
       "\t<tr><th scope=col>&lt;chr&gt;</th><th scope=col>&lt;dbl&gt;</th><th scope=col>&lt;dbl&gt;</th></tr>\n",
       "</thead>\n",
       "<tbody>\n",
       "\t<tr><td>age:1</td><td>0.252</td><td>1.29</td></tr>\n",
       "\t<tr><td>age:2</td><td>0.153</td><td>1.17</td></tr>\n",
       "\t<tr><td>age:3</td><td>0.149</td><td>1.16</td></tr>\n",
       "</tbody>\n",
       "</table>\n"
      ],
      "text/latex": [
       "A tibble: 3 × 3\n",
       "\\begin{tabular}{lll}\n",
       " term & estimate & exp.estimate\\\\\n",
       " <chr> & <dbl> & <dbl>\\\\\n",
       "\\hline\n",
       "\t age:1 & 0.252 & 1.29\\\\\n",
       "\t age:2 & 0.153 & 1.17\\\\\n",
       "\t age:3 & 0.149 & 1.16\\\\\n",
       "\\end{tabular}\n"
      ],
      "text/markdown": [
       "\n",
       "A tibble: 3 × 3\n",
       "\n",
       "| term &lt;chr&gt; | estimate &lt;dbl&gt; | exp.estimate &lt;dbl&gt; |\n",
       "|---|---|---|\n",
       "| age:1 | 0.252 | 1.29 |\n",
       "| age:2 | 0.153 | 1.17 |\n",
       "| age:3 | 0.149 | 1.16 |\n",
       "\n"
      ],
      "text/plain": [
       "  term  estimate exp.estimate\n",
       "1 age:1 0.252    1.29        \n",
       "2 age:2 0.153    1.17        \n",
       "3 age:3 0.149    1.16        "
      ]
     },
     "metadata": {},
     "output_type": "display_data"
    }
   ],
   "source": [
    "tibble(summary_multinomial_model[4:6, 1:2], exp.estimate = round(exp(summary_multinomial_model[4:6, 2]), 2))"
   ]
  },
  {
   "cell_type": "markdown",
   "metadata": {
    "slideshow": {
     "slide_type": "slide"
    }
   },
   "source": [
    "By using the column `exp.estimate`, we interpret the three slopes above as follows:\n",
    "\n",
    "- $\\beta_1^{(\\texttt{Widowed},\\texttt{Single})}$ (`age:1`): \"*for each one year increase in the `age`, the odds that the respondent is `Widowed` rather than `Single` increase by 29%*.\"\n",
    "- $\\beta_1^{(\\texttt{Divorced},\\texttt{Single})}$ (`age:2`): \"*for each one year increase in the `age`, the odds that the respondent is `Divorced/Separated` rather than `Single` increase by 17%*.\"\n",
    "- $\\beta_1^{(\\texttt{Married},\\texttt{Single})}$ (`age:3`): \"*for each one year increase in the `age`, the odds that the respondent is `Married/Partnered` rather than `Single` increase by 16%*.\""
   ]
  },
  {
   "cell_type": "markdown",
   "metadata": {
    "slideshow": {
     "slide_type": "slide"
    }
   },
   "source": [
    "### In-Class Activity\n",
    "\n",
    "Now, using the object `multinomial_model` with `predict()`, calculate the predicted odds of someone being `Married/Partnered` versus `Single` at the `age` of 20. Interpret the result *in plain words*."
   ]
  },
  {
   "cell_type": "code",
   "execution_count": 12,
   "metadata": {
    "slideshow": {
     "slide_type": "skip"
    }
   },
   "outputs": [
    {
     "data": {
      "text/html": [
       "<table>\n",
       "<caption>A matrix: 1 × 3 of type dbl</caption>\n",
       "<thead>\n",
       "\t<tr><th></th><th scope=col>log(mu[,1]/mu[,4])</th><th scope=col>log(mu[,2]/mu[,4])</th><th scope=col>log(mu[,3]/mu[,4])</th></tr>\n",
       "</thead>\n",
       "<tbody>\n",
       "\t<tr><th scope=row>1</th><td>0</td><td>0.04</td><td>0.55</td></tr>\n",
       "</tbody>\n",
       "</table>\n"
      ],
      "text/latex": [
       "A matrix: 1 × 3 of type dbl\n",
       "\\begin{tabular}{r|lll}\n",
       "  & log(mu{[},1{]}/mu{[},4{]}) & log(mu{[},2{]}/mu{[},4{]}) & log(mu{[},3{]}/mu{[},4{]})\\\\\n",
       "\\hline\n",
       "\t1 & 0 & 0.04 & 0.55\\\\\n",
       "\\end{tabular}\n"
      ],
      "text/markdown": [
       "\n",
       "A matrix: 1 × 3 of type dbl\n",
       "\n",
       "| <!--/--> | log(mu[,1]/mu[,4]) | log(mu[,2]/mu[,4]) | log(mu[,3]/mu[,4]) |\n",
       "|---|---|---|---|\n",
       "| 1 | 0 | 0.04 | 0.55 |\n",
       "\n"
      ],
      "text/plain": [
       "  log(mu[,1]/mu[,4]) log(mu[,2]/mu[,4]) log(mu[,3]/mu[,4])\n",
       "1 0                  0.04               0.55              "
      ]
     },
     "metadata": {},
     "output_type": "display_data"
    },
    {
     "data": {
      "text/html": [
       "1.82"
      ],
      "text/latex": [
       "1.82"
      ],
      "text/markdown": [
       "1.82"
      ],
      "text/plain": [
       "[1] 1.82"
      ]
     },
     "metadata": {},
     "output_type": "display_data"
    }
   ],
   "source": [
    "pred_odds_age_20 <- round(exp(predict(multinomial_model, tibble(age = 20), type = \"link\")), 2)\n",
    "pred_odds_age_20\n",
    "round(1/ pred_odds_age_20[, 3], 2)"
   ]
  },
  {
   "cell_type": "markdown",
   "metadata": {
    "slideshow": {
     "slide_type": "skip"
    }
   },
   "source": [
    "Recall that the levels for `Married/Partnered` and `Single` are `3` and `4`, respectively. Then, the predicted odds are 0.55 in the tibble above. We interpret this result as follows: \"*someone who is 20 years old is 1.82 ($1/0.55$) times more likely to be `Single` rather than `Married/Partnered`*.\""
   ]
  },
  {
   "cell_type": "markdown",
   "metadata": {
    "slideshow": {
     "slide_type": "fragment"
    }
   },
   "source": [
    "Using the object `multinomial_model` with `predict()`, calculate the predicted odds of someone being `Widowed` versus `Single` at the `age` of 40. Interpret the result in *plain words*."
   ]
  },
  {
   "cell_type": "code",
   "execution_count": 13,
   "metadata": {
    "slideshow": {
     "slide_type": "skip"
    }
   },
   "outputs": [
    {
     "data": {
      "text/html": [
       "<table>\n",
       "<caption>A matrix: 1 × 3 of type dbl</caption>\n",
       "<thead>\n",
       "\t<tr><th></th><th scope=col>log(mu[,1]/mu[,4])</th><th scope=col>log(mu[,2]/mu[,4])</th><th scope=col>log(mu[,3]/mu[,4])</th></tr>\n",
       "</thead>\n",
       "<tbody>\n",
       "\t<tr><th scope=row>1</th><td>0.05</td><td>0.77</td><td>10.79</td></tr>\n",
       "</tbody>\n",
       "</table>\n"
      ],
      "text/latex": [
       "A matrix: 1 × 3 of type dbl\n",
       "\\begin{tabular}{r|lll}\n",
       "  & log(mu{[},1{]}/mu{[},4{]}) & log(mu{[},2{]}/mu{[},4{]}) & log(mu{[},3{]}/mu{[},4{]})\\\\\n",
       "\\hline\n",
       "\t1 & 0.05 & 0.77 & 10.79\\\\\n",
       "\\end{tabular}\n"
      ],
      "text/markdown": [
       "\n",
       "A matrix: 1 × 3 of type dbl\n",
       "\n",
       "| <!--/--> | log(mu[,1]/mu[,4]) | log(mu[,2]/mu[,4]) | log(mu[,3]/mu[,4]) |\n",
       "|---|---|---|---|\n",
       "| 1 | 0.05 | 0.77 | 10.79 |\n",
       "\n"
      ],
      "text/plain": [
       "  log(mu[,1]/mu[,4]) log(mu[,2]/mu[,4]) log(mu[,3]/mu[,4])\n",
       "1 0.05               0.77               10.79             "
      ]
     },
     "metadata": {},
     "output_type": "display_data"
    },
    {
     "data": {
      "text/html": [
       "20"
      ],
      "text/latex": [
       "20"
      ],
      "text/markdown": [
       "20"
      ],
      "text/plain": [
       "[1] 20"
      ]
     },
     "metadata": {},
     "output_type": "display_data"
    }
   ],
   "source": [
    "pred_odds_age_40 <- round(exp(predict(multinomial_model, tibble(age = 40), type = \"link\")), 2)\n",
    "pred_odds_age_40\n",
    "round(1/ pred_odds_age_40[, 1], 2)"
   ]
  },
  {
   "cell_type": "markdown",
   "metadata": {
    "slideshow": {
     "slide_type": "skip"
    }
   },
   "source": [
    "The levels for `Widowed` and `Single` are `1` and `4`, respectively. Then, the predicted odds are 0.05 in the tibble above. We interpret this result as follows: \"*someone who is 40 years old is 20 ($1/0.05$) times more likely to be `Single` rather than `Widowed`*.\""
   ]
  },
  {
   "cell_type": "markdown",
   "metadata": {
    "slideshow": {
     "slide_type": "slide"
    }
   },
   "source": [
    "### Can We Predict Probabilities For Classification Purposes?\n",
    "\n",
    "Using the function `predict()` with the object `multinomial_model`, obtain the estimated probabilities for a person who is 80 years old of being `Widowed`, `Divorced/Separated`, `Married/Partnered`, and `Single`. How can we classify this person then?"
   ]
  },
  {
   "cell_type": "code",
   "execution_count": 14,
   "metadata": {
    "slideshow": {
     "slide_type": "skip"
    }
   },
   "outputs": [
    {
     "data": {
      "text/html": [
       "<table>\n",
       "<caption>A matrix: 1 × 4 of type dbl</caption>\n",
       "<thead>\n",
       "\t<tr><th></th><th scope=col>Widowed</th><th scope=col>Divorced/Separated</th><th scope=col>Married/Partnered</th><th scope=col>Single</th></tr>\n",
       "</thead>\n",
       "<tbody>\n",
       "\t<tr><th scope=row>1</th><td>0.2</td><td>0.06</td><td>0.74</td><td>0</td></tr>\n",
       "</tbody>\n",
       "</table>\n"
      ],
      "text/latex": [
       "A matrix: 1 × 4 of type dbl\n",
       "\\begin{tabular}{r|llll}\n",
       "  & Widowed & Divorced/Separated & Married/Partnered & Single\\\\\n",
       "\\hline\n",
       "\t1 & 0.2 & 0.06 & 0.74 & 0\\\\\n",
       "\\end{tabular}\n"
      ],
      "text/markdown": [
       "\n",
       "A matrix: 1 × 4 of type dbl\n",
       "\n",
       "| <!--/--> | Widowed | Divorced/Separated | Married/Partnered | Single |\n",
       "|---|---|---|---|---|\n",
       "| 1 | 0.2 | 0.06 | 0.74 | 0 |\n",
       "\n"
      ],
      "text/plain": [
       "  Widowed Divorced/Separated Married/Partnered Single\n",
       "1 0.2     0.06               0.74              0     "
      ]
     },
     "metadata": {},
     "output_type": "display_data"
    }
   ],
   "source": [
    "round(predict(multinomial_model, tibble(age = 80), type = \"response\"), 2)"
   ]
  },
  {
   "cell_type": "markdown",
   "metadata": {
    "slideshow": {
     "slide_type": "skip"
    }
   },
   "source": [
    "We can see that it is most likely to be `Married/Partnered` with a probability of 0.74 at the `age` of 80 with this model. Thus, we could classify the person as `Married/Partnered`."
   ]
  },
  {
   "cell_type": "markdown",
   "metadata": {
    "slideshow": {
     "slide_type": "slide"
    }
   },
   "source": [
    "## 4. Ordinal Logistic Regression"
   ]
  },
  {
   "cell_type": "markdown",
   "metadata": {
    "slideshow": {
     "slide_type": "fragment"
    }
   },
   "source": [
    "The previous multinomial logistic model **is not suitable for ordinal responses**."
   ]
  },
  {
   "cell_type": "markdown",
   "metadata": {
    "slideshow": {
     "slide_type": "fragment"
    }
   },
   "source": [
    "Suppose one does not consider the order in the response levels when necessary. In that case, *we might be at stake of losing valuable information when making inference or predictions*."
   ]
  },
  {
   "cell_type": "markdown",
   "metadata": {
    "slideshow": {
     "slide_type": "slide"
    }
   },
   "source": [
    "Therefore, the ideal approach is a logistic regression that suits **ordinal** responses."
   ]
  },
  {
   "cell_type": "markdown",
   "metadata": {
    "slideshow": {
     "slide_type": "fragment"
    }
   },
   "source": [
    "One of this statistical model's main goals is establishing whether there is a significant association between the ordered response and a set of given regressors."
   ]
  },
  {
   "cell_type": "markdown",
   "metadata": {
    "slideshow": {
     "slide_type": "slide"
    }
   },
   "source": [
    "### 4.1. General Modelling Framework of the Ordinal Logistic Regression"
   ]
  },
  {
   "cell_type": "markdown",
   "metadata": {
    "slideshow": {
     "slide_type": "fragment"
    }
   },
   "source": [
    "Let us suppose that a given *discrete* ordinal response $Y_i$ (for $i = 1, \\dots, n$) has categories $1, 2, \\dots, k$.\n",
    "\n",
    "> **Note:** The categories $1, 2, \\dots, k$ **implicate an ordinal scale here**, i.e., $1 < 2 < \\dots < k$."
   ]
  },
  {
   "cell_type": "markdown",
   "metadata": {
    "slideshow": {
     "slide_type": "fragment"
    }
   },
   "source": [
    "There is more than one class of ordinal logistic regression. We will review the *proportional odds* model (*cumulative logit* model)."
   ]
  },
  {
   "cell_type": "markdown",
   "metadata": {
    "slideshow": {
     "slide_type": "skip"
    }
   },
   "source": [
    "### Optional Material\n",
    "\n",
    "Before going into the model's mathematical notation, we have to point out that the ordinal logistic regression will indicate how each one of the regressors affects the logarithm of the odds in the response for the following $k - 1$ situations:\n",
    "\n",
    "\\begin{gather*}\n",
    "\\text{Level } k - 1 \\text{ or any lesser degree versus level } k\\\\\n",
    "\\text{Level } k - 2 \\text{ or any lesser degree versus level } k - 1 \\text{ or any higher degree}\\\\\n",
    "\\vdots \\\\\n",
    "\\text{Level } 2 \\text{ or any lesser degree versus level } 3 \\text{ or any higher degree}\\\\\n",
    "\\text{Level } 1 \\text{ versus level } 2 \\text{ or any higher degree}\\\\\n",
    "\\end{gather*}\n",
    "\n",
    "These $k-1$ situations can be translated into cumulative probabilities using the logarithms of the odds on the left-hand side ($k -1$ link functions) subject to the linear combination of the $p$ regressors $X_{i,j}$ (for $j = 1, \\dots, p$):\n",
    "\n",
    "\\begin{gather*}\n",
    "\\eta_i^{(k - 1)} = \\log\\left[\\frac{\\Pr(Y_i \\leq k - 1 \\mid X_{i,1}, \\ldots, X_{i,p})}{\\Pr(Y_i = k \\mid X_{i,1}, \\ldots, X_{i,p})}\\right] = \\beta_0^{(k - 1)} - \\beta_1 X_{i, 1} - \\beta_2 X_{i, 2} - \\ldots - \\beta_p X_{i, p} \\\\\n",
    "\\eta_i^{(k - 2)} = \\log\\left[\\frac{\\Pr(Y_i \\leq k - 2 \\mid X_{i,1}, \\ldots, X_{i,p})}{\\Pr(Y_i > k - 2 \\mid X_{i,1}, \\ldots, X_{i,p})}\\right] = \\beta_0^{(k - 2)} - \\beta_1 X_{i, 1} - \\beta_2 X_{i, 2} - \\ldots - \\beta_p X_{i, p} \\\\\n",
    "\\vdots \\\\\n",
    "\\eta_i^{(2)} = \\log\\left[\\frac{\\Pr(Y_i \\leq 2 \\mid X_{i,1}, \\ldots, X_{i,p})}{\\Pr(Y_i > 2 \\mid X_{i,1}, \\ldots, X_{i,p})}\\right] = \\beta_0^{(2)} - \\beta_1 X_{i, 1} - \\beta_2 X_{i, 2} - \\ldots - \\beta_p X_{i, p}\n",
    "\\end{gather*}\n",
    "\n",
    "\\begin{gather*}\n",
    "\\eta_i^{(1)} = \\log\\left[\\frac{\\Pr(Y_i = 1 \\mid X_{i,1}, \\ldots, X_{i,p})}{\\Pr(Y_i > 1 \\mid X_{i,1}, \\ldots, X_{i,p})}\\right] = \\beta_0^{(1)} - \\beta_1 X_{i, 1} - \\beta_2 X_{i, 2} - \\ldots - \\beta_p X_{i, p}.\n",
    "\\end{gather*}\n",
    "\n",
    "Note that the system above has $k - 1$ intercepts but **only $p$ slopes**. In general, the previous $k - 1$ equations can be generalized for levels $j = k - 1, \\dots, 1$ as follows :\n",
    "\n",
    "\\begin{gather*}\n",
    "\\eta_i^{(j)} = \\log\\left[\\frac{\\Pr(Y_i \\leq j \\mid X_{i,1}, \\ldots, X_{i,p})}{\\Pr(Y_i > j \\mid X_{i,1}, \\ldots, X_{i,p})}\\right] = \\beta_0^{(j)} - \\beta_1 X_{i, 1} - \\beta_2 X_{i, 2} - \\ldots - \\beta_p X_{i, p} \\\\\n",
    "\\; \\; \\; \\; \\; \\; \\; \\; \\Rightarrow \\; \\Pr(Y_i \\leq j \\mid X_{i,1}, \\ldots, X_{i,p}) = \\frac{\\exp\\left(\\beta_0^{(j)} - \\beta_1 X_{i, 1} - \\beta_2 X_{i, 2} - \\ldots - \\beta_p X_{i, p}\\right)}{1 + \\exp\\left(\\beta_0^{(j)} - \\beta_1 X_{i, 1} - \\beta_2 X_{i, 2} - \\ldots - \\beta_p X_{i, p}\\right)}.\n",
    "\\end{gather*}\n",
    "\n",
    "The probability that $Y_i$ will fall in the category $j$ can be computed as follows:\n",
    "\n",
    "\\begin{equation*}\n",
    "\\pi_{i,j} = \\Pr(Y_i = j \\mid X_{i,1}, \\ldots, X_{i,p}) = \\Pr(Y_i \\leq j \\mid X_{i,1}, \\ldots, X_{i,p}) - \\Pr(Y_i \\leq j - 1 \\mid X_{i,1}, \\ldots, X_{i,p}),\n",
    "\\end{equation*}\n",
    "\n",
    "which leads to\n",
    "\\begin{equation*}\n",
    "\\Pr(Y_i = 1) = \\pi_{i,1} \\;\\;\\;\\; \\Pr(Y_i = 2) = \\pi_{i,2} \\;\\; \\dots \\;\\; \\Pr(Y_i = k) = \\pi_{i,k},\n",
    "\\end{equation*}\n",
    "\n",
    "where\n",
    "\n",
    "\\begin{equation*}\n",
    "\\sum_{j = 1}^k \\pi_{i,j} = \\pi_{i,1} + \\pi_{i,2} + \\dots + \\pi_{i,k} = 1.\n",
    "\\end{equation*}\n",
    "\n",
    "#### Why Do We Have Proportional Odds in This Model?\n",
    "\n",
    "If we make some mathematical manipulation on the previous equation system, it turns out that the *proportional odds* come into play as follows:\n",
    "\n",
    "\\begin{gather*}\\\n",
    "\\exp{\\left(-\\beta_0^{(k - 1)}\\right)} \\frac{\\Pr(Y_i \\leq k - 1 \\mid X_{i,1}, \\ldots, X_{i,p})}{\\Pr(Y_i = k \\mid X_{i,1}, \\ldots, X_{i,p})} = \\dots = \\exp{\\left(-\\beta_0^{(1)}\\right)} \\frac{\\Pr(Y_i = 1 \\mid X_{i,1}, \\ldots, X_{i,p})}{\\Pr(Y_i > 1 \\mid X_{i,1}, \\ldots, X_{i,p})}.\n",
    "\\end{gather*}\n",
    "\n",
    "Mathematically, this can be expressed as:\n",
    "\n",
    "\\begin{gather*}\n",
    "\\frac{\\Pr(Y_i \\leq k - 1 \\mid X_{i,1}, \\ldots, X_{i,p})}{\\Pr(Y_i = k \\mid X_{i,1}, \\ldots, X_{i,p})} \\propto \\dots \\propto \\frac{\\Pr(Y_i = 1 \\mid X_{i,1}, \\ldots, X_{i,p})}{\\Pr(Y_i > 1 \\mid X_{i,1}, \\ldots, X_{i,p})},\n",
    "\\end{gather*}\n",
    "\n",
    "where the symbol $\\propto$ indicates \"*proportional to*\"."
   ]
  },
  {
   "cell_type": "markdown",
   "metadata": {
    "slideshow": {
     "slide_type": "slide"
    }
   },
   "source": [
    "### 4.2. College Juniors Dataset\n",
    "\n",
    "The data frame `college_data` was obtained from the webpage of the [UCLA Statistical Consulting Group](https://stats.idre.ucla.edu/r/dae/ordinal-logistic-regression/), which is used for ordinal regression. We will also fit an ordinal logistic regression using this dataset, but with a more detailed exploratory analysis and coefficient interpretations."
   ]
  },
  {
   "cell_type": "markdown",
   "metadata": {
    "slideshow": {
     "slide_type": "fragment"
    }
   },
   "source": [
    "> The dataset contains the results of a survey applied to 400 college juniors regarding the factors that influence their decision to apply to graduate school."
   ]
  },
  {
   "cell_type": "markdown",
   "metadata": {
    "slideshow": {
     "slide_type": "slide"
    }
   },
   "source": [
    "We have the following variables:\n",
    "\n",
    "- `decision`: how likely the student will apply to graduate school, a discrete and ordinal response with three increasing categories (`unlikely`, `somewhat likely`, and `very likely`).\n",
    "- `parent_ed`: whether at least one parent has a graduate degree, a discrete and binary explanatory variable (`Yes` and `No`).\n",
    "- `GPA`: the student's current GPA, a continuous explanatory variable."
   ]
  },
  {
   "cell_type": "markdown",
   "metadata": {
    "slideshow": {
     "slide_type": "slide"
    }
   },
   "source": [
    "Then, we will fit an ordinal logistic regression model to answer the following questions:\n",
    "\n",
    "- Is `decision` statistically related to `parent_ed` and `GPA`?\n",
    "- How can we interpret these statistical relationships (*if there are any*)?"
   ]
  },
  {
   "cell_type": "markdown",
   "metadata": {
    "slideshow": {
     "slide_type": "skip"
    }
   },
   "source": [
    "We load the data frame `college_data`."
   ]
  },
  {
   "cell_type": "code",
   "execution_count": 15,
   "metadata": {
    "slideshow": {
     "slide_type": "slide"
    }
   },
   "outputs": [
    {
     "data": {
      "text/html": [
       "<style>\n",
       ".list-inline {list-style: none; margin:0; padding: 0}\n",
       ".list-inline>li {display: inline-block}\n",
       ".list-inline>li:not(:last-child)::after {content: \"\\00b7\"; padding: 0 .5ex}\n",
       "</style>\n",
       "<ol class=list-inline><li>'unlikely'</li><li>'somewhat likely'</li><li>'very likely'</li></ol>\n"
      ],
      "text/latex": [
       "\\begin{enumerate*}\n",
       "\\item 'unlikely'\n",
       "\\item 'somewhat likely'\n",
       "\\item 'very likely'\n",
       "\\end{enumerate*}\n"
      ],
      "text/markdown": [
       "1. 'unlikely'\n",
       "2. 'somewhat likely'\n",
       "3. 'very likely'\n",
       "\n",
       "\n"
      ],
      "text/plain": [
       "[1] \"unlikely\"        \"somewhat likely\" \"very likely\"    "
      ]
     },
     "metadata": {},
     "output_type": "display_data"
    },
    {
     "data": {
      "text/html": [
       "<table>\n",
       "<caption>A tibble: 6 × 3</caption>\n",
       "<thead>\n",
       "\t<tr><th scope=col>decision</th><th scope=col>parent_ed</th><th scope=col>GPA</th></tr>\n",
       "\t<tr><th scope=col>&lt;ord&gt;</th><th scope=col>&lt;chr&gt;</th><th scope=col>&lt;dbl&gt;</th></tr>\n",
       "</thead>\n",
       "<tbody>\n",
       "\t<tr><td>very likely    </td><td>No </td><td>3.26</td></tr>\n",
       "\t<tr><td>somewhat likely</td><td>Yes</td><td>3.21</td></tr>\n",
       "\t<tr><td>unlikely       </td><td>Yes</td><td>3.94</td></tr>\n",
       "\t<tr><td>somewhat likely</td><td>No </td><td>2.81</td></tr>\n",
       "\t<tr><td>somewhat likely</td><td>No </td><td>2.53</td></tr>\n",
       "\t<tr><td>unlikely       </td><td>No </td><td>2.59</td></tr>\n",
       "</tbody>\n",
       "</table>\n"
      ],
      "text/latex": [
       "A tibble: 6 × 3\n",
       "\\begin{tabular}{lll}\n",
       " decision & parent\\_ed & GPA\\\\\n",
       " <ord> & <chr> & <dbl>\\\\\n",
       "\\hline\n",
       "\t very likely     & No  & 3.26\\\\\n",
       "\t somewhat likely & Yes & 3.21\\\\\n",
       "\t unlikely        & Yes & 3.94\\\\\n",
       "\t somewhat likely & No  & 2.81\\\\\n",
       "\t somewhat likely & No  & 2.53\\\\\n",
       "\t unlikely        & No  & 2.59\\\\\n",
       "\\end{tabular}\n"
      ],
      "text/markdown": [
       "\n",
       "A tibble: 6 × 3\n",
       "\n",
       "| decision &lt;ord&gt; | parent_ed &lt;chr&gt; | GPA &lt;dbl&gt; |\n",
       "|---|---|---|\n",
       "| very likely     | No  | 3.26 |\n",
       "| somewhat likely | Yes | 3.21 |\n",
       "| unlikely        | Yes | 3.94 |\n",
       "| somewhat likely | No  | 2.81 |\n",
       "| somewhat likely | No  | 2.53 |\n",
       "| unlikely        | No  | 2.59 |\n",
       "\n"
      ],
      "text/plain": [
       "  decision        parent_ed GPA \n",
       "1 very likely     No        3.26\n",
       "2 somewhat likely Yes       3.21\n",
       "3 unlikely        Yes       3.94\n",
       "4 somewhat likely No        2.81\n",
       "5 somewhat likely No        2.53\n",
       "6 unlikely        No        2.59"
      ]
     },
     "metadata": {},
     "output_type": "display_data"
    }
   ],
   "source": [
    "college_data <- suppressMessages(read_csv(\"../datasets/college_data.csv\"))\n",
    "college_data$decision <- as.ordered(college_data$decision)\n",
    "college_data$decision <- fct_relevel(\n",
    "  college_data$decision,\n",
    "  c(\"unlikely\", \"somewhat likely\", \"very likely\")\n",
    ")\n",
    "levels(college_data$decision)\n",
    "\n",
    "head(college_data)"
   ]
  },
  {
   "cell_type": "markdown",
   "metadata": {
    "slideshow": {
     "slide_type": "skip"
    }
   },
   "source": [
    "> **Note:** The function `as.ordered()` creates an ordered factor. "
   ]
  },
  {
   "cell_type": "markdown",
   "metadata": {
    "slideshow": {
     "slide_type": "slide"
    }
   },
   "source": [
    "Let us plot the data first."
   ]
  },
  {
   "cell_type": "markdown",
   "metadata": {
    "slideshow": {
     "slide_type": "fragment"
    }
   },
   "source": [
    "Note that `decision` is a discrete ordinal response, so again we have to be careful about the class of plots we are using regarding exploratory data analysis."
   ]
  },
  {
   "cell_type": "markdown",
   "metadata": {
    "slideshow": {
     "slide_type": "fragment"
    }
   },
   "source": [
    "To explore visually the relationship between `decision` and `GPA` , we will use the following side-by-side plots:\n",
    "\n",
    "- Boxplots.\n",
    "- Violin plots."
   ]
  },
  {
   "cell_type": "code",
   "execution_count": 16,
   "metadata": {
    "slideshow": {
     "slide_type": "skip"
    }
   },
   "outputs": [],
   "source": [
    "college_data.side.boxplots <- college_data %>%\n",
    "  ggplot(aes(decision, GPA)) +\n",
    "  geom_boxplot(aes(fill = decision)) +\n",
    "  labs(y = \"GPA\", x = \"Decision to Apply to Graduate School\") +\n",
    "  ggtitle(\"Side-by-Side Boxplots\") +\n",
    "  theme(\n",
    "    plot.title = element_text(size = 24, face = \"bold\"),\n",
    "    axis.text = element_text(size = 14),\n",
    "    axis.title = element_text(size = 16),\n",
    "    legend.position = \"none\"\n",
    "  )\n",
    "\n",
    "college_data.side.violin <- college_data %>%\n",
    "  ggplot(aes(decision, GPA)) +\n",
    "  geom_violin(aes(fill = decision)) +\n",
    "  labs(y = \"GPA\", x = \"Decision to Apply to Graduate School\") +\n",
    "  ggtitle(\"Side-by-Side Violin Plots\") +\n",
    "  stat_summary(\n",
    "    fun = mean, colour = \"red\", geom = \"point\",\n",
    "    shape = 18, size = 5\n",
    "  ) +\n",
    "  theme(\n",
    "    plot.title = element_text(size = 24, face = \"bold\"),\n",
    "    axis.text = element_text(size = 14),\n",
    "    axis.title = element_text(size = 16),\n",
    "    legend.position = \"none\"\n",
    "  )"
   ]
  },
  {
   "cell_type": "markdown",
   "metadata": {
    "slideshow": {
     "slide_type": "skip"
    }
   },
   "source": [
    "The code above creates side-by-side boxplots and violin plots, where `GPA` is on the $y$-axis, and all categories of `decision` are on the $x$-axis. The side-by-side violin plots show the mean of `GPA` by `decision` category in red points."
   ]
  },
  {
   "cell_type": "markdown",
   "metadata": {
    "slideshow": {
     "slide_type": "slide"
    }
   },
   "source": [
    "Now, how can we visually explore the relationship between `decision` and `parent_ed`?"
   ]
  },
  {
   "cell_type": "markdown",
   "metadata": {
    "slideshow": {
     "slide_type": "fragment"
    }
   },
   "source": [
    "In the case of two categorical explanatory variables, we can use stacked bar charts. Each bar will show the percentages (depicted on the $y$-axis) of college students falling on each ordered category of `decision` with the categories found in `parent_ed` on the $x$-axis. This class of bars will allow us to compare both levels of `parent_ed` in terms of the categories of `decision`."
   ]
  },
  {
   "cell_type": "code",
   "execution_count": 17,
   "metadata": {
    "slideshow": {
     "slide_type": "slide"
    }
   },
   "outputs": [
    {
     "data": {
      "text/html": [
       "<table>\n",
       "<caption>A data.frame: 6 × 3</caption>\n",
       "<thead>\n",
       "\t<tr><th scope=col>parent_ed</th><th scope=col>decision</th><th scope=col>prop</th></tr>\n",
       "\t<tr><th scope=col>&lt;fct&gt;</th><th scope=col>&lt;fct&gt;</th><th scope=col>&lt;dbl&gt;</th></tr>\n",
       "</thead>\n",
       "<tbody>\n",
       "\t<tr><td>No </td><td>unlikely       </td><td>0.59347181</td></tr>\n",
       "\t<tr><td>Yes</td><td>unlikely       </td><td>0.31746032</td></tr>\n",
       "\t<tr><td>No </td><td>somewhat likely</td><td>0.32640950</td></tr>\n",
       "\t<tr><td>Yes</td><td>somewhat likely</td><td>0.47619048</td></tr>\n",
       "\t<tr><td>No </td><td>very likely    </td><td>0.08011869</td></tr>\n",
       "\t<tr><td>Yes</td><td>very likely    </td><td>0.20634921</td></tr>\n",
       "</tbody>\n",
       "</table>\n"
      ],
      "text/latex": [
       "A data.frame: 6 × 3\n",
       "\\begin{tabular}{lll}\n",
       " parent\\_ed & decision & prop\\\\\n",
       " <fct> & <fct> & <dbl>\\\\\n",
       "\\hline\n",
       "\t No  & unlikely        & 0.59347181\\\\\n",
       "\t Yes & unlikely        & 0.31746032\\\\\n",
       "\t No  & somewhat likely & 0.32640950\\\\\n",
       "\t Yes & somewhat likely & 0.47619048\\\\\n",
       "\t No  & very likely     & 0.08011869\\\\\n",
       "\t Yes & very likely     & 0.20634921\\\\\n",
       "\\end{tabular}\n"
      ],
      "text/markdown": [
       "\n",
       "A data.frame: 6 × 3\n",
       "\n",
       "| parent_ed &lt;fct&gt; | decision &lt;fct&gt; | prop &lt;dbl&gt; |\n",
       "|---|---|---|\n",
       "| No  | unlikely        | 0.59347181 |\n",
       "| Yes | unlikely        | 0.31746032 |\n",
       "| No  | somewhat likely | 0.32640950 |\n",
       "| Yes | somewhat likely | 0.47619048 |\n",
       "| No  | very likely     | 0.08011869 |\n",
       "| Yes | very likely     | 0.20634921 |\n",
       "\n"
      ],
      "text/plain": [
       "  parent_ed decision        prop      \n",
       "1 No        unlikely        0.59347181\n",
       "2 Yes       unlikely        0.31746032\n",
       "3 No        somewhat likely 0.32640950\n",
       "4 Yes       somewhat likely 0.47619048\n",
       "5 No        very likely     0.08011869\n",
       "6 Yes       very likely     0.20634921"
      ]
     },
     "metadata": {},
     "output_type": "display_data"
    }
   ],
   "source": [
    "college_data.prop.summary <- as.data.frame(xtabs(\n",
    "  ~ parent_ed +\n",
    "    decision,\n",
    "  college_data\n",
    ") / rowSums(xtabs(\n",
    "  ~ parent_ed + decision,\n",
    "  college_data\n",
    ")), responseName = \"prop\")\n",
    "\n",
    "college_data.prop.summary"
   ]
  },
  {
   "cell_type": "markdown",
   "metadata": {
    "slideshow": {
     "slide_type": "skip"
    }
   },
   "source": [
    "First of all, we need to do some data wrangling. The code above obtains the conditioned proportions for each level of `decision` conditioned on the categories of `parent_ed`. If we add up all proportions corresponding to `No` or `Yes`, we will obtain 1."
   ]
  },
  {
   "cell_type": "code",
   "execution_count": 18,
   "metadata": {
    "slideshow": {
     "slide_type": "skip"
    }
   },
   "outputs": [],
   "source": [
    "college_data.stacked.bars <- ggplot(college_data.prop.summary, aes(x = parent_ed, \n",
    "                                                                   y = prop, fill = decision)) +\n",
    "  geom_bar(stat = \"identity\", width = 0.7, colour = \"black\", lwd = 0.1) +\n",
    "  geom_text(aes(label = ifelse(prop >= 0.05, paste0(sprintf(\"%.0f\", prop*100),\"%\"),\"\")),\n",
    "            position = position_stack(vjust = 0.5), colour = \"firebrick3\", fontface = \"bold\", size = 5) +\n",
    "  scale_y_continuous(labels = percent_format()) +\n",
    "  labs(y = \"Percent\", x = \"Parent Education Status\", fill = \"\") +\n",
    "  ggtitle(\"Stacked Bar Charts\")  +\n",
    "  theme(plot.title = element_text(size = 24, face = \"bold\"),\n",
    "        axis.text.x = element_text(size = 14, angle = 0),\n",
    "        axis.text.y = element_text(size = 14, angle = 0),\n",
    "        axis.title = element_text(size = 16),\n",
    "        legend.text = element_text(size = 14, margin = margin(r = 1, unit = \"cm\")), \n",
    "        legend.title = element_text(size = 14, face = \"bold\")) +\n",
    "  guides(fill = guide_legend(title = \"Decision\")) + scale_fill_brewer(palette = \"Blues\")"
   ]
  },
  {
   "cell_type": "code",
   "execution_count": 19,
   "metadata": {
    "slideshow": {
     "slide_type": "slide"
    }
   },
   "outputs": [
    {
     "data": {
      "image/png": "[encoded data removed]",
      "text/plain": [
       "plot without title"
      ]
     },
     "metadata": {
      "image/png": {
       "height": 360,
       "width": 1200
      }
     },
     "output_type": "display_data"
    }
   ],
   "source": [
    "options(repr.plot.height = 6, repr.plot.width = 20)\n",
    "\n",
    "plot_grid(college_data.side.boxplots, college_data.side.violin, college_data.stacked.bars, nrow = 1)"
   ]
  },
  {
   "cell_type": "markdown",
   "metadata": {
    "slideshow": {
     "slide_type": "fragment"
    }
   },
   "source": [
    "### In-Class Activity\n",
    " \n",
    "What can we *descriptively* see from the plots?"
   ]
  },
  {
   "cell_type": "markdown",
   "metadata": {
    "slideshow": {
     "slide_type": "skip"
    }
   },
   "source": [
    "> Those students with higher `GPA` tend to be `very likely` to apply to graduate school.\n",
    "\n",
    "> Interestingly, those students with at least one parent with a graduate degree tend to be `very likely` to apply to graduate school."
   ]
  },
  {
   "cell_type": "markdown",
   "metadata": {
    "slideshow": {
     "slide_type": "slide"
    }
   },
   "source": [
    "Let us set up the ordinal logistical regression model in this case. For the $i$th observation with the continuous $X_{i, \\texttt{GPA}}$ and the dummy variable $X_{i, \\texttt{parent_ed}}$, the model will indicate how each one of the regressors affects the logarithm of the odds in `decision` for the following $2$ situations:"
   ]
  },
  {
   "cell_type": "markdown",
   "metadata": {
    "slideshow": {
     "slide_type": "fragment"
    }
   },
   "source": [
    "\\begin{gather*}\n",
    "\\text{Level } \\texttt{somewhat likely}  \\text{ or any lesser degree versus level } \\texttt{very likely} \\\\\n",
    "\\text{Level } \\texttt{unlikely} \\text{ versus level } \\texttt{somewhat likely} \\text{ or any higher degree}\n",
    "\\end{gather*}"
   ]
  },
  {
   "cell_type": "markdown",
   "metadata": {
    "slideshow": {
     "slide_type": "slide"
    }
   },
   "source": [
    "We have the following system of $2$ equations:"
   ]
  },
  {
   "cell_type": "markdown",
   "metadata": {
    "slideshow": {
     "slide_type": "fragment"
    }
   },
   "source": [
    "\\begin{align*}\n",
    "\\eta_i^{(\\texttt{somewhat likely})} &= \\log\\left[\\frac{\\Pr(Y_i \\leq \\texttt{somewhat likely} \\mid X_{i, \\texttt{GPA}},X_{i, \\texttt{parent_ed}})}{\\Pr(Y_i = \\texttt{very likely} \\mid X_{i, \\texttt{GPA}},X_{i, \\texttt{parent_ed}})}\\right] \\\\ &= \\beta_0^{(\\texttt{somewhat likely})} - \\beta_1 X_{i, \\texttt{GPA}} - \\beta_2 X_{i, \\texttt{parent_ed}}\n",
    "\\end{align*}\n",
    "\n",
    "\\begin{align*}\n",
    "\\eta_i^{(\\texttt{unlikely})} &= \\log\\left[\\frac{\\Pr(Y_i = \\texttt{unlikely} \\mid X_{i, \\texttt{GPA}},X_{i, \\texttt{parent_ed}})}{\\Pr(Y_i \\geq \\texttt{somewhat likely} \\mid X_{i, \\texttt{GPA}},X_{i, \\texttt{parent_ed}})}\\right] \\\\ &= \\beta_0^{(\\texttt{unlikely})} - \\beta_1 X_{i, \\texttt{GPA}} - \\beta_2 X_{i, \\texttt{parent_ed}}.\n",
    "\\end{align*}"
   ]
  },
  {
   "cell_type": "markdown",
   "metadata": {
    "slideshow": {
     "slide_type": "slide"
    }
   },
   "source": [
    "The system has $2$ intercepts but **only $2$ slopes**. Check the signs of the **common** $\\beta_1$ and $\\beta_2$, which are minuses. This is a very common parameterization of the *proportional odds* model (which is used in `R`)."
   ]
  },
  {
   "cell_type": "markdown",
   "metadata": {
    "slideshow": {
     "slide_type": "fragment"
    }
   },
   "source": [
    "To make coefficient intepretation easier, we could re-expresss the equations of $\\eta_i^{(\\texttt{somewhat likely})}$  and $\\eta_i^{(\\texttt{unlikely})}$ as follows:"
   ]
  },
  {
   "cell_type": "markdown",
   "metadata": {
    "slideshow": {
     "slide_type": "fragment"
    }
   },
   "source": [
    "\\begin{equation*}\n",
    "\\frac{\\Pr(Y_i = \\texttt{very likely} \\mid X_{i, \\texttt{GPA}},X_{i, \\texttt{parent_ed}})}{\\Pr(Y_i \\leq \\texttt{somewhat likely} \\mid X_{i, \\texttt{GPA}},X_{i, \\texttt{parent_ed}})} = \\exp\\big(-\\beta_0^{(\\texttt{somewhat likely})}\\big) \\exp\\big(\\beta_1 X_{i, \\texttt{GPA}}\\big) \\exp\\big(\\beta_2 X_{i, \\texttt{parent_ed}}\\big)\n",
    "\\end{equation*}\n",
    "\n",
    "\\begin{equation*}\n",
    "\\frac{\\Pr(Y_i \\geq \\texttt{somewhat likely} \\mid X_{i, \\texttt{GPA}},X_{i, \\texttt{parent_ed}})}{\\Pr(Y_i = \\texttt{unlikely} \\mid X_{i, \\texttt{GPA}},X_{i, \\texttt{parent_ed}})} = \\exp\\big(-\\beta_0^{(\\texttt{unlikely})}\\big) \\exp\\big(\\beta_1 X_{i, \\texttt{GPA}}\\big) \\exp\\big(\\beta_2 X_{i, \\texttt{parent_ed}}\\big).\n",
    "\\end{equation*}"
   ]
  },
  {
   "cell_type": "markdown",
   "metadata": {
    "slideshow": {
     "slide_type": "fragment"
    }
   },
   "source": [
    "Both regression coefficients ($\\beta_1$ and $\\beta_2$) have a multiplicative effect on the odds on the left-hand side. Moreover, given the proportional odds assumptions, the regressor effects are the same for both odds."
   ]
  },
  {
   "cell_type": "markdown",
   "metadata": {
    "slideshow": {
     "slide_type": "slide"
    }
   },
   "source": [
    "Moreover, let us show *what the proportional odds stand for*:\n",
    "\n",
    "\\begin{align*}\n",
    "\\exp\\big(\\beta_0^{(\\texttt{somewhat likely})}\\big) \\frac{\\Pr(Y_i = \\texttt{very likely} \\mid X_{i, \\texttt{GPA}},X_{i, \\texttt{parent_ed}})}{\\Pr(Y_i \\leq \\texttt{somewhat likely} \\mid X_{i, \\texttt{GPA}},X_{i, \\texttt{parent_ed}})} &= \\exp\\big(\\beta_1 X_{i, \\texttt{GPA}}\\big) \\exp\\big(\\beta_2 X_{i, \\texttt{parent_ed}}\\big) \\\\\n",
    "&= \\exp\\big(\\beta_0^{(\\texttt{unlikely})}\\big) \\frac{\\Pr(Y_i \\geq \\texttt{somewhat likely} \\mid X_{i, \\texttt{GPA}},X_{i, \\texttt{parent_ed}})}{\\Pr(Y_i = \\texttt{unlikely} \\mid X_{i, \\texttt{GPA}},X_{i, \\texttt{parent_ed}})}\n",
    "\\end{align*}"
   ]
  },
  {
   "cell_type": "markdown",
   "metadata": {
    "slideshow": {
     "slide_type": "fragment"
    }
   },
   "source": [
    "\\begin{align*}\n",
    "\\Rightarrow \\frac{\\exp\\big(\\beta_0^{(\\texttt{somewhat likely})}\\big)}{\\exp\\big(\\beta_0^{(\\texttt{unlikely})}\\big)} \\times\n",
    "\\frac{\\Pr(Y_i = \\texttt{very likely} \\mid X_{i, \\texttt{GPA}},X_{i, \\texttt{parent_ed}})}{\\Pr(Y_i \\leq \\texttt{somewhat likely} \\mid X_{i, \\texttt{GPA}},X_{i, \\texttt{parent_ed}})} = \\frac{\\Pr(Y_i \\geq \\texttt{somewhat likely} \\mid X_{i, \\texttt{GPA}},X_{i, \\texttt{parent_ed}})}{\\Pr(Y_i = \\texttt{unlikely} \\mid X_{i, \\texttt{GPA}},X_{i, \\texttt{parent_ed}})}\n",
    "\\end{align*}"
   ]
  },
  {
   "cell_type": "markdown",
   "metadata": {
    "slideshow": {
     "slide_type": "fragment"
    }
   },
   "source": [
    "\\begin{align*}\n",
    "\\frac{\\Pr(Y_i = \\texttt{very likely} \\mid X_{i, \\texttt{GPA}},X_{i, \\texttt{parent_ed}})}{\\Pr(Y_i \\leq \\texttt{somewhat likely} \\mid X_{i, \\texttt{GPA}},X_{i, \\texttt{parent_ed}})} \\propto \\frac{\\Pr(Y_i \\geq \\texttt{somewhat likely} \\mid X_{i, \\texttt{GPA}},X_{i, \\texttt{parent_ed}})}{\\Pr(Y_i = \\texttt{unlikely} \\mid X_{i, \\texttt{GPA}},X_{i, \\texttt{parent_ed}})},\n",
    "\\end{align*}"
   ]
  },
  {
   "cell_type": "markdown",
   "metadata": {
    "slideshow": {
     "slide_type": "fragment"
    }
   },
   "source": [
    "where the symbol $\\propto$ indicates \"*proportional to*\"."
   ]
  },
  {
   "cell_type": "markdown",
   "metadata": {
    "slideshow": {
     "slide_type": "slide"
    }
   },
   "source": [
    "### 4.3. Estimation\n",
    "\n",
    "All parameters in the ordinal logistic regression model are also unknown. The estimates are obtained through maximum likelihood, where we assume a multinomial joint probability mass function of the $n$ responses $Y_i$. To fit the model with the package `MASS`, we use the function `polr()`, which obtains the corresponding estimates. The argument `Hess = TRUE` is required to compute the Hessian matrix, which is used to obtain the standard errors of the estimates. "
   ]
  },
  {
   "cell_type": "code",
   "execution_count": 20,
   "metadata": {
    "slideshow": {
     "slide_type": "fragment"
    }
   },
   "outputs": [],
   "source": [
    "ordinal_model <- polr(decision ~ parent_ed + GPA,\n",
    "  data = college_data, Hess = TRUE\n",
    ")"
   ]
  },
  {
   "cell_type": "markdown",
   "metadata": {
    "slideshow": {
     "slide_type": "slide"
    }
   },
   "source": [
    "### 4.4. Inference"
   ]
  },
  {
   "cell_type": "markdown",
   "metadata": {
    "slideshow": {
     "slide_type": "skip"
    }
   },
   "source": [
    "We can determine whether a regressor is statistically associated with the logarithm of the odds through hypothesis testing for the parameters $\\beta_j$. We also use the Wald statistic $z_j$:\n",
    "\n",
    "\\begin{equation*}\n",
    "z_j = \\frac{\\hat{\\beta}_j}{\\mbox{se}(\\hat{\\beta}_j)}\n",
    "\\end{equation*}\n",
    "\n",
    "to test the hypotheses\n",
    "\n",
    "\\begin{gather*}\n",
    "H_0: \\beta_j = 0\\\\\n",
    "H_a: \\beta_j \\neq 0.\n",
    "\\end{gather*}"
   ]
  },
  {
   "cell_type": "markdown",
   "metadata": {
    "slideshow": {
     "slide_type": "skip"
    }
   },
   "source": [
    "The null hypothesis $H_0$ indicates that the $j$th regressor associated to $\\beta_j$ does not affect the response variable in the model, and the alternative hypothesis $H_a$ otherwise.\n",
    "\n",
    "The software provides the corresponding $p$-values for each $\\beta_j$. The smaller the $p$-value, the stronger the evidence against the null hypothesis $H_0$. As in the previous regression models, we would set a predetermined significance level $\\alpha$ (usually taken to be 0.05 or 0.1) to infer if the $p$-value is small enough. If the $p$-value is smaller than the predetermined level $\\alpha$, then you could claim that there is evidence to reject the null hypothesis. Hence, $p$-values that are small enough indicate that the data provides evidence in favour of association between the response variable and the $j$th regressor.\n",
    "\n",
    "Furthermore, given a specified level of confidence where $\\alpha$ is the significance level, we can construct approximate $(1 - \\alpha) \\times 100\\%$ confidence intervals for the corresponding true value of $\\beta_j$:\n",
    "\n",
    "\\begin{equation*}\n",
    "\\hat{\\beta}_j \\pm z_{\\alpha/2}\\mbox{se}(\\hat{\\beta}_j),\n",
    "\\end{equation*}\n",
    "\n",
    "where $z_{\\alpha/2}$ is the upper $\\alpha/2$ quantile of the standard normal distribution."
   ]
  },
  {
   "cell_type": "markdown",
   "metadata": {
    "slideshow": {
     "slide_type": "fragment"
    }
   },
   "source": [
    "The function `polr()` does not provide $p$-values, but we can compute them as follows:"
   ]
  },
  {
   "cell_type": "code",
   "execution_count": 21,
   "metadata": {
    "slideshow": {
     "slide_type": "slide"
    }
   },
   "outputs": [
    {
     "data": {
      "text/html": [
       "<table>\n",
       "<caption>A data.frame: 4 × 6</caption>\n",
       "<thead>\n",
       "\t<tr><th scope=col>term</th><th scope=col>estimate</th><th scope=col>std.error</th><th scope=col>statistic</th><th scope=col>coef.type</th><th scope=col>p.value</th></tr>\n",
       "\t<tr><th scope=col>&lt;chr&gt;</th><th scope=col>&lt;dbl&gt;</th><th scope=col>&lt;dbl&gt;</th><th scope=col>&lt;dbl&gt;</th><th scope=col>&lt;chr&gt;</th><th scope=col>&lt;dbl&gt;</th></tr>\n",
       "</thead>\n",
       "<tbody>\n",
       "\t<tr><td>parent_edYes               </td><td>1.05</td><td>0.27</td><td>3.94</td><td>coefficient</td><td>0.00</td></tr>\n",
       "\t<tr><td>GPA                        </td><td>0.60</td><td>0.25</td><td>2.38</td><td>coefficient</td><td>0.02</td></tr>\n",
       "\t<tr><td>unlikely|somewhat likely   </td><td>2.18</td><td>0.77</td><td>2.84</td><td>scale      </td><td>0.00</td></tr>\n",
       "\t<tr><td>somewhat likely|very likely</td><td>4.27</td><td>0.79</td><td>5.39</td><td>scale      </td><td>0.00</td></tr>\n",
       "</tbody>\n",
       "</table>\n"
      ],
      "text/latex": [
       "A data.frame: 4 × 6\n",
       "\\begin{tabular}{llllll}\n",
       " term & estimate & std.error & statistic & coef.type & p.value\\\\\n",
       " <chr> & <dbl> & <dbl> & <dbl> & <chr> & <dbl>\\\\\n",
       "\\hline\n",
       "\t parent\\_edYes                & 1.05 & 0.27 & 3.94 & coefficient & 0.00\\\\\n",
       "\t GPA                         & 0.60 & 0.25 & 2.38 & coefficient & 0.02\\\\\n",
       "\t unlikely\\textbar{}somewhat likely    & 2.18 & 0.77 & 2.84 & scale       & 0.00\\\\\n",
       "\t somewhat likely\\textbar{}very likely & 4.27 & 0.79 & 5.39 & scale       & 0.00\\\\\n",
       "\\end{tabular}\n"
      ],
      "text/markdown": [
       "\n",
       "A data.frame: 4 × 6\n",
       "\n",
       "| term &lt;chr&gt; | estimate &lt;dbl&gt; | std.error &lt;dbl&gt; | statistic &lt;dbl&gt; | coef.type &lt;chr&gt; | p.value &lt;dbl&gt; |\n",
       "|---|---|---|---|---|---|\n",
       "| parent_edYes                | 1.05 | 0.27 | 3.94 | coefficient | 0.00 |\n",
       "| GPA                         | 0.60 | 0.25 | 2.38 | coefficient | 0.02 |\n",
       "| unlikely|somewhat likely    | 2.18 | 0.77 | 2.84 | scale       | 0.00 |\n",
       "| somewhat likely|very likely | 4.27 | 0.79 | 5.39 | scale       | 0.00 |\n",
       "\n"
      ],
      "text/plain": [
       "  term                        estimate std.error statistic coef.type   p.value\n",
       "1 parent_edYes                1.05     0.27      3.94      coefficient 0.00   \n",
       "2 GPA                         0.60     0.25      2.38      coefficient 0.02   \n",
       "3 unlikely|somewhat likely    2.18     0.77      2.84      scale       0.00   \n",
       "4 somewhat likely|very likely 4.27     0.79      5.39      scale       0.00   "
      ]
     },
     "metadata": {},
     "output_type": "display_data"
    }
   ],
   "source": [
    "summary_ordinal_model <- cbind(tidy(ordinal_model),\n",
    "  p.value = pnorm(abs(tidy(ordinal_model)$statistic),\n",
    "    lower.tail = FALSE\n",
    "  ) * 2\n",
    ") %>%\n",
    "  mutate_if(is.numeric, round, 2)\n",
    "summary_ordinal_model"
   ]
  },
  {
   "cell_type": "markdown",
   "metadata": {
    "slideshow": {
     "slide_type": "fragment"
    }
   },
   "source": [
    "The terms `unlikely|somewhat likely` and `somewhat likely|very likely` refer to the estimated intercepts $\\hat{\\beta}_0^{(\\texttt{unlikely})}$ and $\\hat{\\beta}_0^{(\\texttt{somewhat likely})}$, respectively (note the hat notation)."
   ]
  },
  {
   "cell_type": "markdown",
   "metadata": {
    "slideshow": {
     "slide_type": "slide"
    }
   },
   "source": [
    "Finally, we see that the coefficients associated with `GPA` and `parent_ed` are statistically significant with $\\alpha = 0.05$."
   ]
  },
  {
   "cell_type": "markdown",
   "metadata": {
    "slideshow": {
     "slide_type": "fragment"
    }
   },
   "source": [
    "The function `confint()` can provide the 95% confidence intervals for the estimates contained in `tidy()`."
   ]
  },
  {
   "cell_type": "code",
   "execution_count": 22,
   "metadata": {
    "slideshow": {
     "slide_type": "fragment"
    }
   },
   "outputs": [
    {
     "name": "stderr",
     "output_type": "stream",
     "text": [
      "Waiting for profiling to be done...\n",
      "\n"
     ]
    },
    {
     "data": {
      "text/html": [
       "<table>\n",
       "<caption>A matrix: 2 × 2 of type dbl</caption>\n",
       "<thead>\n",
       "\t<tr><th></th><th scope=col>2.5 %</th><th scope=col>97.5 %</th></tr>\n",
       "</thead>\n",
       "<tbody>\n",
       "\t<tr><th scope=row>parent_edYes</th><td>0.53</td><td>1.57</td></tr>\n",
       "\t<tr><th scope=row>GPA</th><td>0.11</td><td>1.11</td></tr>\n",
       "</tbody>\n",
       "</table>\n"
      ],
      "text/latex": [
       "A matrix: 2 × 2 of type dbl\n",
       "\\begin{tabular}{r|ll}\n",
       "  & 2.5 \\% & 97.5 \\%\\\\\n",
       "\\hline\n",
       "\tparent\\_edYes & 0.53 & 1.57\\\\\n",
       "\tGPA & 0.11 & 1.11\\\\\n",
       "\\end{tabular}\n"
      ],
      "text/markdown": [
       "\n",
       "A matrix: 2 × 2 of type dbl\n",
       "\n",
       "| <!--/--> | 2.5 % | 97.5 % |\n",
       "|---|---|---|\n",
       "| parent_edYes | 0.53 | 1.57 |\n",
       "| GPA | 0.11 | 1.11 |\n",
       "\n"
      ],
      "text/plain": [
       "             2.5 % 97.5 %\n",
       "parent_edYes 0.53  1.57  \n",
       "GPA          0.11  1.11  "
      ]
     },
     "metadata": {},
     "output_type": "display_data"
    }
   ],
   "source": [
    "round(confint(ordinal_model), 2)"
   ]
  },
  {
   "cell_type": "markdown",
   "metadata": {
    "slideshow": {
     "slide_type": "slide"
    }
   },
   "source": [
    "### 4.5. Coefficient Interpretation and Prediction"
   ]
  },
  {
   "cell_type": "markdown",
   "metadata": {
    "slideshow": {
     "slide_type": "fragment"
    }
   },
   "source": [
    "The interpretation of the ordinal logistic regression coefficients will change since we are modelling cumulative probabilities. Let us interpret the association of `decision` with `GPA` and `parent_ed`."
   ]
  },
  {
   "cell_type": "code",
   "execution_count": 23,
   "metadata": {
    "slideshow": {
     "slide_type": "fragment"
    }
   },
   "outputs": [
    {
     "data": {
      "text/html": [
       "<table>\n",
       "<caption>A tibble: 2 × 3</caption>\n",
       "<thead>\n",
       "\t<tr><th scope=col>term</th><th scope=col>estimate</th><th scope=col>exp.estimate</th></tr>\n",
       "\t<tr><th scope=col>&lt;chr&gt;</th><th scope=col>&lt;dbl&gt;</th><th scope=col>&lt;dbl&gt;</th></tr>\n",
       "</thead>\n",
       "<tbody>\n",
       "\t<tr><td>parent_edYes</td><td>1.05</td><td>2.86</td></tr>\n",
       "\t<tr><td>GPA         </td><td>0.60</td><td>1.82</td></tr>\n",
       "</tbody>\n",
       "</table>\n"
      ],
      "text/latex": [
       "A tibble: 2 × 3\n",
       "\\begin{tabular}{lll}\n",
       " term & estimate & exp.estimate\\\\\n",
       " <chr> & <dbl> & <dbl>\\\\\n",
       "\\hline\n",
       "\t parent\\_edYes & 1.05 & 2.86\\\\\n",
       "\t GPA          & 0.60 & 1.82\\\\\n",
       "\\end{tabular}\n"
      ],
      "text/markdown": [
       "\n",
       "A tibble: 2 × 3\n",
       "\n",
       "| term &lt;chr&gt; | estimate &lt;dbl&gt; | exp.estimate &lt;dbl&gt; |\n",
       "|---|---|---|\n",
       "| parent_edYes | 1.05 | 2.86 |\n",
       "| GPA          | 0.60 | 1.82 |\n",
       "\n"
      ],
      "text/plain": [
       "  term         estimate exp.estimate\n",
       "1 parent_edYes 1.05     2.86        \n",
       "2 GPA          0.60     1.82        "
      ]
     },
     "metadata": {},
     "output_type": "display_data"
    }
   ],
   "source": [
    "tibble(summary_ordinal_model[1:2, 1:2], exp.estimate = round(exp(summary_ordinal_model[1:2, 2]), 2))"
   ]
  },
  {
   "cell_type": "markdown",
   "metadata": {
    "slideshow": {
     "slide_type": "slide"
    }
   },
   "source": [
    "By using the column `exp.estimate`, **along with the model equations on the original scale of the odds**, we interpret the two slopes above **by each odds** as follows:"
   ]
  },
  {
   "cell_type": "markdown",
   "metadata": {
    "slideshow": {
     "slide_type": "slide"
    }
   },
   "source": [
    "- For the odds $\\frac{\\Pr(Y_i = \\texttt{very likely} \\mid X_{i, \\texttt{GPA}},X_{i, \\texttt{parent_ed}})}{\\Pr(Y_i \\leq \\texttt{somewhat likely} \\mid X_{i, \\texttt{GPA}},X_{i, \\texttt{parent_ed}})}$:\n",
    "\n",
    "    - $\\beta_1$: \"*for each one-unit increase in the `GPA`, the odds that the student is `very likely`  versus `somewhat likely` or `unlikely` to apply to graduate school increase by 1.82 times (while holding `parent_ed` constant)*.\"\n",
    "    - $\\beta_2$: \"*for those respondents whose parents attended to graduate school, the odds that the student is `very likely`  versus `somewhat likely` or `unlikely` to apply to graduate school increase by 2.86 times (when compared to those respondents whose parents did not attend to graduate school and holding `GPA` constant)*.\""
   ]
  },
  {
   "cell_type": "markdown",
   "metadata": {
    "slideshow": {
     "slide_type": "slide"
    }
   },
   "source": [
    "- For the odds $\\frac{\\Pr(Y_i \\geq \\texttt{somewhat likely} \\mid X_{i, \\texttt{GPA}},X_{i, \\texttt{parent_ed}})}{\\Pr(Y_i = \\texttt{unlikely} \\mid X_{i, \\texttt{GPA}},X_{i, \\texttt{parent_ed}})}$:\n",
    "\n",
    "    - $\\beta_1$: \"*for each one-unit increase in the `GPA`, the odds that the student is `very likely` or `somewhat likely` versus `unlikely` to apply to graduate school increase by 1.82 times (while holding `parent_ed` constant)*.\"\n",
    "    - $\\beta_2$: \"*for those respondents whose parents attended to graduate school, the odds that the student is `very likely`  or `somewhat likely` versus `unlikely` to apply to graduate school increase by 2.86 times (when compared to those respondents whose parents did not attend to graduate school and holding `GPA` constant)*.\""
   ]
  },
  {
   "cell_type": "markdown",
   "metadata": {
    "slideshow": {
     "slide_type": "slide"
    }
   },
   "source": [
    "### Can We Predict Probabilities For Classification Purposes? What about Cumulative Odds?\n",
    "\n",
    "Using the function `predict()` with the object `ordinal_model`, obtain the estimated probabilities to apply to graduate school (associated to `unlikely`, `somewhat likely`, and `very likely`) for a student with a `GPA` of 3.5 whose parents attended to graduate school."
   ]
  },
  {
   "cell_type": "code",
   "execution_count": 28,
   "metadata": {
    "slideshow": {
     "slide_type": "skip"
    }
   },
   "outputs": [
    {
     "data": {
      "text/html": [
       "<style>\n",
       ".dl-inline {width: auto; margin:0; padding: 0}\n",
       ".dl-inline>dt, .dl-inline>dd {float: none; width: auto; display: inline-block}\n",
       ".dl-inline>dt::after {content: \":\\0020\"; padding-right: .5ex}\n",
       ".dl-inline>dt:not(:first-of-type) {padding-left: .5ex}\n",
       "</style><dl class=dl-inline><dt>unlikely</dt><dd>0.27</dd><dt>somewhat likely</dt><dd>0.48</dd><dt>very likely</dt><dd>0.25</dd></dl>\n"
      ],
      "text/latex": [
       "\\begin{description*}\n",
       "\\item[unlikely] 0.27\n",
       "\\item[somewhat likely] 0.48\n",
       "\\item[very likely] 0.25\n",
       "\\end{description*}\n"
      ],
      "text/markdown": [
       "unlikely\n",
       ":   0.27somewhat likely\n",
       ":   0.48very likely\n",
       ":   0.25\n",
       "\n"
      ],
      "text/plain": [
       "       unlikely somewhat likely     very likely \n",
       "           0.27            0.48            0.25 "
      ]
     },
     "metadata": {},
     "output_type": "display_data"
    }
   ],
   "source": [
    "round(predict(ordinal_model, tibble(GPA = 3.5, parent_ed = \"Yes\"), type = \"probs\"), 2)"
   ]
  },
  {
   "cell_type": "markdown",
   "metadata": {
    "slideshow": {
     "slide_type": "skip"
    }
   },
   "source": [
    "We can see that it is `somewhat likely` to apply to graduate school with a probability of 0.48. Thus, we could classify the student in this ordinal category."
   ]
  },
  {
   "cell_type": "markdown",
   "metadata": {},
   "source": [
    "Unfortunately, `predict()` with `polr()` does not provide a quick way to compute this model's corresponding predicted cumulative odds for a new observation. Nonetheless, we could use `vglm()` again while keeping in mind that **this function labels the response categories as numbers**. Let us check this for `decision` with `levels()`."
   ]
  },
  {
   "cell_type": "code",
   "execution_count": 54,
   "metadata": {},
   "outputs": [
    {
     "data": {
      "text/html": [
       "<style>\n",
       ".list-inline {list-style: none; margin:0; padding: 0}\n",
       ".list-inline>li {display: inline-block}\n",
       ".list-inline>li:not(:last-child)::after {content: \"\\00b7\"; padding: 0 .5ex}\n",
       "</style>\n",
       "<ol class=list-inline><li>'unlikely'</li><li>'somewhat likely'</li><li>'very likely'</li></ol>\n"
      ],
      "text/latex": [
       "\\begin{enumerate*}\n",
       "\\item 'unlikely'\n",
       "\\item 'somewhat likely'\n",
       "\\item 'very likely'\n",
       "\\end{enumerate*}\n"
      ],
      "text/markdown": [
       "1. 'unlikely'\n",
       "2. 'somewhat likely'\n",
       "3. 'very likely'\n",
       "\n",
       "\n"
      ],
      "text/plain": [
       "[1] \"unlikely\"        \"somewhat likely\" \"very likely\"    "
      ]
     },
     "metadata": {},
     "output_type": "display_data"
    }
   ],
   "source": [
    "levels(college_data$decision)"
   ]
  },
  {
   "cell_type": "markdown",
   "metadata": {},
   "source": [
    "Hence, `unlikely` is `1`, `somewhat likely` is `2`, and `very likely` is `3`. Now, let us use `vglm()` with `propodds` to fit the same model (named `ordinal_model_vglm`) as follows:"
   ]
  },
  {
   "cell_type": "code",
   "execution_count": 55,
   "metadata": {},
   "outputs": [],
   "source": [
    "ordinal_model_vglm <- vglm(decision ~ parent_ed + GPA, propodds,\n",
    "  data = college_data)"
   ]
  },
  {
   "cell_type": "markdown",
   "metadata": {},
   "source": [
    "We will double-check whether `ordinal_model_vglm` provides the same classification probabilities via `predict()`. Note that the function parameterization changes to `type = \"response\"`."
   ]
  },
  {
   "cell_type": "code",
   "execution_count": 56,
   "metadata": {},
   "outputs": [
    {
     "data": {
      "text/html": [
       "<table>\n",
       "<caption>A matrix: 1 × 3 of type dbl</caption>\n",
       "<thead>\n",
       "\t<tr><th></th><th scope=col>unlikely</th><th scope=col>somewhat likely</th><th scope=col>very likely</th></tr>\n",
       "</thead>\n",
       "<tbody>\n",
       "\t<tr><th scope=row>1</th><td>0.27</td><td>0.48</td><td>0.25</td></tr>\n",
       "</tbody>\n",
       "</table>\n"
      ],
      "text/latex": [
       "A matrix: 1 × 3 of type dbl\n",
       "\\begin{tabular}{r|lll}\n",
       "  & unlikely & somewhat likely & very likely\\\\\n",
       "\\hline\n",
       "\t1 & 0.27 & 0.48 & 0.25\\\\\n",
       "\\end{tabular}\n"
      ],
      "text/markdown": [
       "\n",
       "A matrix: 1 × 3 of type dbl\n",
       "\n",
       "| <!--/--> | unlikely | somewhat likely | very likely |\n",
       "|---|---|---|---|\n",
       "| 1 | 0.27 | 0.48 | 0.25 |\n",
       "\n"
      ],
      "text/plain": [
       "  unlikely somewhat likely very likely\n",
       "1 0.27     0.48            0.25       "
      ]
     },
     "metadata": {},
     "output_type": "display_data"
    }
   ],
   "source": [
    "round(predict(ordinal_model_vglm, tibble(GPA = 3.5, parent_ed = \"Yes\"), type = \"response\"), 2)"
   ]
  },
  {
   "cell_type": "markdown",
   "metadata": {},
   "source": [
    "Yes, we get identical results using `vglm()`. Now, let us use `predict()` with `ordinal_model_vglm` to obtain the predicted cumulative odds for a student with a `GPA` of 3.5 whose parents attended to graduate school (via argument `type = \"link\"` in `predict()`)."
   ]
  },
  {
   "cell_type": "code",
   "execution_count": 57,
   "metadata": {},
   "outputs": [
    {
     "data": {
      "text/html": [
       "<table>\n",
       "<caption>A matrix: 1 × 2 of type dbl</caption>\n",
       "<thead>\n",
       "\t<tr><th></th><th scope=col>logitlink(P[Y&gt;=2])</th><th scope=col>logitlink(P[Y&gt;=3])</th></tr>\n",
       "</thead>\n",
       "<tbody>\n",
       "\t<tr><th scope=row>1</th><td>0.98</td><td>-1.11</td></tr>\n",
       "</tbody>\n",
       "</table>\n"
      ],
      "text/latex": [
       "A matrix: 1 × 2 of type dbl\n",
       "\\begin{tabular}{r|ll}\n",
       "  & logitlink(P{[}Y>=2{]}) & logitlink(P{[}Y>=3{]})\\\\\n",
       "\\hline\n",
       "\t1 & 0.98 & -1.11\\\\\n",
       "\\end{tabular}\n"
      ],
      "text/markdown": [
       "\n",
       "A matrix: 1 × 2 of type dbl\n",
       "\n",
       "| <!--/--> | logitlink(P[Y&gt;=2]) | logitlink(P[Y&gt;=3]) |\n",
       "|---|---|---|\n",
       "| 1 | 0.98 | -1.11 |\n",
       "\n"
      ],
      "text/plain": [
       "  logitlink(P[Y>=2]) logitlink(P[Y>=3])\n",
       "1 0.98               -1.11             "
      ]
     },
     "metadata": {},
     "output_type": "display_data"
    }
   ],
   "source": [
    "round(predict(ordinal_model_vglm, tibble(GPA = 3.5, parent_ed = \"Yes\"), type = \"link\"), 2)"
   ]
  },
  {
   "cell_type": "markdown",
   "metadata": {},
   "source": [
    "Then, let us take these predictions to the odds' original scale via `exp()`."
   ]
  },
  {
   "cell_type": "code",
   "execution_count": 59,
   "metadata": {},
   "outputs": [
    {
     "data": {
      "text/html": [
       "<table>\n",
       "<caption>A matrix: 1 × 2 of type dbl</caption>\n",
       "<thead>\n",
       "\t<tr><th></th><th scope=col>logitlink(P[Y&gt;=2])</th><th scope=col>logitlink(P[Y&gt;=3])</th></tr>\n",
       "</thead>\n",
       "<tbody>\n",
       "\t<tr><th scope=row>1</th><td>2.68</td><td>0.33</td></tr>\n",
       "</tbody>\n",
       "</table>\n"
      ],
      "text/latex": [
       "A matrix: 1 × 2 of type dbl\n",
       "\\begin{tabular}{r|ll}\n",
       "  & logitlink(P{[}Y>=2{]}) & logitlink(P{[}Y>=3{]})\\\\\n",
       "\\hline\n",
       "\t1 & 2.68 & 0.33\\\\\n",
       "\\end{tabular}\n"
      ],
      "text/markdown": [
       "\n",
       "A matrix: 1 × 2 of type dbl\n",
       "\n",
       "| <!--/--> | logitlink(P[Y&gt;=2]) | logitlink(P[Y&gt;=3]) |\n",
       "|---|---|---|\n",
       "| 1 | 2.68 | 0.33 |\n",
       "\n"
      ],
      "text/plain": [
       "  logitlink(P[Y>=2]) logitlink(P[Y>=3])\n",
       "1 2.68               0.33              "
      ]
     },
     "metadata": {},
     "output_type": "display_data"
    }
   ],
   "source": [
    "round(exp(predict(ordinal_model_vglm, tibble(GPA = 3.5, parent_ed = \"Yes\"), type = \"link\")), 2)"
   ]
  },
  {
   "cell_type": "markdown",
   "metadata": {},
   "source": [
    "Again, we see the numeric labels (a drawback of using `vglm()`). We interpret these predictions as follows:\n",
    "\n",
    "- $\\frac{\\Pr(Y_i = \\texttt{very likely} \\mid X_{i, \\texttt{GPA}},X_{i, \\texttt{parent_ed}})}{\\Pr(Y_i \\leq \\texttt{somewhat likely} \\mid X_{i, \\texttt{GPA}},X_{i, \\texttt{parent_ed}})}$, i.e., `P[Y>=3]` (label `3`, `very likely`): \"*a student, with a `GPA` of 3.5 whose parents attended to graduate school, is 3.03 ($1 / 0.33$) times `somewhat likely` or `unlikely` versus `very likely` to apply to graduate school*.\" This prediction goes in line with the predicted probabilities above, given that `somewhat likely` has a probability of 0.48 and `unlikely` a probability of 0.27.\n",
    "\n",
    "- $\\frac{\\Pr(Y_i \\geq \\texttt{somewhat likely} \\mid X_{i, \\texttt{GPA}},X_{i, \\texttt{parent_ed}})}{\\Pr(Y_i = \\texttt{unlikely} \\mid X_{i, \\texttt{GPA}},X_{i, \\texttt{parent_ed}})}$, i.e., `P[Y>=2]` (label `2`, ` somewhat likely`): \"*a student, with a `GPA` of 3.5 whose parents attended to graduate school, is 2.68 times `very likely` or `somewhat likely` versus `unlikely` to apply to graduate school*.\" This prediction goes in line with the predicted probabilities above, given that `somewhat likely` has a probability of 0.48 and ` very likely` a probability of 0.25."
   ]
  }
 ],
 "metadata": {
  "celltoolbar": "Slideshow",
  "kernelspec": {
   "display_name": "R",
   "language": "R",
   "name": "ir"
  },
  "language_info": {
   "codemirror_mode": "r",
   "file_extension": ".r",
   "mimetype": "text/x-r-source",
   "name": "R",
   "pygments_lexer": "r",
   "version": "4.0.3"
  },
  "latex_envs": {
   "LaTeX_envs_menu_present": true,
   "autoclose": false,
   "autocomplete": true,
   "bibliofile": "biblio.bib",
   "cite_by": "apalike",
   "current_citInitial": 1,
   "eqLabelWithNumbers": true,
   "eqNumInitial": 1,
   "hotkeys": {
    "equation": "Ctrl-E",
    "itemize": "Ctrl-I"
   },
   "labels_anchors": false,
   "latex_user_defs": false,
   "report_style_numbering": false,
   "user_envs_cfg": false
  }
 },
 "nbformat": 4,
 "nbformat_minor": 4
}
